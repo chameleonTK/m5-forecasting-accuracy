{
 "cells": [
  {
   "cell_type": "markdown",
   "metadata": {
    "colab_type": "text",
    "id": "2Jdmg_AFynhg"
   },
   "source": [
    "# Set up LightGBM on GPU"
   ]
  },
  {
   "cell_type": "code",
   "execution_count": 1,
   "metadata": {
    "colab": {
     "base_uri": "https://localhost:8080/",
     "height": 277
    },
    "colab_type": "code",
    "executionInfo": {
     "elapsed": 13131,
     "status": "ok",
     "timestamp": 1589284804542,
     "user": {
      "displayName": "Pakawat Nakwijit",
      "photoUrl": "https://lh3.googleusercontent.com/a-/AOh14Giz1tosO6ue4YIwI_BWdWqU-R0kipZPrUw2DtS0=s64",
      "userId": "14261168557301921642"
     },
     "user_tz": -420
    },
    "id": "uK9gzt5nzAEv",
    "outputId": "2c8dd5f8-8edf-4dd4-e20f-d480a6869c09"
   },
   "outputs": [],
   "source": [
    "# !rm -r /opt/conda/lib/python3.6/site-packages/lightgbm\n",
    "# !git clone --recursive https://github.com/Microsoft/LightGBM\n"
   ]
  },
  {
   "cell_type": "code",
   "execution_count": null,
   "metadata": {
    "colab": {},
    "colab_type": "code",
    "id": "0AtlAp3lSigd"
   },
   "outputs": [],
   "source": [
    "# %%bash\n",
    "# cd LightGBM\n",
    "# mkdir build ; cd build\n",
    "# cmake ..\n",
    "# make -j4"
   ]
  },
  {
   "cell_type": "code",
   "execution_count": 2,
   "metadata": {
    "colab": {},
    "colab_type": "code",
    "id": "iHERYSHKzI9Z"
   },
   "outputs": [],
   "source": [
    "# !apt-get install -y -qq libboost-all-dev"
   ]
  },
  {
   "cell_type": "code",
   "execution_count": 3,
   "metadata": {
    "colab": {
     "base_uri": "https://localhost:8080/",
     "height": 1000
    },
    "colab_type": "code",
    "executionInfo": {
     "elapsed": 150073,
     "status": "ok",
     "timestamp": 1589284953382,
     "user": {
      "displayName": "Pakawat Nakwijit",
      "photoUrl": "https://lh3.googleusercontent.com/a-/AOh14Giz1tosO6ue4YIwI_BWdWqU-R0kipZPrUw2DtS0=s64",
      "userId": "14261168557301921642"
     },
     "user_tz": -420
    },
    "id": "e82nNM7uzQ6m",
    "outputId": "4361f042-3c13-49df-f52c-f2b5488537a6"
   },
   "outputs": [],
   "source": [
    "# %%bash\n",
    "# cd LightGBM\n",
    "# rm -r build\n",
    "# mkdir build\n",
    "# cd build\n",
    "# cmake -DUSE_GPU=1 -DOpenCL_LIBRARY=/usr/local/cuda/lib64/libOpenCL.so -DOpenCL_INCLUDE_DIR=/usr/local/cuda/include/ ..\n",
    "# make -j$(nproc)\n"
   ]
  },
  {
   "cell_type": "code",
   "execution_count": 4,
   "metadata": {
    "colab": {
     "base_uri": "https://localhost:8080/",
     "height": 1000
    },
    "colab_type": "code",
    "executionInfo": {
     "elapsed": 151236,
     "status": "ok",
     "timestamp": 1589284957019,
     "user": {
      "displayName": "Pakawat Nakwijit",
      "photoUrl": "https://lh3.googleusercontent.com/a-/AOh14Giz1tosO6ue4YIwI_BWdWqU-R0kipZPrUw2DtS0=s64",
      "userId": "14261168557301921642"
     },
     "user_tz": -420
    },
    "id": "a-gISU6wzgl5",
    "outputId": "fa670e6f-be82-492a-c8bd-3d4c4cfd1475"
   },
   "outputs": [],
   "source": [
    "# !cd LightGBM/python-package/;python3 setup.py install --precompile"
   ]
  },
  {
   "cell_type": "code",
   "execution_count": null,
   "metadata": {
    "colab": {},
    "colab_type": "code",
    "id": "gMcuo1THzmGg"
   },
   "outputs": [],
   "source": [
    "# !mkdir -p /etc/OpenCL/vendors && echo \"libnvidia-opencl.so.1\" > /etc/OpenCL/vendors/nvidia.icd\n",
    "# !rm -r LightGBM"
   ]
  },
  {
   "cell_type": "markdown",
   "metadata": {
    "colab_type": "text",
    "id": "rka2BDD00f3m"
   },
   "source": [
    "# Running Model"
   ]
  },
  {
   "cell_type": "code",
   "execution_count": 1,
   "metadata": {
    "colab": {},
    "colab_type": "code",
    "executionInfo": {
     "elapsed": 1841,
     "status": "ok",
     "timestamp": 1592448753048,
     "user": {
      "displayName": "Pakawat NAKWIJIT",
      "photoUrl": "https://lh3.googleusercontent.com/a-/AOh14GiquOygeytgA5lxJCtO2dXyXm9wBw5lRlG43yd5=s64",
      "userId": "16398521879664391558"
     },
     "user_tz": -420
    },
    "id": "9_A05G46w1-p"
   },
   "outputs": [],
   "source": [
    "from  datetime import datetime, timedelta\n",
    "import gc\n",
    "import numpy as np, pandas as pd\n",
    "import lightgbm as lgb"
   ]
  },
  {
   "cell_type": "code",
   "execution_count": 2,
   "metadata": {
    "colab": {},
    "colab_type": "code",
    "executionInfo": {
     "elapsed": 1379,
     "status": "ok",
     "timestamp": 1592448753049,
     "user": {
      "displayName": "Pakawat NAKWIJIT",
      "photoUrl": "https://lh3.googleusercontent.com/a-/AOh14GiquOygeytgA5lxJCtO2dXyXm9wBw5lRlG43yd5=s64",
      "userId": "16398521879664391558"
     },
     "user_tz": -420
    },
    "id": "VSfXWx8kw1-t"
   },
   "outputs": [],
   "source": [
    "def reduce_mem_usage(df, verbose=True):\n",
    "    numerics = ['int16', 'int32', 'int64', 'float16', 'float32', 'float64']\n",
    "    start_mem = df.memory_usage().sum() / 1024**2    \n",
    "    for col in df.columns: #columns毎に処理\n",
    "        col_type = df[col].dtypes\n",
    "        if col_type in numerics: \n",
    "            c_min = df[col].min()\n",
    "            c_max = df[col].max()\n",
    "            if str(col_type)[:3] == 'int':\n",
    "                if c_min > np.iinfo(np.int8).min and c_max < np.iinfo(np.int8).max:\n",
    "                    df[col] = df[col].astype(np.int8)\n",
    "                elif c_min > np.iinfo(np.int16).min and c_max < np.iinfo(np.int16).max:\n",
    "                    df[col] = df[col].astype(np.int16)\n",
    "                elif c_min > np.iinfo(np.int32).min and c_max < np.iinfo(np.int32).max:\n",
    "                    df[col] = df[col].astype(np.int32)\n",
    "                elif c_min > np.iinfo(np.int64).min and c_max < np.iinfo(np.int64).max:\n",
    "                    df[col] = df[col].astype(np.int64)  \n",
    "            else:\n",
    "                if c_min > np.finfo(np.float16).min and c_max < np.finfo(np.float16).max:\n",
    "                    df[col] = df[col].astype(np.float16)\n",
    "                elif c_min > np.finfo(np.float32).min and c_max < np.finfo(np.float32).max:\n",
    "                    df[col] = df[col].astype(np.float32)\n",
    "                else:\n",
    "                    df[col] = df[col].astype(np.float64)    \n",
    "    end_mem = df.memory_usage().sum() / 1024**2\n",
    "    if verbose: print('Mem. usage decreased to {:5.2f} Mb ({:.1f}% reduction)'.format(end_mem, 100 * (start_mem - end_mem) / start_mem))\n",
    "    return df"
   ]
  },
  {
   "cell_type": "code",
   "execution_count": 3,
   "metadata": {
    "colab": {},
    "colab_type": "code",
    "executionInfo": {
     "elapsed": 848,
     "status": "ok",
     "timestamp": 1592448753779,
     "user": {
      "displayName": "Pakawat NAKWIJIT",
      "photoUrl": "https://lh3.googleusercontent.com/a-/AOh14GiquOygeytgA5lxJCtO2dXyXm9wBw5lRlG43yd5=s64",
      "userId": "16398521879664391558"
     },
     "user_tz": -420
    },
    "id": "8dC7OAXXw1-w"
   },
   "outputs": [],
   "source": [
    "pd.options.display.max_columns = 50"
   ]
  },
  {
   "cell_type": "code",
   "execution_count": 4,
   "metadata": {
    "colab": {},
    "colab_type": "code",
    "executionInfo": {
     "elapsed": 2114,
     "status": "ok",
     "timestamp": 1592448755324,
     "user": {
      "displayName": "Pakawat NAKWIJIT",
      "photoUrl": "https://lh3.googleusercontent.com/a-/AOh14GiquOygeytgA5lxJCtO2dXyXm9wBw5lRlG43yd5=s64",
      "userId": "16398521879664391558"
     },
     "user_tz": -420
    },
    "id": "U6vFHQeJH3aL"
   },
   "outputs": [],
   "source": [
    "VERSION=15"
   ]
  },
  {
   "cell_type": "markdown",
   "metadata": {
    "colab_type": "text",
    "id": "rSMdOOfaw1-y"
   },
   "source": [
    "# Load datasets"
   ]
  },
  {
   "cell_type": "code",
   "execution_count": 5,
   "metadata": {
    "colab": {
     "base_uri": "https://localhost:8080/",
     "height": 35
    },
    "colab_type": "code",
    "executionInfo": {
     "elapsed": 701,
     "status": "ok",
     "timestamp": 1592448755921,
     "user": {
      "displayName": "Pakawat NAKWIJIT",
      "photoUrl": "https://lh3.googleusercontent.com/a-/AOh14GiquOygeytgA5lxJCtO2dXyXm9wBw5lRlG43yd5=s64",
      "userId": "16398521879664391558"
     },
     "user_tz": -420
    },
    "id": "0TgB6jf_0mri",
    "outputId": "033e8f5f-5b4e-4213-f77d-3e281e2c18ad"
   },
   "outputs": [
    {
     "name": "stdout",
     "output_type": "stream",
     "text": [
      "Drive already mounted at /content/drive; to attempt to forcibly remount, call drive.mount(\"/content/drive\", force_remount=True).\n"
     ]
    }
   ],
   "source": [
    "from google.colab import drive\n",
    "drive.mount('/content/drive')"
   ]
  },
  {
   "cell_type": "code",
   "execution_count": 70,
   "metadata": {
    "colab": {
     "base_uri": "https://localhost:8080/",
     "height": 121
    },
    "colab_type": "code",
    "executionInfo": {
     "elapsed": 12595,
     "status": "ok",
     "timestamp": 1592450233027,
     "user": {
      "displayName": "Pakawat NAKWIJIT",
      "photoUrl": "https://lh3.googleusercontent.com/a-/AOh14GiquOygeytgA5lxJCtO2dXyXm9wBw5lRlG43yd5=s64",
      "userId": "16398521879664391558"
     },
     "user_tz": -420
    },
    "id": "IoLgEEpzw1-z",
    "outputId": "ab544d96-584e-4750-d111-2c55687098ec"
   },
   "outputs": [
    {
     "name": "stdout",
     "output_type": "stream",
     "text": [
      "Mem. usage decreased to  0.12 Mb (41.9% reduction)\n",
      "Calendar has 1969 rows and 14 columns\n",
      "Mem. usage decreased to 130.48 Mb (37.5% reduction)\n",
      "Sell prices has 6841121 rows and 4 columns\n",
      "Sales train validation has 30490 rows and 1919 columns\n",
      "Sales train validation has 30490 rows and 1947 columns\n"
     ]
    }
   ],
   "source": [
    "data_dir = \"/content/drive/My Drive/M5/Data/\"\n",
    "calendar = pd.read_csv(data_dir+'calendar.csv')\n",
    "calendar = reduce_mem_usage(calendar)\n",
    "print('Calendar has {} rows and {} columns'.format(calendar.shape[0], calendar.shape[1]))\n",
    "\n",
    "sell_prices = pd.read_csv(data_dir+'sell_prices.csv')\n",
    "sell_prices = reduce_mem_usage(sell_prices)\n",
    "print('Sell prices has {} rows and {} columns'.format(sell_prices.shape[0], sell_prices.shape[1]))\n",
    "\n",
    "sales_validate = pd.read_csv(data_dir+'sales_train_validation.csv')\n",
    "print('Sales train validation has {} rows and {} columns'.format(sales_validate.shape[0], sales_validate.shape[1]))\n",
    "\n",
    "sales_eval = pd.read_csv(data_dir+'sales_train_evaluation.csv')\n",
    "print('Sales train validation has {} rows and {} columns'.format(sales_eval.shape[0], sales_eval.shape[1]))"
   ]
  },
  {
   "cell_type": "code",
   "execution_count": 71,
   "metadata": {
    "colab": {
     "base_uri": "https://localhost:8080/",
     "height": 251
    },
    "colab_type": "code",
    "executionInfo": {
     "elapsed": 11825,
     "status": "ok",
     "timestamp": 1592450233028,
     "user": {
      "displayName": "Pakawat NAKWIJIT",
      "photoUrl": "https://lh3.googleusercontent.com/a-/AOh14GiquOygeytgA5lxJCtO2dXyXm9wBw5lRlG43yd5=s64",
      "userId": "16398521879664391558"
     },
     "user_tz": -420
    },
    "id": "jMrMXSat0pMM",
    "outputId": "731db7b9-3d2a-4fb3-ec6a-f10139e196db"
   },
   "outputs": [
    {
     "data": {
      "text/html": [
       "<div>\n",
       "<style scoped>\n",
       "    .dataframe tbody tr th:only-of-type {\n",
       "        vertical-align: middle;\n",
       "    }\n",
       "\n",
       "    .dataframe tbody tr th {\n",
       "        vertical-align: top;\n",
       "    }\n",
       "\n",
       "    .dataframe thead th {\n",
       "        text-align: right;\n",
       "    }\n",
       "</style>\n",
       "<table border=\"1\" class=\"dataframe\">\n",
       "  <thead>\n",
       "    <tr style=\"text-align: right;\">\n",
       "      <th></th>\n",
       "      <th>id</th>\n",
       "      <th>item_id</th>\n",
       "      <th>dept_id</th>\n",
       "      <th>cat_id</th>\n",
       "      <th>store_id</th>\n",
       "      <th>state_id</th>\n",
       "      <th>d_1</th>\n",
       "      <th>d_2</th>\n",
       "      <th>d_3</th>\n",
       "      <th>d_4</th>\n",
       "      <th>d_5</th>\n",
       "      <th>d_6</th>\n",
       "      <th>d_7</th>\n",
       "      <th>d_8</th>\n",
       "      <th>d_9</th>\n",
       "      <th>d_10</th>\n",
       "      <th>d_11</th>\n",
       "      <th>d_12</th>\n",
       "      <th>d_13</th>\n",
       "      <th>d_14</th>\n",
       "      <th>d_15</th>\n",
       "      <th>d_16</th>\n",
       "      <th>d_17</th>\n",
       "      <th>d_18</th>\n",
       "      <th>d_19</th>\n",
       "      <th>...</th>\n",
       "      <th>d_1889</th>\n",
       "      <th>d_1890</th>\n",
       "      <th>d_1891</th>\n",
       "      <th>d_1892</th>\n",
       "      <th>d_1893</th>\n",
       "      <th>d_1894</th>\n",
       "      <th>d_1895</th>\n",
       "      <th>d_1896</th>\n",
       "      <th>d_1897</th>\n",
       "      <th>d_1898</th>\n",
       "      <th>d_1899</th>\n",
       "      <th>d_1900</th>\n",
       "      <th>d_1901</th>\n",
       "      <th>d_1902</th>\n",
       "      <th>d_1903</th>\n",
       "      <th>d_1904</th>\n",
       "      <th>d_1905</th>\n",
       "      <th>d_1906</th>\n",
       "      <th>d_1907</th>\n",
       "      <th>d_1908</th>\n",
       "      <th>d_1909</th>\n",
       "      <th>d_1910</th>\n",
       "      <th>d_1911</th>\n",
       "      <th>d_1912</th>\n",
       "      <th>d_1913</th>\n",
       "    </tr>\n",
       "  </thead>\n",
       "  <tbody>\n",
       "    <tr>\n",
       "      <th>0</th>\n",
       "      <td>HOBBIES_1_001_CA_1_validation</td>\n",
       "      <td>HOBBIES_1_001</td>\n",
       "      <td>HOBBIES_1</td>\n",
       "      <td>HOBBIES</td>\n",
       "      <td>CA_1</td>\n",
       "      <td>CA</td>\n",
       "      <td>0</td>\n",
       "      <td>0</td>\n",
       "      <td>0</td>\n",
       "      <td>0</td>\n",
       "      <td>0</td>\n",
       "      <td>0</td>\n",
       "      <td>0</td>\n",
       "      <td>0</td>\n",
       "      <td>0</td>\n",
       "      <td>0</td>\n",
       "      <td>0</td>\n",
       "      <td>0</td>\n",
       "      <td>0</td>\n",
       "      <td>0</td>\n",
       "      <td>0</td>\n",
       "      <td>0</td>\n",
       "      <td>0</td>\n",
       "      <td>0</td>\n",
       "      <td>0</td>\n",
       "      <td>...</td>\n",
       "      <td>0</td>\n",
       "      <td>0</td>\n",
       "      <td>0</td>\n",
       "      <td>1</td>\n",
       "      <td>0</td>\n",
       "      <td>4</td>\n",
       "      <td>2</td>\n",
       "      <td>3</td>\n",
       "      <td>0</td>\n",
       "      <td>1</td>\n",
       "      <td>2</td>\n",
       "      <td>0</td>\n",
       "      <td>0</td>\n",
       "      <td>0</td>\n",
       "      <td>1</td>\n",
       "      <td>1</td>\n",
       "      <td>3</td>\n",
       "      <td>0</td>\n",
       "      <td>1</td>\n",
       "      <td>1</td>\n",
       "      <td>1</td>\n",
       "      <td>3</td>\n",
       "      <td>0</td>\n",
       "      <td>1</td>\n",
       "      <td>1</td>\n",
       "    </tr>\n",
       "    <tr>\n",
       "      <th>1</th>\n",
       "      <td>HOBBIES_1_002_CA_1_validation</td>\n",
       "      <td>HOBBIES_1_002</td>\n",
       "      <td>HOBBIES_1</td>\n",
       "      <td>HOBBIES</td>\n",
       "      <td>CA_1</td>\n",
       "      <td>CA</td>\n",
       "      <td>0</td>\n",
       "      <td>0</td>\n",
       "      <td>0</td>\n",
       "      <td>0</td>\n",
       "      <td>0</td>\n",
       "      <td>0</td>\n",
       "      <td>0</td>\n",
       "      <td>0</td>\n",
       "      <td>0</td>\n",
       "      <td>0</td>\n",
       "      <td>0</td>\n",
       "      <td>0</td>\n",
       "      <td>0</td>\n",
       "      <td>0</td>\n",
       "      <td>0</td>\n",
       "      <td>0</td>\n",
       "      <td>0</td>\n",
       "      <td>0</td>\n",
       "      <td>0</td>\n",
       "      <td>...</td>\n",
       "      <td>0</td>\n",
       "      <td>0</td>\n",
       "      <td>0</td>\n",
       "      <td>0</td>\n",
       "      <td>0</td>\n",
       "      <td>0</td>\n",
       "      <td>0</td>\n",
       "      <td>0</td>\n",
       "      <td>0</td>\n",
       "      <td>0</td>\n",
       "      <td>0</td>\n",
       "      <td>0</td>\n",
       "      <td>0</td>\n",
       "      <td>0</td>\n",
       "      <td>0</td>\n",
       "      <td>0</td>\n",
       "      <td>0</td>\n",
       "      <td>0</td>\n",
       "      <td>0</td>\n",
       "      <td>0</td>\n",
       "      <td>1</td>\n",
       "      <td>0</td>\n",
       "      <td>0</td>\n",
       "      <td>0</td>\n",
       "      <td>0</td>\n",
       "    </tr>\n",
       "    <tr>\n",
       "      <th>2</th>\n",
       "      <td>HOBBIES_1_003_CA_1_validation</td>\n",
       "      <td>HOBBIES_1_003</td>\n",
       "      <td>HOBBIES_1</td>\n",
       "      <td>HOBBIES</td>\n",
       "      <td>CA_1</td>\n",
       "      <td>CA</td>\n",
       "      <td>0</td>\n",
       "      <td>0</td>\n",
       "      <td>0</td>\n",
       "      <td>0</td>\n",
       "      <td>0</td>\n",
       "      <td>0</td>\n",
       "      <td>0</td>\n",
       "      <td>0</td>\n",
       "      <td>0</td>\n",
       "      <td>0</td>\n",
       "      <td>0</td>\n",
       "      <td>0</td>\n",
       "      <td>0</td>\n",
       "      <td>0</td>\n",
       "      <td>0</td>\n",
       "      <td>0</td>\n",
       "      <td>0</td>\n",
       "      <td>0</td>\n",
       "      <td>0</td>\n",
       "      <td>...</td>\n",
       "      <td>0</td>\n",
       "      <td>0</td>\n",
       "      <td>0</td>\n",
       "      <td>1</td>\n",
       "      <td>0</td>\n",
       "      <td>0</td>\n",
       "      <td>0</td>\n",
       "      <td>1</td>\n",
       "      <td>0</td>\n",
       "      <td>0</td>\n",
       "      <td>0</td>\n",
       "      <td>0</td>\n",
       "      <td>0</td>\n",
       "      <td>1</td>\n",
       "      <td>2</td>\n",
       "      <td>2</td>\n",
       "      <td>1</td>\n",
       "      <td>2</td>\n",
       "      <td>1</td>\n",
       "      <td>1</td>\n",
       "      <td>1</td>\n",
       "      <td>0</td>\n",
       "      <td>1</td>\n",
       "      <td>1</td>\n",
       "      <td>1</td>\n",
       "    </tr>\n",
       "    <tr>\n",
       "      <th>3</th>\n",
       "      <td>HOBBIES_1_004_CA_1_validation</td>\n",
       "      <td>HOBBIES_1_004</td>\n",
       "      <td>HOBBIES_1</td>\n",
       "      <td>HOBBIES</td>\n",
       "      <td>CA_1</td>\n",
       "      <td>CA</td>\n",
       "      <td>0</td>\n",
       "      <td>0</td>\n",
       "      <td>0</td>\n",
       "      <td>0</td>\n",
       "      <td>0</td>\n",
       "      <td>0</td>\n",
       "      <td>0</td>\n",
       "      <td>0</td>\n",
       "      <td>0</td>\n",
       "      <td>0</td>\n",
       "      <td>0</td>\n",
       "      <td>0</td>\n",
       "      <td>0</td>\n",
       "      <td>0</td>\n",
       "      <td>0</td>\n",
       "      <td>0</td>\n",
       "      <td>0</td>\n",
       "      <td>0</td>\n",
       "      <td>0</td>\n",
       "      <td>...</td>\n",
       "      <td>0</td>\n",
       "      <td>3</td>\n",
       "      <td>1</td>\n",
       "      <td>2</td>\n",
       "      <td>1</td>\n",
       "      <td>3</td>\n",
       "      <td>1</td>\n",
       "      <td>0</td>\n",
       "      <td>2</td>\n",
       "      <td>5</td>\n",
       "      <td>4</td>\n",
       "      <td>2</td>\n",
       "      <td>0</td>\n",
       "      <td>3</td>\n",
       "      <td>0</td>\n",
       "      <td>1</td>\n",
       "      <td>0</td>\n",
       "      <td>5</td>\n",
       "      <td>4</td>\n",
       "      <td>1</td>\n",
       "      <td>0</td>\n",
       "      <td>1</td>\n",
       "      <td>3</td>\n",
       "      <td>7</td>\n",
       "      <td>2</td>\n",
       "    </tr>\n",
       "    <tr>\n",
       "      <th>4</th>\n",
       "      <td>HOBBIES_1_005_CA_1_validation</td>\n",
       "      <td>HOBBIES_1_005</td>\n",
       "      <td>HOBBIES_1</td>\n",
       "      <td>HOBBIES</td>\n",
       "      <td>CA_1</td>\n",
       "      <td>CA</td>\n",
       "      <td>0</td>\n",
       "      <td>0</td>\n",
       "      <td>0</td>\n",
       "      <td>0</td>\n",
       "      <td>0</td>\n",
       "      <td>0</td>\n",
       "      <td>0</td>\n",
       "      <td>0</td>\n",
       "      <td>0</td>\n",
       "      <td>0</td>\n",
       "      <td>0</td>\n",
       "      <td>0</td>\n",
       "      <td>0</td>\n",
       "      <td>0</td>\n",
       "      <td>0</td>\n",
       "      <td>0</td>\n",
       "      <td>0</td>\n",
       "      <td>0</td>\n",
       "      <td>0</td>\n",
       "      <td>...</td>\n",
       "      <td>4</td>\n",
       "      <td>0</td>\n",
       "      <td>1</td>\n",
       "      <td>4</td>\n",
       "      <td>0</td>\n",
       "      <td>1</td>\n",
       "      <td>0</td>\n",
       "      <td>1</td>\n",
       "      <td>0</td>\n",
       "      <td>1</td>\n",
       "      <td>1</td>\n",
       "      <td>2</td>\n",
       "      <td>0</td>\n",
       "      <td>1</td>\n",
       "      <td>1</td>\n",
       "      <td>2</td>\n",
       "      <td>1</td>\n",
       "      <td>1</td>\n",
       "      <td>0</td>\n",
       "      <td>1</td>\n",
       "      <td>1</td>\n",
       "      <td>2</td>\n",
       "      <td>2</td>\n",
       "      <td>2</td>\n",
       "      <td>4</td>\n",
       "    </tr>\n",
       "  </tbody>\n",
       "</table>\n",
       "<p>5 rows × 1919 columns</p>\n",
       "</div>"
      ],
      "text/plain": [
       "                              id        item_id    dept_id   cat_id store_id  \\\n",
       "0  HOBBIES_1_001_CA_1_validation  HOBBIES_1_001  HOBBIES_1  HOBBIES     CA_1   \n",
       "1  HOBBIES_1_002_CA_1_validation  HOBBIES_1_002  HOBBIES_1  HOBBIES     CA_1   \n",
       "2  HOBBIES_1_003_CA_1_validation  HOBBIES_1_003  HOBBIES_1  HOBBIES     CA_1   \n",
       "3  HOBBIES_1_004_CA_1_validation  HOBBIES_1_004  HOBBIES_1  HOBBIES     CA_1   \n",
       "4  HOBBIES_1_005_CA_1_validation  HOBBIES_1_005  HOBBIES_1  HOBBIES     CA_1   \n",
       "\n",
       "  state_id  d_1  d_2  d_3  d_4  d_5  d_6  d_7  d_8  d_9  d_10  d_11  d_12  \\\n",
       "0       CA    0    0    0    0    0    0    0    0    0     0     0     0   \n",
       "1       CA    0    0    0    0    0    0    0    0    0     0     0     0   \n",
       "2       CA    0    0    0    0    0    0    0    0    0     0     0     0   \n",
       "3       CA    0    0    0    0    0    0    0    0    0     0     0     0   \n",
       "4       CA    0    0    0    0    0    0    0    0    0     0     0     0   \n",
       "\n",
       "   d_13  d_14  d_15  d_16  d_17  d_18  d_19  ...  d_1889  d_1890  d_1891  \\\n",
       "0     0     0     0     0     0     0     0  ...       0       0       0   \n",
       "1     0     0     0     0     0     0     0  ...       0       0       0   \n",
       "2     0     0     0     0     0     0     0  ...       0       0       0   \n",
       "3     0     0     0     0     0     0     0  ...       0       3       1   \n",
       "4     0     0     0     0     0     0     0  ...       4       0       1   \n",
       "\n",
       "   d_1892  d_1893  d_1894  d_1895  d_1896  d_1897  d_1898  d_1899  d_1900  \\\n",
       "0       1       0       4       2       3       0       1       2       0   \n",
       "1       0       0       0       0       0       0       0       0       0   \n",
       "2       1       0       0       0       1       0       0       0       0   \n",
       "3       2       1       3       1       0       2       5       4       2   \n",
       "4       4       0       1       0       1       0       1       1       2   \n",
       "\n",
       "   d_1901  d_1902  d_1903  d_1904  d_1905  d_1906  d_1907  d_1908  d_1909  \\\n",
       "0       0       0       1       1       3       0       1       1       1   \n",
       "1       0       0       0       0       0       0       0       0       1   \n",
       "2       0       1       2       2       1       2       1       1       1   \n",
       "3       0       3       0       1       0       5       4       1       0   \n",
       "4       0       1       1       2       1       1       0       1       1   \n",
       "\n",
       "   d_1910  d_1911  d_1912  d_1913  \n",
       "0       3       0       1       1  \n",
       "1       0       0       0       0  \n",
       "2       0       1       1       1  \n",
       "3       1       3       7       2  \n",
       "4       2       2       2       4  \n",
       "\n",
       "[5 rows x 1919 columns]"
      ]
     },
     "execution_count": 71,
     "metadata": {
      "tags": []
     },
     "output_type": "execute_result"
    }
   ],
   "source": [
    "sales_validate.head()"
   ]
  },
  {
   "cell_type": "code",
   "execution_count": 72,
   "metadata": {
    "colab": {
     "base_uri": "https://localhost:8080/",
     "height": 251
    },
    "colab_type": "code",
    "executionInfo": {
     "elapsed": 11256,
     "status": "ok",
     "timestamp": 1592450233033,
     "user": {
      "displayName": "Pakawat NAKWIJIT",
      "photoUrl": "https://lh3.googleusercontent.com/a-/AOh14GiquOygeytgA5lxJCtO2dXyXm9wBw5lRlG43yd5=s64",
      "userId": "16398521879664391558"
     },
     "user_tz": -420
    },
    "id": "BU4iROwmIxVF",
    "outputId": "cdd08e09-8049-4ff5-d344-cd4d41655d6a"
   },
   "outputs": [
    {
     "data": {
      "text/html": [
       "<div>\n",
       "<style scoped>\n",
       "    .dataframe tbody tr th:only-of-type {\n",
       "        vertical-align: middle;\n",
       "    }\n",
       "\n",
       "    .dataframe tbody tr th {\n",
       "        vertical-align: top;\n",
       "    }\n",
       "\n",
       "    .dataframe thead th {\n",
       "        text-align: right;\n",
       "    }\n",
       "</style>\n",
       "<table border=\"1\" class=\"dataframe\">\n",
       "  <thead>\n",
       "    <tr style=\"text-align: right;\">\n",
       "      <th></th>\n",
       "      <th>id</th>\n",
       "      <th>item_id</th>\n",
       "      <th>dept_id</th>\n",
       "      <th>cat_id</th>\n",
       "      <th>store_id</th>\n",
       "      <th>state_id</th>\n",
       "      <th>d_1</th>\n",
       "      <th>d_2</th>\n",
       "      <th>d_3</th>\n",
       "      <th>d_4</th>\n",
       "      <th>d_5</th>\n",
       "      <th>d_6</th>\n",
       "      <th>d_7</th>\n",
       "      <th>d_8</th>\n",
       "      <th>d_9</th>\n",
       "      <th>d_10</th>\n",
       "      <th>d_11</th>\n",
       "      <th>d_12</th>\n",
       "      <th>d_13</th>\n",
       "      <th>d_14</th>\n",
       "      <th>d_15</th>\n",
       "      <th>d_16</th>\n",
       "      <th>d_17</th>\n",
       "      <th>d_18</th>\n",
       "      <th>d_19</th>\n",
       "      <th>...</th>\n",
       "      <th>d_1917</th>\n",
       "      <th>d_1918</th>\n",
       "      <th>d_1919</th>\n",
       "      <th>d_1920</th>\n",
       "      <th>d_1921</th>\n",
       "      <th>d_1922</th>\n",
       "      <th>d_1923</th>\n",
       "      <th>d_1924</th>\n",
       "      <th>d_1925</th>\n",
       "      <th>d_1926</th>\n",
       "      <th>d_1927</th>\n",
       "      <th>d_1928</th>\n",
       "      <th>d_1929</th>\n",
       "      <th>d_1930</th>\n",
       "      <th>d_1931</th>\n",
       "      <th>d_1932</th>\n",
       "      <th>d_1933</th>\n",
       "      <th>d_1934</th>\n",
       "      <th>d_1935</th>\n",
       "      <th>d_1936</th>\n",
       "      <th>d_1937</th>\n",
       "      <th>d_1938</th>\n",
       "      <th>d_1939</th>\n",
       "      <th>d_1940</th>\n",
       "      <th>d_1941</th>\n",
       "    </tr>\n",
       "  </thead>\n",
       "  <tbody>\n",
       "    <tr>\n",
       "      <th>0</th>\n",
       "      <td>HOBBIES_1_001_CA_1_evaluation</td>\n",
       "      <td>HOBBIES_1_001</td>\n",
       "      <td>HOBBIES_1</td>\n",
       "      <td>HOBBIES</td>\n",
       "      <td>CA_1</td>\n",
       "      <td>CA</td>\n",
       "      <td>0</td>\n",
       "      <td>0</td>\n",
       "      <td>0</td>\n",
       "      <td>0</td>\n",
       "      <td>0</td>\n",
       "      <td>0</td>\n",
       "      <td>0</td>\n",
       "      <td>0</td>\n",
       "      <td>0</td>\n",
       "      <td>0</td>\n",
       "      <td>0</td>\n",
       "      <td>0</td>\n",
       "      <td>0</td>\n",
       "      <td>0</td>\n",
       "      <td>0</td>\n",
       "      <td>0</td>\n",
       "      <td>0</td>\n",
       "      <td>0</td>\n",
       "      <td>0</td>\n",
       "      <td>...</td>\n",
       "      <td>2</td>\n",
       "      <td>0</td>\n",
       "      <td>3</td>\n",
       "      <td>5</td>\n",
       "      <td>0</td>\n",
       "      <td>0</td>\n",
       "      <td>1</td>\n",
       "      <td>1</td>\n",
       "      <td>0</td>\n",
       "      <td>2</td>\n",
       "      <td>1</td>\n",
       "      <td>2</td>\n",
       "      <td>2</td>\n",
       "      <td>1</td>\n",
       "      <td>0</td>\n",
       "      <td>2</td>\n",
       "      <td>4</td>\n",
       "      <td>0</td>\n",
       "      <td>0</td>\n",
       "      <td>0</td>\n",
       "      <td>0</td>\n",
       "      <td>3</td>\n",
       "      <td>3</td>\n",
       "      <td>0</td>\n",
       "      <td>1</td>\n",
       "    </tr>\n",
       "    <tr>\n",
       "      <th>1</th>\n",
       "      <td>HOBBIES_1_002_CA_1_evaluation</td>\n",
       "      <td>HOBBIES_1_002</td>\n",
       "      <td>HOBBIES_1</td>\n",
       "      <td>HOBBIES</td>\n",
       "      <td>CA_1</td>\n",
       "      <td>CA</td>\n",
       "      <td>0</td>\n",
       "      <td>0</td>\n",
       "      <td>0</td>\n",
       "      <td>0</td>\n",
       "      <td>0</td>\n",
       "      <td>0</td>\n",
       "      <td>0</td>\n",
       "      <td>0</td>\n",
       "      <td>0</td>\n",
       "      <td>0</td>\n",
       "      <td>0</td>\n",
       "      <td>0</td>\n",
       "      <td>0</td>\n",
       "      <td>0</td>\n",
       "      <td>0</td>\n",
       "      <td>0</td>\n",
       "      <td>0</td>\n",
       "      <td>0</td>\n",
       "      <td>0</td>\n",
       "      <td>...</td>\n",
       "      <td>0</td>\n",
       "      <td>0</td>\n",
       "      <td>0</td>\n",
       "      <td>0</td>\n",
       "      <td>0</td>\n",
       "      <td>0</td>\n",
       "      <td>1</td>\n",
       "      <td>0</td>\n",
       "      <td>0</td>\n",
       "      <td>0</td>\n",
       "      <td>0</td>\n",
       "      <td>0</td>\n",
       "      <td>0</td>\n",
       "      <td>0</td>\n",
       "      <td>0</td>\n",
       "      <td>0</td>\n",
       "      <td>1</td>\n",
       "      <td>2</td>\n",
       "      <td>1</td>\n",
       "      <td>1</td>\n",
       "      <td>0</td>\n",
       "      <td>0</td>\n",
       "      <td>0</td>\n",
       "      <td>0</td>\n",
       "      <td>0</td>\n",
       "    </tr>\n",
       "    <tr>\n",
       "      <th>2</th>\n",
       "      <td>HOBBIES_1_003_CA_1_evaluation</td>\n",
       "      <td>HOBBIES_1_003</td>\n",
       "      <td>HOBBIES_1</td>\n",
       "      <td>HOBBIES</td>\n",
       "      <td>CA_1</td>\n",
       "      <td>CA</td>\n",
       "      <td>0</td>\n",
       "      <td>0</td>\n",
       "      <td>0</td>\n",
       "      <td>0</td>\n",
       "      <td>0</td>\n",
       "      <td>0</td>\n",
       "      <td>0</td>\n",
       "      <td>0</td>\n",
       "      <td>0</td>\n",
       "      <td>0</td>\n",
       "      <td>0</td>\n",
       "      <td>0</td>\n",
       "      <td>0</td>\n",
       "      <td>0</td>\n",
       "      <td>0</td>\n",
       "      <td>0</td>\n",
       "      <td>0</td>\n",
       "      <td>0</td>\n",
       "      <td>0</td>\n",
       "      <td>...</td>\n",
       "      <td>1</td>\n",
       "      <td>0</td>\n",
       "      <td>2</td>\n",
       "      <td>1</td>\n",
       "      <td>0</td>\n",
       "      <td>0</td>\n",
       "      <td>0</td>\n",
       "      <td>0</td>\n",
       "      <td>2</td>\n",
       "      <td>1</td>\n",
       "      <td>3</td>\n",
       "      <td>0</td>\n",
       "      <td>0</td>\n",
       "      <td>1</td>\n",
       "      <td>0</td>\n",
       "      <td>1</td>\n",
       "      <td>0</td>\n",
       "      <td>2</td>\n",
       "      <td>0</td>\n",
       "      <td>0</td>\n",
       "      <td>0</td>\n",
       "      <td>2</td>\n",
       "      <td>3</td>\n",
       "      <td>0</td>\n",
       "      <td>1</td>\n",
       "    </tr>\n",
       "    <tr>\n",
       "      <th>3</th>\n",
       "      <td>HOBBIES_1_004_CA_1_evaluation</td>\n",
       "      <td>HOBBIES_1_004</td>\n",
       "      <td>HOBBIES_1</td>\n",
       "      <td>HOBBIES</td>\n",
       "      <td>CA_1</td>\n",
       "      <td>CA</td>\n",
       "      <td>0</td>\n",
       "      <td>0</td>\n",
       "      <td>0</td>\n",
       "      <td>0</td>\n",
       "      <td>0</td>\n",
       "      <td>0</td>\n",
       "      <td>0</td>\n",
       "      <td>0</td>\n",
       "      <td>0</td>\n",
       "      <td>0</td>\n",
       "      <td>0</td>\n",
       "      <td>0</td>\n",
       "      <td>0</td>\n",
       "      <td>0</td>\n",
       "      <td>0</td>\n",
       "      <td>0</td>\n",
       "      <td>0</td>\n",
       "      <td>0</td>\n",
       "      <td>0</td>\n",
       "      <td>...</td>\n",
       "      <td>2</td>\n",
       "      <td>4</td>\n",
       "      <td>1</td>\n",
       "      <td>6</td>\n",
       "      <td>4</td>\n",
       "      <td>0</td>\n",
       "      <td>0</td>\n",
       "      <td>0</td>\n",
       "      <td>2</td>\n",
       "      <td>2</td>\n",
       "      <td>4</td>\n",
       "      <td>2</td>\n",
       "      <td>1</td>\n",
       "      <td>1</td>\n",
       "      <td>1</td>\n",
       "      <td>1</td>\n",
       "      <td>1</td>\n",
       "      <td>0</td>\n",
       "      <td>4</td>\n",
       "      <td>0</td>\n",
       "      <td>1</td>\n",
       "      <td>3</td>\n",
       "      <td>0</td>\n",
       "      <td>2</td>\n",
       "      <td>6</td>\n",
       "    </tr>\n",
       "    <tr>\n",
       "      <th>4</th>\n",
       "      <td>HOBBIES_1_005_CA_1_evaluation</td>\n",
       "      <td>HOBBIES_1_005</td>\n",
       "      <td>HOBBIES_1</td>\n",
       "      <td>HOBBIES</td>\n",
       "      <td>CA_1</td>\n",
       "      <td>CA</td>\n",
       "      <td>0</td>\n",
       "      <td>0</td>\n",
       "      <td>0</td>\n",
       "      <td>0</td>\n",
       "      <td>0</td>\n",
       "      <td>0</td>\n",
       "      <td>0</td>\n",
       "      <td>0</td>\n",
       "      <td>0</td>\n",
       "      <td>0</td>\n",
       "      <td>0</td>\n",
       "      <td>0</td>\n",
       "      <td>0</td>\n",
       "      <td>0</td>\n",
       "      <td>0</td>\n",
       "      <td>0</td>\n",
       "      <td>0</td>\n",
       "      <td>0</td>\n",
       "      <td>0</td>\n",
       "      <td>...</td>\n",
       "      <td>3</td>\n",
       "      <td>1</td>\n",
       "      <td>0</td>\n",
       "      <td>3</td>\n",
       "      <td>2</td>\n",
       "      <td>3</td>\n",
       "      <td>1</td>\n",
       "      <td>1</td>\n",
       "      <td>3</td>\n",
       "      <td>2</td>\n",
       "      <td>3</td>\n",
       "      <td>2</td>\n",
       "      <td>2</td>\n",
       "      <td>2</td>\n",
       "      <td>2</td>\n",
       "      <td>0</td>\n",
       "      <td>0</td>\n",
       "      <td>0</td>\n",
       "      <td>2</td>\n",
       "      <td>1</td>\n",
       "      <td>0</td>\n",
       "      <td>0</td>\n",
       "      <td>2</td>\n",
       "      <td>1</td>\n",
       "      <td>0</td>\n",
       "    </tr>\n",
       "  </tbody>\n",
       "</table>\n",
       "<p>5 rows × 1947 columns</p>\n",
       "</div>"
      ],
      "text/plain": [
       "                              id        item_id    dept_id   cat_id store_id  \\\n",
       "0  HOBBIES_1_001_CA_1_evaluation  HOBBIES_1_001  HOBBIES_1  HOBBIES     CA_1   \n",
       "1  HOBBIES_1_002_CA_1_evaluation  HOBBIES_1_002  HOBBIES_1  HOBBIES     CA_1   \n",
       "2  HOBBIES_1_003_CA_1_evaluation  HOBBIES_1_003  HOBBIES_1  HOBBIES     CA_1   \n",
       "3  HOBBIES_1_004_CA_1_evaluation  HOBBIES_1_004  HOBBIES_1  HOBBIES     CA_1   \n",
       "4  HOBBIES_1_005_CA_1_evaluation  HOBBIES_1_005  HOBBIES_1  HOBBIES     CA_1   \n",
       "\n",
       "  state_id  d_1  d_2  d_3  d_4  d_5  d_6  d_7  d_8  d_9  d_10  d_11  d_12  \\\n",
       "0       CA    0    0    0    0    0    0    0    0    0     0     0     0   \n",
       "1       CA    0    0    0    0    0    0    0    0    0     0     0     0   \n",
       "2       CA    0    0    0    0    0    0    0    0    0     0     0     0   \n",
       "3       CA    0    0    0    0    0    0    0    0    0     0     0     0   \n",
       "4       CA    0    0    0    0    0    0    0    0    0     0     0     0   \n",
       "\n",
       "   d_13  d_14  d_15  d_16  d_17  d_18  d_19  ...  d_1917  d_1918  d_1919  \\\n",
       "0     0     0     0     0     0     0     0  ...       2       0       3   \n",
       "1     0     0     0     0     0     0     0  ...       0       0       0   \n",
       "2     0     0     0     0     0     0     0  ...       1       0       2   \n",
       "3     0     0     0     0     0     0     0  ...       2       4       1   \n",
       "4     0     0     0     0     0     0     0  ...       3       1       0   \n",
       "\n",
       "   d_1920  d_1921  d_1922  d_1923  d_1924  d_1925  d_1926  d_1927  d_1928  \\\n",
       "0       5       0       0       1       1       0       2       1       2   \n",
       "1       0       0       0       1       0       0       0       0       0   \n",
       "2       1       0       0       0       0       2       1       3       0   \n",
       "3       6       4       0       0       0       2       2       4       2   \n",
       "4       3       2       3       1       1       3       2       3       2   \n",
       "\n",
       "   d_1929  d_1930  d_1931  d_1932  d_1933  d_1934  d_1935  d_1936  d_1937  \\\n",
       "0       2       1       0       2       4       0       0       0       0   \n",
       "1       0       0       0       0       1       2       1       1       0   \n",
       "2       0       1       0       1       0       2       0       0       0   \n",
       "3       1       1       1       1       1       0       4       0       1   \n",
       "4       2       2       2       0       0       0       2       1       0   \n",
       "\n",
       "   d_1938  d_1939  d_1940  d_1941  \n",
       "0       3       3       0       1  \n",
       "1       0       0       0       0  \n",
       "2       2       3       0       1  \n",
       "3       3       0       2       6  \n",
       "4       0       2       1       0  \n",
       "\n",
       "[5 rows x 1947 columns]"
      ]
     },
     "execution_count": 72,
     "metadata": {
      "tags": []
     },
     "output_type": "execute_result"
    }
   ],
   "source": [
    "sales_eval.head()"
   ]
  },
  {
   "cell_type": "code",
   "execution_count": 73,
   "metadata": {
    "colab": {},
    "colab_type": "code",
    "executionInfo": {
     "elapsed": 10909,
     "status": "ok",
     "timestamp": 1592450233034,
     "user": {
      "displayName": "Pakawat NAKWIJIT",
      "photoUrl": "https://lh3.googleusercontent.com/a-/AOh14GiquOygeytgA5lxJCtO2dXyXm9wBw5lRlG43yd5=s64",
      "userId": "16398521879664391558"
     },
     "user_tz": -420
    },
    "id": "qLT-hCvkI8Ca"
   },
   "outputs": [],
   "source": [
    "sales = sales_eval"
   ]
  },
  {
   "cell_type": "code",
   "execution_count": 74,
   "metadata": {
    "colab": {},
    "colab_type": "code",
    "executionInfo": {
     "elapsed": 10517,
     "status": "ok",
     "timestamp": 1592450233035,
     "user": {
      "displayName": "Pakawat NAKWIJIT",
      "photoUrl": "https://lh3.googleusercontent.com/a-/AOh14GiquOygeytgA5lxJCtO2dXyXm9wBw5lRlG43yd5=s64",
      "userId": "16398521879664391558"
     },
     "user_tz": -420
    },
    "id": "ggCaP53Tw1-2"
   },
   "outputs": [],
   "source": [
    "idCols = ['id', 'item_id', 'dept_id', 'cat_id', 'store_id', 'state_id']\n",
    "product = sales[idCols].drop_duplicates()"
   ]
  },
  {
   "cell_type": "code",
   "execution_count": 75,
   "metadata": {
    "colab": {},
    "colab_type": "code",
    "executionInfo": {
     "elapsed": 10027,
     "status": "ok",
     "timestamp": 1592450233036,
     "user": {
      "displayName": "Pakawat NAKWIJIT",
      "photoUrl": "https://lh3.googleusercontent.com/a-/AOh14GiquOygeytgA5lxJCtO2dXyXm9wBw5lRlG43yd5=s64",
      "userId": "16398521879664391558"
     },
     "user_tz": -420
    },
    "id": "umv9McZ6w1-5"
   },
   "outputs": [],
   "source": [
    "import warnings\n",
    "warnings.filterwarnings('ignore')\n",
    "\n",
    "submission = pd.read_csv(data_dir+'sample_submission.csv')\n",
    "validate_submission = submission[submission.id.str.endswith('validation')]\n",
    "eval_submission = submission[submission.id.str.endswith('evaluation')]\n",
    "\n",
    "# change column name\n",
    "newcolumns = [\"id\"] + [\"d_{}\".format(i) for i in range(1914, 1914+28)]\n",
    "validate_submission.columns = newcolumns\n",
    "validate_submission['id'] = validate_submission['id'].str.replace('_validation', \"_evaluation\")\n",
    "validate_submission = validate_submission.merge(product, how = 'left', on = 'id')\n",
    "\n",
    "newcolumns = [\"id\"] + [\"d_{}\".format(i) for i in range(1942, 1942+28)]\n",
    "eval_submission.columns = newcolumns\n",
    "eval_submission = eval_submission.merge(product, how = 'left', on = 'id')\n"
   ]
  },
  {
   "cell_type": "code",
   "execution_count": 75,
   "metadata": {
    "colab": {},
    "colab_type": "code",
    "executionInfo": {
     "elapsed": 9612,
     "status": "ok",
     "timestamp": 1592450233037,
     "user": {
      "displayName": "Pakawat NAKWIJIT",
      "photoUrl": "https://lh3.googleusercontent.com/a-/AOh14GiquOygeytgA5lxJCtO2dXyXm9wBw5lRlG43yd5=s64",
      "userId": "16398521879664391558"
     },
     "user_tz": -420
    },
    "id": "XG5hB04dXLjZ"
   },
   "outputs": [],
   "source": []
  },
  {
   "cell_type": "code",
   "execution_count": 76,
   "metadata": {
    "colab": {},
    "colab_type": "code",
    "executionInfo": {
     "elapsed": 8826,
     "status": "ok",
     "timestamp": 1592450233038,
     "user": {
      "displayName": "Pakawat NAKWIJIT",
      "photoUrl": "https://lh3.googleusercontent.com/a-/AOh14GiquOygeytgA5lxJCtO2dXyXm9wBw5lRlG43yd5=s64",
      "userId": "16398521879664391558"
     },
     "user_tz": -420
    },
    "id": "kfI_SEGnWvXb"
   },
   "outputs": [],
   "source": [
    "# product.head()"
   ]
  },
  {
   "cell_type": "code",
   "execution_count": 77,
   "metadata": {
    "colab": {
     "base_uri": "https://localhost:8080/",
     "height": 222
    },
    "colab_type": "code",
    "executionInfo": {
     "elapsed": 7256,
     "status": "ok",
     "timestamp": 1592450233039,
     "user": {
      "displayName": "Pakawat NAKWIJIT",
      "photoUrl": "https://lh3.googleusercontent.com/a-/AOh14GiquOygeytgA5lxJCtO2dXyXm9wBw5lRlG43yd5=s64",
      "userId": "16398521879664391558"
     },
     "user_tz": -420
    },
    "id": "wjTiL2mtJX6c",
    "outputId": "b056862e-b005-4556-fa7d-91b954da671f"
   },
   "outputs": [
    {
     "data": {
      "text/html": [
       "<div>\n",
       "<style scoped>\n",
       "    .dataframe tbody tr th:only-of-type {\n",
       "        vertical-align: middle;\n",
       "    }\n",
       "\n",
       "    .dataframe tbody tr th {\n",
       "        vertical-align: top;\n",
       "    }\n",
       "\n",
       "    .dataframe thead th {\n",
       "        text-align: right;\n",
       "    }\n",
       "</style>\n",
       "<table border=\"1\" class=\"dataframe\">\n",
       "  <thead>\n",
       "    <tr style=\"text-align: right;\">\n",
       "      <th></th>\n",
       "      <th>id</th>\n",
       "      <th>F1</th>\n",
       "      <th>F2</th>\n",
       "      <th>F3</th>\n",
       "      <th>F4</th>\n",
       "      <th>F5</th>\n",
       "      <th>F6</th>\n",
       "      <th>F7</th>\n",
       "      <th>F8</th>\n",
       "      <th>F9</th>\n",
       "      <th>F10</th>\n",
       "      <th>F11</th>\n",
       "      <th>F12</th>\n",
       "      <th>F13</th>\n",
       "      <th>F14</th>\n",
       "      <th>F15</th>\n",
       "      <th>F16</th>\n",
       "      <th>F17</th>\n",
       "      <th>F18</th>\n",
       "      <th>F19</th>\n",
       "      <th>F20</th>\n",
       "      <th>F21</th>\n",
       "      <th>F22</th>\n",
       "      <th>F23</th>\n",
       "      <th>F24</th>\n",
       "      <th>F25</th>\n",
       "      <th>F26</th>\n",
       "      <th>F27</th>\n",
       "      <th>F28</th>\n",
       "    </tr>\n",
       "  </thead>\n",
       "  <tbody>\n",
       "    <tr>\n",
       "      <th>0</th>\n",
       "      <td>HOBBIES_1_001_CA_1_validation</td>\n",
       "      <td>0</td>\n",
       "      <td>0</td>\n",
       "      <td>0</td>\n",
       "      <td>0</td>\n",
       "      <td>0</td>\n",
       "      <td>0</td>\n",
       "      <td>0</td>\n",
       "      <td>0</td>\n",
       "      <td>0</td>\n",
       "      <td>0</td>\n",
       "      <td>0</td>\n",
       "      <td>0</td>\n",
       "      <td>0</td>\n",
       "      <td>0</td>\n",
       "      <td>0</td>\n",
       "      <td>0</td>\n",
       "      <td>0</td>\n",
       "      <td>0</td>\n",
       "      <td>0</td>\n",
       "      <td>0</td>\n",
       "      <td>0</td>\n",
       "      <td>0</td>\n",
       "      <td>0</td>\n",
       "      <td>0</td>\n",
       "      <td>0</td>\n",
       "      <td>0</td>\n",
       "      <td>0</td>\n",
       "      <td>0</td>\n",
       "    </tr>\n",
       "    <tr>\n",
       "      <th>1</th>\n",
       "      <td>HOBBIES_1_002_CA_1_validation</td>\n",
       "      <td>0</td>\n",
       "      <td>0</td>\n",
       "      <td>0</td>\n",
       "      <td>0</td>\n",
       "      <td>0</td>\n",
       "      <td>0</td>\n",
       "      <td>0</td>\n",
       "      <td>0</td>\n",
       "      <td>0</td>\n",
       "      <td>0</td>\n",
       "      <td>0</td>\n",
       "      <td>0</td>\n",
       "      <td>0</td>\n",
       "      <td>0</td>\n",
       "      <td>0</td>\n",
       "      <td>0</td>\n",
       "      <td>0</td>\n",
       "      <td>0</td>\n",
       "      <td>0</td>\n",
       "      <td>0</td>\n",
       "      <td>0</td>\n",
       "      <td>0</td>\n",
       "      <td>0</td>\n",
       "      <td>0</td>\n",
       "      <td>0</td>\n",
       "      <td>0</td>\n",
       "      <td>0</td>\n",
       "      <td>0</td>\n",
       "    </tr>\n",
       "    <tr>\n",
       "      <th>2</th>\n",
       "      <td>HOBBIES_1_003_CA_1_validation</td>\n",
       "      <td>0</td>\n",
       "      <td>0</td>\n",
       "      <td>0</td>\n",
       "      <td>0</td>\n",
       "      <td>0</td>\n",
       "      <td>0</td>\n",
       "      <td>0</td>\n",
       "      <td>0</td>\n",
       "      <td>0</td>\n",
       "      <td>0</td>\n",
       "      <td>0</td>\n",
       "      <td>0</td>\n",
       "      <td>0</td>\n",
       "      <td>0</td>\n",
       "      <td>0</td>\n",
       "      <td>0</td>\n",
       "      <td>0</td>\n",
       "      <td>0</td>\n",
       "      <td>0</td>\n",
       "      <td>0</td>\n",
       "      <td>0</td>\n",
       "      <td>0</td>\n",
       "      <td>0</td>\n",
       "      <td>0</td>\n",
       "      <td>0</td>\n",
       "      <td>0</td>\n",
       "      <td>0</td>\n",
       "      <td>0</td>\n",
       "    </tr>\n",
       "    <tr>\n",
       "      <th>3</th>\n",
       "      <td>HOBBIES_1_004_CA_1_validation</td>\n",
       "      <td>0</td>\n",
       "      <td>0</td>\n",
       "      <td>0</td>\n",
       "      <td>0</td>\n",
       "      <td>0</td>\n",
       "      <td>0</td>\n",
       "      <td>0</td>\n",
       "      <td>0</td>\n",
       "      <td>0</td>\n",
       "      <td>0</td>\n",
       "      <td>0</td>\n",
       "      <td>0</td>\n",
       "      <td>0</td>\n",
       "      <td>0</td>\n",
       "      <td>0</td>\n",
       "      <td>0</td>\n",
       "      <td>0</td>\n",
       "      <td>0</td>\n",
       "      <td>0</td>\n",
       "      <td>0</td>\n",
       "      <td>0</td>\n",
       "      <td>0</td>\n",
       "      <td>0</td>\n",
       "      <td>0</td>\n",
       "      <td>0</td>\n",
       "      <td>0</td>\n",
       "      <td>0</td>\n",
       "      <td>0</td>\n",
       "    </tr>\n",
       "    <tr>\n",
       "      <th>4</th>\n",
       "      <td>HOBBIES_1_005_CA_1_validation</td>\n",
       "      <td>0</td>\n",
       "      <td>0</td>\n",
       "      <td>0</td>\n",
       "      <td>0</td>\n",
       "      <td>0</td>\n",
       "      <td>0</td>\n",
       "      <td>0</td>\n",
       "      <td>0</td>\n",
       "      <td>0</td>\n",
       "      <td>0</td>\n",
       "      <td>0</td>\n",
       "      <td>0</td>\n",
       "      <td>0</td>\n",
       "      <td>0</td>\n",
       "      <td>0</td>\n",
       "      <td>0</td>\n",
       "      <td>0</td>\n",
       "      <td>0</td>\n",
       "      <td>0</td>\n",
       "      <td>0</td>\n",
       "      <td>0</td>\n",
       "      <td>0</td>\n",
       "      <td>0</td>\n",
       "      <td>0</td>\n",
       "      <td>0</td>\n",
       "      <td>0</td>\n",
       "      <td>0</td>\n",
       "      <td>0</td>\n",
       "    </tr>\n",
       "  </tbody>\n",
       "</table>\n",
       "</div>"
      ],
      "text/plain": [
       "                              id  F1  F2  F3  F4  F5  F6  F7  F8  F9  F10  \\\n",
       "0  HOBBIES_1_001_CA_1_validation   0   0   0   0   0   0   0   0   0    0   \n",
       "1  HOBBIES_1_002_CA_1_validation   0   0   0   0   0   0   0   0   0    0   \n",
       "2  HOBBIES_1_003_CA_1_validation   0   0   0   0   0   0   0   0   0    0   \n",
       "3  HOBBIES_1_004_CA_1_validation   0   0   0   0   0   0   0   0   0    0   \n",
       "4  HOBBIES_1_005_CA_1_validation   0   0   0   0   0   0   0   0   0    0   \n",
       "\n",
       "   F11  F12  F13  F14  F15  F16  F17  F18  F19  F20  F21  F22  F23  F24  F25  \\\n",
       "0    0    0    0    0    0    0    0    0    0    0    0    0    0    0    0   \n",
       "1    0    0    0    0    0    0    0    0    0    0    0    0    0    0    0   \n",
       "2    0    0    0    0    0    0    0    0    0    0    0    0    0    0    0   \n",
       "3    0    0    0    0    0    0    0    0    0    0    0    0    0    0    0   \n",
       "4    0    0    0    0    0    0    0    0    0    0    0    0    0    0    0   \n",
       "\n",
       "   F26  F27  F28  \n",
       "0    0    0    0  \n",
       "1    0    0    0  \n",
       "2    0    0    0  \n",
       "3    0    0    0  \n",
       "4    0    0    0  "
      ]
     },
     "execution_count": 77,
     "metadata": {
      "tags": []
     },
     "output_type": "execute_result"
    }
   ],
   "source": [
    "submission.head()"
   ]
  },
  {
   "cell_type": "code",
   "execution_count": 78,
   "metadata": {
    "colab": {
     "base_uri": "https://localhost:8080/",
     "height": 286
    },
    "colab_type": "code",
    "executionInfo": {
     "elapsed": 8016,
     "status": "ok",
     "timestamp": 1592450234284,
     "user": {
      "displayName": "Pakawat NAKWIJIT",
      "photoUrl": "https://lh3.googleusercontent.com/a-/AOh14GiquOygeytgA5lxJCtO2dXyXm9wBw5lRlG43yd5=s64",
      "userId": "16398521879664391558"
     },
     "user_tz": -420
    },
    "id": "Hq7VsTZdw1-7",
    "outputId": "7e589e62-c6e5-420e-e22a-22ba00e9b77d"
   },
   "outputs": [
    {
     "name": "stdout",
     "output_type": "stream",
     "text": [
      "1460 d_482\n",
      "(30490, 1466)\n"
     ]
    },
    {
     "data": {
      "text/html": [
       "<div>\n",
       "<style scoped>\n",
       "    .dataframe tbody tr th:only-of-type {\n",
       "        vertical-align: middle;\n",
       "    }\n",
       "\n",
       "    .dataframe tbody tr th {\n",
       "        vertical-align: top;\n",
       "    }\n",
       "\n",
       "    .dataframe thead th {\n",
       "        text-align: right;\n",
       "    }\n",
       "</style>\n",
       "<table border=\"1\" class=\"dataframe\">\n",
       "  <thead>\n",
       "    <tr style=\"text-align: right;\">\n",
       "      <th></th>\n",
       "      <th>id</th>\n",
       "      <th>item_id</th>\n",
       "      <th>dept_id</th>\n",
       "      <th>cat_id</th>\n",
       "      <th>store_id</th>\n",
       "      <th>state_id</th>\n",
       "      <th>d_482</th>\n",
       "      <th>d_483</th>\n",
       "      <th>d_484</th>\n",
       "      <th>d_485</th>\n",
       "      <th>d_486</th>\n",
       "      <th>d_487</th>\n",
       "      <th>d_488</th>\n",
       "      <th>d_489</th>\n",
       "      <th>d_490</th>\n",
       "      <th>d_491</th>\n",
       "      <th>d_492</th>\n",
       "      <th>d_493</th>\n",
       "      <th>d_494</th>\n",
       "      <th>d_495</th>\n",
       "      <th>d_496</th>\n",
       "      <th>d_497</th>\n",
       "      <th>d_498</th>\n",
       "      <th>d_499</th>\n",
       "      <th>d_500</th>\n",
       "      <th>...</th>\n",
       "      <th>d_1917</th>\n",
       "      <th>d_1918</th>\n",
       "      <th>d_1919</th>\n",
       "      <th>d_1920</th>\n",
       "      <th>d_1921</th>\n",
       "      <th>d_1922</th>\n",
       "      <th>d_1923</th>\n",
       "      <th>d_1924</th>\n",
       "      <th>d_1925</th>\n",
       "      <th>d_1926</th>\n",
       "      <th>d_1927</th>\n",
       "      <th>d_1928</th>\n",
       "      <th>d_1929</th>\n",
       "      <th>d_1930</th>\n",
       "      <th>d_1931</th>\n",
       "      <th>d_1932</th>\n",
       "      <th>d_1933</th>\n",
       "      <th>d_1934</th>\n",
       "      <th>d_1935</th>\n",
       "      <th>d_1936</th>\n",
       "      <th>d_1937</th>\n",
       "      <th>d_1938</th>\n",
       "      <th>d_1939</th>\n",
       "      <th>d_1940</th>\n",
       "      <th>d_1941</th>\n",
       "    </tr>\n",
       "  </thead>\n",
       "  <tbody>\n",
       "    <tr>\n",
       "      <th>0</th>\n",
       "      <td>HOBBIES_1_001_CA_1_evaluation</td>\n",
       "      <td>HOBBIES_1_001</td>\n",
       "      <td>HOBBIES_1</td>\n",
       "      <td>HOBBIES</td>\n",
       "      <td>CA_1</td>\n",
       "      <td>CA</td>\n",
       "      <td>0</td>\n",
       "      <td>0</td>\n",
       "      <td>0</td>\n",
       "      <td>0</td>\n",
       "      <td>0</td>\n",
       "      <td>0</td>\n",
       "      <td>0</td>\n",
       "      <td>0</td>\n",
       "      <td>0</td>\n",
       "      <td>0</td>\n",
       "      <td>0</td>\n",
       "      <td>0</td>\n",
       "      <td>0</td>\n",
       "      <td>0</td>\n",
       "      <td>0</td>\n",
       "      <td>0</td>\n",
       "      <td>0</td>\n",
       "      <td>0</td>\n",
       "      <td>0</td>\n",
       "      <td>...</td>\n",
       "      <td>2</td>\n",
       "      <td>0</td>\n",
       "      <td>3</td>\n",
       "      <td>5</td>\n",
       "      <td>0</td>\n",
       "      <td>0</td>\n",
       "      <td>1</td>\n",
       "      <td>1</td>\n",
       "      <td>0</td>\n",
       "      <td>2</td>\n",
       "      <td>1</td>\n",
       "      <td>2</td>\n",
       "      <td>2</td>\n",
       "      <td>1</td>\n",
       "      <td>0</td>\n",
       "      <td>2</td>\n",
       "      <td>4</td>\n",
       "      <td>0</td>\n",
       "      <td>0</td>\n",
       "      <td>0</td>\n",
       "      <td>0</td>\n",
       "      <td>3</td>\n",
       "      <td>3</td>\n",
       "      <td>0</td>\n",
       "      <td>1</td>\n",
       "    </tr>\n",
       "    <tr>\n",
       "      <th>1</th>\n",
       "      <td>HOBBIES_1_002_CA_1_evaluation</td>\n",
       "      <td>HOBBIES_1_002</td>\n",
       "      <td>HOBBIES_1</td>\n",
       "      <td>HOBBIES</td>\n",
       "      <td>CA_1</td>\n",
       "      <td>CA</td>\n",
       "      <td>0</td>\n",
       "      <td>1</td>\n",
       "      <td>0</td>\n",
       "      <td>0</td>\n",
       "      <td>0</td>\n",
       "      <td>0</td>\n",
       "      <td>0</td>\n",
       "      <td>1</td>\n",
       "      <td>0</td>\n",
       "      <td>0</td>\n",
       "      <td>0</td>\n",
       "      <td>0</td>\n",
       "      <td>1</td>\n",
       "      <td>0</td>\n",
       "      <td>0</td>\n",
       "      <td>1</td>\n",
       "      <td>0</td>\n",
       "      <td>0</td>\n",
       "      <td>1</td>\n",
       "      <td>...</td>\n",
       "      <td>0</td>\n",
       "      <td>0</td>\n",
       "      <td>0</td>\n",
       "      <td>0</td>\n",
       "      <td>0</td>\n",
       "      <td>0</td>\n",
       "      <td>1</td>\n",
       "      <td>0</td>\n",
       "      <td>0</td>\n",
       "      <td>0</td>\n",
       "      <td>0</td>\n",
       "      <td>0</td>\n",
       "      <td>0</td>\n",
       "      <td>0</td>\n",
       "      <td>0</td>\n",
       "      <td>0</td>\n",
       "      <td>1</td>\n",
       "      <td>2</td>\n",
       "      <td>1</td>\n",
       "      <td>1</td>\n",
       "      <td>0</td>\n",
       "      <td>0</td>\n",
       "      <td>0</td>\n",
       "      <td>0</td>\n",
       "      <td>0</td>\n",
       "    </tr>\n",
       "    <tr>\n",
       "      <th>2</th>\n",
       "      <td>HOBBIES_1_003_CA_1_evaluation</td>\n",
       "      <td>HOBBIES_1_003</td>\n",
       "      <td>HOBBIES_1</td>\n",
       "      <td>HOBBIES</td>\n",
       "      <td>CA_1</td>\n",
       "      <td>CA</td>\n",
       "      <td>0</td>\n",
       "      <td>0</td>\n",
       "      <td>0</td>\n",
       "      <td>0</td>\n",
       "      <td>0</td>\n",
       "      <td>0</td>\n",
       "      <td>0</td>\n",
       "      <td>0</td>\n",
       "      <td>0</td>\n",
       "      <td>0</td>\n",
       "      <td>0</td>\n",
       "      <td>0</td>\n",
       "      <td>0</td>\n",
       "      <td>0</td>\n",
       "      <td>0</td>\n",
       "      <td>0</td>\n",
       "      <td>0</td>\n",
       "      <td>0</td>\n",
       "      <td>0</td>\n",
       "      <td>...</td>\n",
       "      <td>1</td>\n",
       "      <td>0</td>\n",
       "      <td>2</td>\n",
       "      <td>1</td>\n",
       "      <td>0</td>\n",
       "      <td>0</td>\n",
       "      <td>0</td>\n",
       "      <td>0</td>\n",
       "      <td>2</td>\n",
       "      <td>1</td>\n",
       "      <td>3</td>\n",
       "      <td>0</td>\n",
       "      <td>0</td>\n",
       "      <td>1</td>\n",
       "      <td>0</td>\n",
       "      <td>1</td>\n",
       "      <td>0</td>\n",
       "      <td>2</td>\n",
       "      <td>0</td>\n",
       "      <td>0</td>\n",
       "      <td>0</td>\n",
       "      <td>2</td>\n",
       "      <td>3</td>\n",
       "      <td>0</td>\n",
       "      <td>1</td>\n",
       "    </tr>\n",
       "    <tr>\n",
       "      <th>3</th>\n",
       "      <td>HOBBIES_1_004_CA_1_evaluation</td>\n",
       "      <td>HOBBIES_1_004</td>\n",
       "      <td>HOBBIES_1</td>\n",
       "      <td>HOBBIES</td>\n",
       "      <td>CA_1</td>\n",
       "      <td>CA</td>\n",
       "      <td>1</td>\n",
       "      <td>2</td>\n",
       "      <td>3</td>\n",
       "      <td>1</td>\n",
       "      <td>0</td>\n",
       "      <td>0</td>\n",
       "      <td>1</td>\n",
       "      <td>1</td>\n",
       "      <td>1</td>\n",
       "      <td>3</td>\n",
       "      <td>1</td>\n",
       "      <td>0</td>\n",
       "      <td>1</td>\n",
       "      <td>1</td>\n",
       "      <td>0</td>\n",
       "      <td>2</td>\n",
       "      <td>0</td>\n",
       "      <td>5</td>\n",
       "      <td>1</td>\n",
       "      <td>...</td>\n",
       "      <td>2</td>\n",
       "      <td>4</td>\n",
       "      <td>1</td>\n",
       "      <td>6</td>\n",
       "      <td>4</td>\n",
       "      <td>0</td>\n",
       "      <td>0</td>\n",
       "      <td>0</td>\n",
       "      <td>2</td>\n",
       "      <td>2</td>\n",
       "      <td>4</td>\n",
       "      <td>2</td>\n",
       "      <td>1</td>\n",
       "      <td>1</td>\n",
       "      <td>1</td>\n",
       "      <td>1</td>\n",
       "      <td>1</td>\n",
       "      <td>0</td>\n",
       "      <td>4</td>\n",
       "      <td>0</td>\n",
       "      <td>1</td>\n",
       "      <td>3</td>\n",
       "      <td>0</td>\n",
       "      <td>2</td>\n",
       "      <td>6</td>\n",
       "    </tr>\n",
       "    <tr>\n",
       "      <th>4</th>\n",
       "      <td>HOBBIES_1_005_CA_1_evaluation</td>\n",
       "      <td>HOBBIES_1_005</td>\n",
       "      <td>HOBBIES_1</td>\n",
       "      <td>HOBBIES</td>\n",
       "      <td>CA_1</td>\n",
       "      <td>CA</td>\n",
       "      <td>0</td>\n",
       "      <td>0</td>\n",
       "      <td>2</td>\n",
       "      <td>5</td>\n",
       "      <td>3</td>\n",
       "      <td>2</td>\n",
       "      <td>2</td>\n",
       "      <td>3</td>\n",
       "      <td>1</td>\n",
       "      <td>3</td>\n",
       "      <td>1</td>\n",
       "      <td>1</td>\n",
       "      <td>2</td>\n",
       "      <td>0</td>\n",
       "      <td>1</td>\n",
       "      <td>2</td>\n",
       "      <td>2</td>\n",
       "      <td>2</td>\n",
       "      <td>5</td>\n",
       "      <td>...</td>\n",
       "      <td>3</td>\n",
       "      <td>1</td>\n",
       "      <td>0</td>\n",
       "      <td>3</td>\n",
       "      <td>2</td>\n",
       "      <td>3</td>\n",
       "      <td>1</td>\n",
       "      <td>1</td>\n",
       "      <td>3</td>\n",
       "      <td>2</td>\n",
       "      <td>3</td>\n",
       "      <td>2</td>\n",
       "      <td>2</td>\n",
       "      <td>2</td>\n",
       "      <td>2</td>\n",
       "      <td>0</td>\n",
       "      <td>0</td>\n",
       "      <td>0</td>\n",
       "      <td>2</td>\n",
       "      <td>1</td>\n",
       "      <td>0</td>\n",
       "      <td>0</td>\n",
       "      <td>2</td>\n",
       "      <td>1</td>\n",
       "      <td>0</td>\n",
       "    </tr>\n",
       "  </tbody>\n",
       "</table>\n",
       "<p>5 rows × 1466 columns</p>\n",
       "</div>"
      ],
      "text/plain": [
       "                              id        item_id    dept_id   cat_id store_id  \\\n",
       "0  HOBBIES_1_001_CA_1_evaluation  HOBBIES_1_001  HOBBIES_1  HOBBIES     CA_1   \n",
       "1  HOBBIES_1_002_CA_1_evaluation  HOBBIES_1_002  HOBBIES_1  HOBBIES     CA_1   \n",
       "2  HOBBIES_1_003_CA_1_evaluation  HOBBIES_1_003  HOBBIES_1  HOBBIES     CA_1   \n",
       "3  HOBBIES_1_004_CA_1_evaluation  HOBBIES_1_004  HOBBIES_1  HOBBIES     CA_1   \n",
       "4  HOBBIES_1_005_CA_1_evaluation  HOBBIES_1_005  HOBBIES_1  HOBBIES     CA_1   \n",
       "\n",
       "  state_id  d_482  d_483  d_484  d_485  d_486  d_487  d_488  d_489  d_490  \\\n",
       "0       CA      0      0      0      0      0      0      0      0      0   \n",
       "1       CA      0      1      0      0      0      0      0      1      0   \n",
       "2       CA      0      0      0      0      0      0      0      0      0   \n",
       "3       CA      1      2      3      1      0      0      1      1      1   \n",
       "4       CA      0      0      2      5      3      2      2      3      1   \n",
       "\n",
       "   d_491  d_492  d_493  d_494  d_495  d_496  d_497  d_498  d_499  d_500  ...  \\\n",
       "0      0      0      0      0      0      0      0      0      0      0  ...   \n",
       "1      0      0      0      1      0      0      1      0      0      1  ...   \n",
       "2      0      0      0      0      0      0      0      0      0      0  ...   \n",
       "3      3      1      0      1      1      0      2      0      5      1  ...   \n",
       "4      3      1      1      2      0      1      2      2      2      5  ...   \n",
       "\n",
       "   d_1917  d_1918  d_1919  d_1920  d_1921  d_1922  d_1923  d_1924  d_1925  \\\n",
       "0       2       0       3       5       0       0       1       1       0   \n",
       "1       0       0       0       0       0       0       1       0       0   \n",
       "2       1       0       2       1       0       0       0       0       2   \n",
       "3       2       4       1       6       4       0       0       0       2   \n",
       "4       3       1       0       3       2       3       1       1       3   \n",
       "\n",
       "   d_1926  d_1927  d_1928  d_1929  d_1930  d_1931  d_1932  d_1933  d_1934  \\\n",
       "0       2       1       2       2       1       0       2       4       0   \n",
       "1       0       0       0       0       0       0       0       1       2   \n",
       "2       1       3       0       0       1       0       1       0       2   \n",
       "3       2       4       2       1       1       1       1       1       0   \n",
       "4       2       3       2       2       2       2       0       0       0   \n",
       "\n",
       "   d_1935  d_1936  d_1937  d_1938  d_1939  d_1940  d_1941  \n",
       "0       0       0       0       3       3       0       1  \n",
       "1       1       1       0       0       0       0       0  \n",
       "2       0       0       0       2       3       0       1  \n",
       "3       4       0       1       3       0       2       6  \n",
       "4       2       1       0       0       2       1       0  \n",
       "\n",
       "[5 rows x 1466 columns]"
      ]
     },
     "execution_count": 78,
     "metadata": {
      "tags": []
     },
     "output_type": "execute_result"
    }
   ],
   "source": [
    "idCols = ['id', 'item_id', 'dept_id', 'cat_id', 'store_id', 'state_id']\n",
    "\n",
    "# Use only the last three years\n",
    "DAYS = int(365*4); LAST_DAY=1941\n",
    "dayCols = [\"d_{}\".format(i) for i in range(LAST_DAY-DAYS+1, LAST_DAY+1)]\n",
    "print(len(dayCols), dayCols[0])\n",
    "sales = sales[idCols+dayCols]\n",
    "print(sales.shape)\n",
    "sales.head()"
   ]
  },
  {
   "cell_type": "code",
   "execution_count": 78,
   "metadata": {
    "colab": {},
    "colab_type": "code",
    "executionInfo": {
     "elapsed": 4688,
     "status": "ok",
     "timestamp": 1592450234285,
     "user": {
      "displayName": "Pakawat NAKWIJIT",
      "photoUrl": "https://lh3.googleusercontent.com/a-/AOh14GiquOygeytgA5lxJCtO2dXyXm9wBw5lRlG43yd5=s64",
      "userId": "16398521879664391558"
     },
     "user_tz": -420
    },
    "id": "NtEoUCZjbbTY"
   },
   "outputs": [],
   "source": []
  },
  {
   "cell_type": "code",
   "execution_count": 79,
   "metadata": {
    "colab": {
     "base_uri": "https://localhost:8080/",
     "height": 121
    },
    "colab_type": "code",
    "executionInfo": {
     "elapsed": 11303,
     "status": "ok",
     "timestamp": 1592450257206,
     "user": {
      "displayName": "Pakawat NAKWIJIT",
      "photoUrl": "https://lh3.googleusercontent.com/a-/AOh14GiquOygeytgA5lxJCtO2dXyXm9wBw5lRlG43yd5=s64",
      "userId": "16398521879664391558"
     },
     "user_tz": -420
    },
    "id": "hDOXYzI9w1-_",
    "outputId": "92cd373b-ff7a-416d-8d73-a9edb9ae3f29"
   },
   "outputs": [
    {
     "name": "stdout",
     "output_type": "stream",
     "text": [
      ": 44515400 rows and 8 columns\n",
      "Mem. usage decreased to 2462.29 Mb (9.4% reduction)\n",
      ": 853720 rows and 8 columns\n",
      "Mem. usage decreased to 46.41 Mb (10.9% reduction)\n",
      ": 853720 rows and 8 columns\n",
      "Mem. usage decreased to 46.41 Mb (10.9% reduction)\n"
     ]
    }
   ],
   "source": [
    "def melted(df, name=\"\"):\n",
    "    df = pd.melt(df, id_vars = idCols, var_name = 'day', value_name = 'demand')\n",
    "    print('{}: {} rows and {} columns'.format(name, df.shape[0], df.shape[1]))\n",
    "    df = reduce_mem_usage(df)\n",
    "    # df.to_csv(name+\".csv\")\n",
    "    return df\n",
    "\n",
    "melted_sales = melted(sales)\n",
    "melted_sales[\"part\"] = \"train\"\n",
    "melted_validate = melted(validate_submission)\n",
    "melted_validate[\"part\"] = \"validate\"\n",
    "melted_eval = melted(eval_submission)\n",
    "melted_eval[\"part\"] = \"evaluate\""
   ]
  },
  {
   "cell_type": "code",
   "execution_count": 80,
   "metadata": {
    "colab": {
     "base_uri": "https://localhost:8080/",
     "height": 202
    },
    "colab_type": "code",
    "executionInfo": {
     "elapsed": 778,
     "status": "ok",
     "timestamp": 1592450259427,
     "user": {
      "displayName": "Pakawat NAKWIJIT",
      "photoUrl": "https://lh3.googleusercontent.com/a-/AOh14GiquOygeytgA5lxJCtO2dXyXm9wBw5lRlG43yd5=s64",
      "userId": "16398521879664391558"
     },
     "user_tz": -420
    },
    "id": "O4_OBl_0WKVA",
    "outputId": "dce73dae-0659-433b-b24c-60c3f26b2e04"
   },
   "outputs": [
    {
     "data": {
      "text/html": [
       "<div>\n",
       "<style scoped>\n",
       "    .dataframe tbody tr th:only-of-type {\n",
       "        vertical-align: middle;\n",
       "    }\n",
       "\n",
       "    .dataframe tbody tr th {\n",
       "        vertical-align: top;\n",
       "    }\n",
       "\n",
       "    .dataframe thead th {\n",
       "        text-align: right;\n",
       "    }\n",
       "</style>\n",
       "<table border=\"1\" class=\"dataframe\">\n",
       "  <thead>\n",
       "    <tr style=\"text-align: right;\">\n",
       "      <th></th>\n",
       "      <th>id</th>\n",
       "      <th>item_id</th>\n",
       "      <th>dept_id</th>\n",
       "      <th>cat_id</th>\n",
       "      <th>store_id</th>\n",
       "      <th>state_id</th>\n",
       "      <th>day</th>\n",
       "      <th>demand</th>\n",
       "      <th>part</th>\n",
       "    </tr>\n",
       "  </thead>\n",
       "  <tbody>\n",
       "    <tr>\n",
       "      <th>0</th>\n",
       "      <td>HOBBIES_1_001_CA_1_evaluation</td>\n",
       "      <td>HOBBIES_1_001</td>\n",
       "      <td>HOBBIES_1</td>\n",
       "      <td>HOBBIES</td>\n",
       "      <td>CA_1</td>\n",
       "      <td>CA</td>\n",
       "      <td>d_1942</td>\n",
       "      <td>0</td>\n",
       "      <td>evaluate</td>\n",
       "    </tr>\n",
       "    <tr>\n",
       "      <th>1</th>\n",
       "      <td>HOBBIES_1_002_CA_1_evaluation</td>\n",
       "      <td>HOBBIES_1_002</td>\n",
       "      <td>HOBBIES_1</td>\n",
       "      <td>HOBBIES</td>\n",
       "      <td>CA_1</td>\n",
       "      <td>CA</td>\n",
       "      <td>d_1942</td>\n",
       "      <td>0</td>\n",
       "      <td>evaluate</td>\n",
       "    </tr>\n",
       "    <tr>\n",
       "      <th>2</th>\n",
       "      <td>HOBBIES_1_003_CA_1_evaluation</td>\n",
       "      <td>HOBBIES_1_003</td>\n",
       "      <td>HOBBIES_1</td>\n",
       "      <td>HOBBIES</td>\n",
       "      <td>CA_1</td>\n",
       "      <td>CA</td>\n",
       "      <td>d_1942</td>\n",
       "      <td>0</td>\n",
       "      <td>evaluate</td>\n",
       "    </tr>\n",
       "    <tr>\n",
       "      <th>3</th>\n",
       "      <td>HOBBIES_1_004_CA_1_evaluation</td>\n",
       "      <td>HOBBIES_1_004</td>\n",
       "      <td>HOBBIES_1</td>\n",
       "      <td>HOBBIES</td>\n",
       "      <td>CA_1</td>\n",
       "      <td>CA</td>\n",
       "      <td>d_1942</td>\n",
       "      <td>0</td>\n",
       "      <td>evaluate</td>\n",
       "    </tr>\n",
       "    <tr>\n",
       "      <th>4</th>\n",
       "      <td>HOBBIES_1_005_CA_1_evaluation</td>\n",
       "      <td>HOBBIES_1_005</td>\n",
       "      <td>HOBBIES_1</td>\n",
       "      <td>HOBBIES</td>\n",
       "      <td>CA_1</td>\n",
       "      <td>CA</td>\n",
       "      <td>d_1942</td>\n",
       "      <td>0</td>\n",
       "      <td>evaluate</td>\n",
       "    </tr>\n",
       "  </tbody>\n",
       "</table>\n",
       "</div>"
      ],
      "text/plain": [
       "                              id        item_id    dept_id   cat_id store_id  \\\n",
       "0  HOBBIES_1_001_CA_1_evaluation  HOBBIES_1_001  HOBBIES_1  HOBBIES     CA_1   \n",
       "1  HOBBIES_1_002_CA_1_evaluation  HOBBIES_1_002  HOBBIES_1  HOBBIES     CA_1   \n",
       "2  HOBBIES_1_003_CA_1_evaluation  HOBBIES_1_003  HOBBIES_1  HOBBIES     CA_1   \n",
       "3  HOBBIES_1_004_CA_1_evaluation  HOBBIES_1_004  HOBBIES_1  HOBBIES     CA_1   \n",
       "4  HOBBIES_1_005_CA_1_evaluation  HOBBIES_1_005  HOBBIES_1  HOBBIES     CA_1   \n",
       "\n",
       "  state_id     day  demand      part  \n",
       "0       CA  d_1942       0  evaluate  \n",
       "1       CA  d_1942       0  evaluate  \n",
       "2       CA  d_1942       0  evaluate  \n",
       "3       CA  d_1942       0  evaluate  \n",
       "4       CA  d_1942       0  evaluate  "
      ]
     },
     "execution_count": 80,
     "metadata": {
      "tags": []
     },
     "output_type": "execute_result"
    }
   ],
   "source": [
    "melted_eval.head()"
   ]
  },
  {
   "cell_type": "code",
   "execution_count": 81,
   "metadata": {
    "colab": {
     "base_uri": "https://localhost:8080/",
     "height": 202
    },
    "colab_type": "code",
    "executionInfo": {
     "elapsed": 13976,
     "status": "ok",
     "timestamp": 1592450274834,
     "user": {
      "displayName": "Pakawat NAKWIJIT",
      "photoUrl": "https://lh3.googleusercontent.com/a-/AOh14GiquOygeytgA5lxJCtO2dXyXm9wBw5lRlG43yd5=s64",
      "userId": "16398521879664391558"
     },
     "user_tz": -420
    },
    "id": "atUPa8aKw1_C",
    "outputId": "7caa11e6-4995-476e-82b7-6e75080c6f7e"
   },
   "outputs": [
    {
     "data": {
      "text/html": [
       "<div>\n",
       "<style scoped>\n",
       "    .dataframe tbody tr th:only-of-type {\n",
       "        vertical-align: middle;\n",
       "    }\n",
       "\n",
       "    .dataframe tbody tr th {\n",
       "        vertical-align: top;\n",
       "    }\n",
       "\n",
       "    .dataframe thead th {\n",
       "        text-align: right;\n",
       "    }\n",
       "</style>\n",
       "<table border=\"1\" class=\"dataframe\">\n",
       "  <thead>\n",
       "    <tr style=\"text-align: right;\">\n",
       "      <th></th>\n",
       "      <th>id</th>\n",
       "      <th>item_id</th>\n",
       "      <th>dept_id</th>\n",
       "      <th>cat_id</th>\n",
       "      <th>store_id</th>\n",
       "      <th>state_id</th>\n",
       "      <th>day</th>\n",
       "      <th>demand</th>\n",
       "      <th>part</th>\n",
       "    </tr>\n",
       "  </thead>\n",
       "  <tbody>\n",
       "    <tr>\n",
       "      <th>0</th>\n",
       "      <td>HOBBIES_1_001_CA_1_evaluation</td>\n",
       "      <td>HOBBIES_1_001</td>\n",
       "      <td>HOBBIES_1</td>\n",
       "      <td>HOBBIES</td>\n",
       "      <td>CA_1</td>\n",
       "      <td>CA</td>\n",
       "      <td>d_482</td>\n",
       "      <td>0</td>\n",
       "      <td>train</td>\n",
       "    </tr>\n",
       "    <tr>\n",
       "      <th>1</th>\n",
       "      <td>HOBBIES_1_002_CA_1_evaluation</td>\n",
       "      <td>HOBBIES_1_002</td>\n",
       "      <td>HOBBIES_1</td>\n",
       "      <td>HOBBIES</td>\n",
       "      <td>CA_1</td>\n",
       "      <td>CA</td>\n",
       "      <td>d_482</td>\n",
       "      <td>0</td>\n",
       "      <td>train</td>\n",
       "    </tr>\n",
       "    <tr>\n",
       "      <th>2</th>\n",
       "      <td>HOBBIES_1_003_CA_1_evaluation</td>\n",
       "      <td>HOBBIES_1_003</td>\n",
       "      <td>HOBBIES_1</td>\n",
       "      <td>HOBBIES</td>\n",
       "      <td>CA_1</td>\n",
       "      <td>CA</td>\n",
       "      <td>d_482</td>\n",
       "      <td>0</td>\n",
       "      <td>train</td>\n",
       "    </tr>\n",
       "    <tr>\n",
       "      <th>3</th>\n",
       "      <td>HOBBIES_1_004_CA_1_evaluation</td>\n",
       "      <td>HOBBIES_1_004</td>\n",
       "      <td>HOBBIES_1</td>\n",
       "      <td>HOBBIES</td>\n",
       "      <td>CA_1</td>\n",
       "      <td>CA</td>\n",
       "      <td>d_482</td>\n",
       "      <td>1</td>\n",
       "      <td>train</td>\n",
       "    </tr>\n",
       "    <tr>\n",
       "      <th>4</th>\n",
       "      <td>HOBBIES_1_005_CA_1_evaluation</td>\n",
       "      <td>HOBBIES_1_005</td>\n",
       "      <td>HOBBIES_1</td>\n",
       "      <td>HOBBIES</td>\n",
       "      <td>CA_1</td>\n",
       "      <td>CA</td>\n",
       "      <td>d_482</td>\n",
       "      <td>0</td>\n",
       "      <td>train</td>\n",
       "    </tr>\n",
       "  </tbody>\n",
       "</table>\n",
       "</div>"
      ],
      "text/plain": [
       "                              id        item_id    dept_id   cat_id store_id  \\\n",
       "0  HOBBIES_1_001_CA_1_evaluation  HOBBIES_1_001  HOBBIES_1  HOBBIES     CA_1   \n",
       "1  HOBBIES_1_002_CA_1_evaluation  HOBBIES_1_002  HOBBIES_1  HOBBIES     CA_1   \n",
       "2  HOBBIES_1_003_CA_1_evaluation  HOBBIES_1_003  HOBBIES_1  HOBBIES     CA_1   \n",
       "3  HOBBIES_1_004_CA_1_evaluation  HOBBIES_1_004  HOBBIES_1  HOBBIES     CA_1   \n",
       "4  HOBBIES_1_005_CA_1_evaluation  HOBBIES_1_005  HOBBIES_1  HOBBIES     CA_1   \n",
       "\n",
       "  state_id    day  demand   part  \n",
       "0       CA  d_482       0  train  \n",
       "1       CA  d_482       0  train  \n",
       "2       CA  d_482       0  train  \n",
       "3       CA  d_482       1  train  \n",
       "4       CA  d_482       0  train  "
      ]
     },
     "execution_count": 81,
     "metadata": {
      "tags": []
     },
     "output_type": "execute_result"
    }
   ],
   "source": [
    "# data = melted_sales\n",
    "data = pd.concat([melted_sales, melted_validate, melted_eval], axis = 0)\n",
    "# data = pd.concat([melted_sales, melted_validate], axis = 0)\n",
    "data.head()"
   ]
  },
  {
   "cell_type": "code",
   "execution_count": 82,
   "metadata": {
    "colab": {
     "base_uri": "https://localhost:8080/",
     "height": 35
    },
    "colab_type": "code",
    "executionInfo": {
     "elapsed": 2017,
     "status": "ok",
     "timestamp": 1592450279398,
     "user": {
      "displayName": "Pakawat NAKWIJIT",
      "photoUrl": "https://lh3.googleusercontent.com/a-/AOh14GiquOygeytgA5lxJCtO2dXyXm9wBw5lRlG43yd5=s64",
      "userId": "16398521879664391558"
     },
     "user_tz": -420
    },
    "id": "Uc_2zckrw1_G",
    "outputId": "fec5a733-9ae1-4e1e-a2a6-878a1d67fedc"
   },
   "outputs": [
    {
     "data": {
      "text/plain": [
       "692"
      ]
     },
     "execution_count": 82,
     "metadata": {
      "tags": []
     },
     "output_type": "execute_result"
    }
   ],
   "source": [
    "import gc\n",
    "del melted_sales, melted_validate\n",
    "del submission, validate_submission, eval_submission, product\n",
    "del sales,\n",
    "gc.collect()"
   ]
  },
  {
   "cell_type": "code",
   "execution_count": 83,
   "metadata": {
    "colab": {
     "base_uri": "https://localhost:8080/",
     "height": 52
    },
    "colab_type": "code",
    "executionInfo": {
     "elapsed": 83305,
     "status": "ok",
     "timestamp": 1592450361726,
     "user": {
      "displayName": "Pakawat NAKWIJIT",
      "photoUrl": "https://lh3.googleusercontent.com/a-/AOh14GiquOygeytgA5lxJCtO2dXyXm9wBw5lRlG43yd5=s64",
      "userId": "16398521879664391558"
     },
     "user_tz": -420
    },
    "id": "Uilojb2Hw1_M",
    "outputId": "dc8bc995-4c99-4d35-d64e-21a93b26e973"
   },
   "outputs": [
    {
     "name": "stdout",
     "output_type": "stream",
     "text": [
      "Our dataset to train has 46222840 rows and 17 columns\n",
      "Our final dataset to train has 46222840 rows and 18 columns\n"
     ]
    }
   ],
   "source": [
    "# merge with calendar, sell_prices\n",
    "\n",
    "calendar.drop(['weekday', 'wday', 'month', 'year'], inplace = True, axis = 1)\n",
    "data = pd.merge(data, calendar, how = 'left', left_on = ['day'], right_on = ['d'])\n",
    "data.drop(['d', 'day'], inplace = True, axis = 1)\n",
    "\n",
    "print('Our dataset to train has {} rows and {} columns'.format(data.shape[0], data.shape[1]))\n",
    "\n",
    "# get the sell price data (this feature should be very important)\n",
    "# version 12: left join sell_prices\n",
    "data = data.merge(sell_prices, on = ['store_id', 'item_id', 'wm_yr_wk'], how = 'left')\n",
    "\n",
    "print('Our final dataset to train has {} rows and {} columns'.format(data.shape[0], data.shape[1]))\n"
   ]
  },
  {
   "cell_type": "code",
   "execution_count": 84,
   "metadata": {
    "colab": {
     "base_uri": "https://localhost:8080/",
     "height": 35
    },
    "colab_type": "code",
    "executionInfo": {
     "elapsed": 82481,
     "status": "ok",
     "timestamp": 1592450361727,
     "user": {
      "displayName": "Pakawat NAKWIJIT",
      "photoUrl": "https://lh3.googleusercontent.com/a-/AOh14GiquOygeytgA5lxJCtO2dXyXm9wBw5lRlG43yd5=s64",
      "userId": "16398521879664391558"
     },
     "user_tz": -420
    },
    "id": "hKQSBL9Zw1_P",
    "outputId": "01ad6241-15f9-47de-9f0a-9c016b6ddaba"
   },
   "outputs": [
    {
     "data": {
      "text/plain": [
       "0"
      ]
     },
     "execution_count": 84,
     "metadata": {
      "tags": []
     },
     "output_type": "execute_result"
    }
   ],
   "source": [
    "del calendar, sell_prices\n",
    "gc.collect()"
   ]
  },
  {
   "cell_type": "code",
   "execution_count": 85,
   "metadata": {
    "colab": {
     "base_uri": "https://localhost:8080/",
     "height": 35
    },
    "colab_type": "code",
    "executionInfo": {
     "elapsed": 81923,
     "status": "ok",
     "timestamp": 1592450361728,
     "user": {
      "displayName": "Pakawat NAKWIJIT",
      "photoUrl": "https://lh3.googleusercontent.com/a-/AOh14GiquOygeytgA5lxJCtO2dXyXm9wBw5lRlG43yd5=s64",
      "userId": "16398521879664391558"
     },
     "user_tz": -420
    },
    "id": "6-3D6m9VFr-z",
    "outputId": "9ea1b35f-e3de-4f63-9b48-eae9ecd07655"
   },
   "outputs": [
    {
     "name": "stdout",
     "output_type": "stream",
     "text": [
      "Sell price NA:  11.570641267390753 %\n"
     ]
    }
   ],
   "source": [
    "na_sell_price = data[\"sell_price\"].isnull().sum()/len(data) #= df[['a','b']].fillna(value=0)\n",
    "print(\"Sell price NA: \", na_sell_price*100, \"%\")\n",
    "\n",
    "data[\"sell_price\"] = data[\"sell_price\"].fillna(value=0)"
   ]
  },
  {
   "cell_type": "markdown",
   "metadata": {
    "colab_type": "text",
    "id": "grKV3oObw1_R"
   },
   "source": [
    "# Feature Engineering"
   ]
  },
  {
   "cell_type": "code",
   "execution_count": 86,
   "metadata": {
    "colab": {
     "base_uri": "https://localhost:8080/",
     "height": 52
    },
    "colab_type": "code",
    "executionInfo": {
     "elapsed": 131005,
     "status": "ok",
     "timestamp": 1592450411721,
     "user": {
      "displayName": "Pakawat NAKWIJIT",
      "photoUrl": "https://lh3.googleusercontent.com/a-/AOh14GiquOygeytgA5lxJCtO2dXyXm9wBw5lRlG43yd5=s64",
      "userId": "16398521879664391558"
     },
     "user_tz": -420
    },
    "id": "B7MlImtZw1_R",
    "outputId": "f62fdf12-297b-463d-b479-38e709eb86e8"
   },
   "outputs": [
    {
     "name": "stdout",
     "output_type": "stream",
     "text": [
      "Mem. usage decreased to 3482.44 Mb (4.8% reduction)\n",
      "Mem. usage decreased to 2248.16 Mb (7.3% reduction)\n"
     ]
    }
   ],
   "source": [
    "from sklearn import preprocessing\n",
    "def encode_categorical(dt, cols):\n",
    "    for col in cols:\n",
    "        # Leave NaN as it is.\n",
    "#         le = preprocessing.LabelEncoder()\n",
    "#         not_null = df[col][df[col].notnull()]\n",
    "#         df[col] = pd.Series(le.fit_transform(not_null), index=not_null.index)\n",
    "        \n",
    "#         np.save(f'label_class_{col}.npy', le.classes_)\n",
    "        dt[col] = dt[col].astype(\"category\").cat.codes.astype(\"int16\")\n",
    "        dt[col] -= dt[col].min()\n",
    "    return dt\n",
    "\n",
    "\n",
    "data = encode_categorical(data, [\"cat_id\", \"dept_id\", \"item_id\", \"state_id\", \"store_id\"]).pipe(reduce_mem_usage)\n",
    "values = {'event_name_1': \"normal\", 'event_type_1': \"normal\", \"event_name_2\": \"normal\", 'event_type_2': \"normal\"}\n",
    "data.fillna(value=values, inplace = True);\n",
    "\n",
    "data = encode_categorical(data, [\"event_name_1\", \"event_name_2\", \"event_type_1\", \"event_type_2\"]).pipe(reduce_mem_usage)"
   ]
  },
  {
   "cell_type": "code",
   "execution_count": 87,
   "metadata": {
    "colab": {
     "base_uri": "https://localhost:8080/",
     "height": 309
    },
    "colab_type": "code",
    "executionInfo": {
     "elapsed": 130643,
     "status": "ok",
     "timestamp": 1592450411722,
     "user": {
      "displayName": "Pakawat NAKWIJIT",
      "photoUrl": "https://lh3.googleusercontent.com/a-/AOh14GiquOygeytgA5lxJCtO2dXyXm9wBw5lRlG43yd5=s64",
      "userId": "16398521879664391558"
     },
     "user_tz": -420
    },
    "id": "_zLV3Tt_Vsd1",
    "outputId": "8ae4f93c-a086-49aa-a7ed-f9a7ca4b2bcf"
   },
   "outputs": [
    {
     "data": {
      "text/html": [
       "<div>\n",
       "<style scoped>\n",
       "    .dataframe tbody tr th:only-of-type {\n",
       "        vertical-align: middle;\n",
       "    }\n",
       "\n",
       "    .dataframe tbody tr th {\n",
       "        vertical-align: top;\n",
       "    }\n",
       "\n",
       "    .dataframe thead th {\n",
       "        text-align: right;\n",
       "    }\n",
       "</style>\n",
       "<table border=\"1\" class=\"dataframe\">\n",
       "  <thead>\n",
       "    <tr style=\"text-align: right;\">\n",
       "      <th></th>\n",
       "      <th>id</th>\n",
       "      <th>item_id</th>\n",
       "      <th>dept_id</th>\n",
       "      <th>cat_id</th>\n",
       "      <th>store_id</th>\n",
       "      <th>state_id</th>\n",
       "      <th>demand</th>\n",
       "      <th>part</th>\n",
       "      <th>date</th>\n",
       "      <th>wm_yr_wk</th>\n",
       "      <th>event_name_1</th>\n",
       "      <th>event_type_1</th>\n",
       "      <th>event_name_2</th>\n",
       "      <th>event_type_2</th>\n",
       "      <th>snap_CA</th>\n",
       "      <th>snap_TX</th>\n",
       "      <th>snap_WI</th>\n",
       "      <th>sell_price</th>\n",
       "    </tr>\n",
       "  </thead>\n",
       "  <tbody>\n",
       "    <tr>\n",
       "      <th>0</th>\n",
       "      <td>HOBBIES_1_001_CA_1_evaluation</td>\n",
       "      <td>1437</td>\n",
       "      <td>3</td>\n",
       "      <td>1</td>\n",
       "      <td>0</td>\n",
       "      <td>0</td>\n",
       "      <td>0</td>\n",
       "      <td>train</td>\n",
       "      <td>2012-05-24</td>\n",
       "      <td>11217</td>\n",
       "      <td>30</td>\n",
       "      <td>4</td>\n",
       "      <td>3</td>\n",
       "      <td>2</td>\n",
       "      <td>0</td>\n",
       "      <td>0</td>\n",
       "      <td>0</td>\n",
       "      <td>0.000000</td>\n",
       "    </tr>\n",
       "    <tr>\n",
       "      <th>1</th>\n",
       "      <td>HOBBIES_1_002_CA_1_evaluation</td>\n",
       "      <td>1438</td>\n",
       "      <td>3</td>\n",
       "      <td>1</td>\n",
       "      <td>0</td>\n",
       "      <td>0</td>\n",
       "      <td>0</td>\n",
       "      <td>train</td>\n",
       "      <td>2012-05-24</td>\n",
       "      <td>11217</td>\n",
       "      <td>30</td>\n",
       "      <td>4</td>\n",
       "      <td>3</td>\n",
       "      <td>2</td>\n",
       "      <td>0</td>\n",
       "      <td>0</td>\n",
       "      <td>0</td>\n",
       "      <td>3.970703</td>\n",
       "    </tr>\n",
       "    <tr>\n",
       "      <th>2</th>\n",
       "      <td>HOBBIES_1_003_CA_1_evaluation</td>\n",
       "      <td>1439</td>\n",
       "      <td>3</td>\n",
       "      <td>1</td>\n",
       "      <td>0</td>\n",
       "      <td>0</td>\n",
       "      <td>0</td>\n",
       "      <td>train</td>\n",
       "      <td>2012-05-24</td>\n",
       "      <td>11217</td>\n",
       "      <td>30</td>\n",
       "      <td>4</td>\n",
       "      <td>3</td>\n",
       "      <td>2</td>\n",
       "      <td>0</td>\n",
       "      <td>0</td>\n",
       "      <td>0</td>\n",
       "      <td>0.000000</td>\n",
       "    </tr>\n",
       "    <tr>\n",
       "      <th>3</th>\n",
       "      <td>HOBBIES_1_004_CA_1_evaluation</td>\n",
       "      <td>1440</td>\n",
       "      <td>3</td>\n",
       "      <td>1</td>\n",
       "      <td>0</td>\n",
       "      <td>0</td>\n",
       "      <td>1</td>\n",
       "      <td>train</td>\n",
       "      <td>2012-05-24</td>\n",
       "      <td>11217</td>\n",
       "      <td>30</td>\n",
       "      <td>4</td>\n",
       "      <td>3</td>\n",
       "      <td>2</td>\n",
       "      <td>0</td>\n",
       "      <td>0</td>\n",
       "      <td>0</td>\n",
       "      <td>4.339844</td>\n",
       "    </tr>\n",
       "    <tr>\n",
       "      <th>4</th>\n",
       "      <td>HOBBIES_1_005_CA_1_evaluation</td>\n",
       "      <td>1441</td>\n",
       "      <td>3</td>\n",
       "      <td>1</td>\n",
       "      <td>0</td>\n",
       "      <td>0</td>\n",
       "      <td>0</td>\n",
       "      <td>train</td>\n",
       "      <td>2012-05-24</td>\n",
       "      <td>11217</td>\n",
       "      <td>30</td>\n",
       "      <td>4</td>\n",
       "      <td>3</td>\n",
       "      <td>2</td>\n",
       "      <td>0</td>\n",
       "      <td>0</td>\n",
       "      <td>0</td>\n",
       "      <td>2.980469</td>\n",
       "    </tr>\n",
       "  </tbody>\n",
       "</table>\n",
       "</div>"
      ],
      "text/plain": [
       "                              id  item_id  dept_id  cat_id  store_id  \\\n",
       "0  HOBBIES_1_001_CA_1_evaluation     1437        3       1         0   \n",
       "1  HOBBIES_1_002_CA_1_evaluation     1438        3       1         0   \n",
       "2  HOBBIES_1_003_CA_1_evaluation     1439        3       1         0   \n",
       "3  HOBBIES_1_004_CA_1_evaluation     1440        3       1         0   \n",
       "4  HOBBIES_1_005_CA_1_evaluation     1441        3       1         0   \n",
       "\n",
       "   state_id  demand   part        date  wm_yr_wk  event_name_1  event_type_1  \\\n",
       "0         0       0  train  2012-05-24     11217            30             4   \n",
       "1         0       0  train  2012-05-24     11217            30             4   \n",
       "2         0       0  train  2012-05-24     11217            30             4   \n",
       "3         0       1  train  2012-05-24     11217            30             4   \n",
       "4         0       0  train  2012-05-24     11217            30             4   \n",
       "\n",
       "   event_name_2  event_type_2  snap_CA  snap_TX  snap_WI  sell_price  \n",
       "0             3             2        0        0        0    0.000000  \n",
       "1             3             2        0        0        0    3.970703  \n",
       "2             3             2        0        0        0    0.000000  \n",
       "3             3             2        0        0        0    4.339844  \n",
       "4             3             2        0        0        0    2.980469  "
      ]
     },
     "execution_count": 87,
     "metadata": {
      "tags": []
     },
     "output_type": "execute_result"
    }
   ],
   "source": [
    "data.head()"
   ]
  },
  {
   "cell_type": "code",
   "execution_count": 88,
   "metadata": {
    "colab": {
     "base_uri": "https://localhost:8080/",
     "height": 309
    },
    "colab_type": "code",
    "executionInfo": {
     "elapsed": 168064,
     "status": "ok",
     "timestamp": 1592450449574,
     "user": {
      "displayName": "Pakawat NAKWIJIT",
      "photoUrl": "https://lh3.googleusercontent.com/a-/AOh14GiquOygeytgA5lxJCtO2dXyXm9wBw5lRlG43yd5=s64",
      "userId": "16398521879664391558"
     },
     "user_tz": -420
    },
    "id": "rbwpGK-yw1_T",
    "outputId": "e2f8aed7-782e-443d-ce8d-afdf839b16e8"
   },
   "outputs": [
    {
     "data": {
      "text/html": [
       "<div>\n",
       "<style scoped>\n",
       "    .dataframe tbody tr th:only-of-type {\n",
       "        vertical-align: middle;\n",
       "    }\n",
       "\n",
       "    .dataframe tbody tr th {\n",
       "        vertical-align: top;\n",
       "    }\n",
       "\n",
       "    .dataframe thead th {\n",
       "        text-align: right;\n",
       "    }\n",
       "</style>\n",
       "<table border=\"1\" class=\"dataframe\">\n",
       "  <thead>\n",
       "    <tr style=\"text-align: right;\">\n",
       "      <th></th>\n",
       "      <th>id</th>\n",
       "      <th>item_id</th>\n",
       "      <th>dept_id</th>\n",
       "      <th>cat_id</th>\n",
       "      <th>store_id</th>\n",
       "      <th>state_id</th>\n",
       "      <th>demand</th>\n",
       "      <th>part</th>\n",
       "      <th>date</th>\n",
       "      <th>wm_yr_wk</th>\n",
       "      <th>event_name_1</th>\n",
       "      <th>event_type_1</th>\n",
       "      <th>event_name_2</th>\n",
       "      <th>event_type_2</th>\n",
       "      <th>snap_CA</th>\n",
       "      <th>snap_TX</th>\n",
       "      <th>snap_WI</th>\n",
       "      <th>sell_price</th>\n",
       "      <th>year</th>\n",
       "      <th>quarter</th>\n",
       "      <th>month</th>\n",
       "      <th>week</th>\n",
       "      <th>day</th>\n",
       "      <th>dayofweek</th>\n",
       "      <th>weekday</th>\n",
       "      <th>weekofyear</th>\n",
       "      <th>is_weekend</th>\n",
       "    </tr>\n",
       "  </thead>\n",
       "  <tbody>\n",
       "    <tr>\n",
       "      <th>0</th>\n",
       "      <td>HOBBIES_1_001_CA_1_evaluation</td>\n",
       "      <td>1437</td>\n",
       "      <td>3</td>\n",
       "      <td>1</td>\n",
       "      <td>0</td>\n",
       "      <td>0</td>\n",
       "      <td>0</td>\n",
       "      <td>train</td>\n",
       "      <td>2012-05-24</td>\n",
       "      <td>11217</td>\n",
       "      <td>30</td>\n",
       "      <td>4</td>\n",
       "      <td>3</td>\n",
       "      <td>2</td>\n",
       "      <td>0</td>\n",
       "      <td>0</td>\n",
       "      <td>0</td>\n",
       "      <td>0.000000</td>\n",
       "      <td>2012</td>\n",
       "      <td>2</td>\n",
       "      <td>5</td>\n",
       "      <td>21</td>\n",
       "      <td>24</td>\n",
       "      <td>3</td>\n",
       "      <td>3</td>\n",
       "      <td>21</td>\n",
       "      <td>0</td>\n",
       "    </tr>\n",
       "    <tr>\n",
       "      <th>1</th>\n",
       "      <td>HOBBIES_1_002_CA_1_evaluation</td>\n",
       "      <td>1438</td>\n",
       "      <td>3</td>\n",
       "      <td>1</td>\n",
       "      <td>0</td>\n",
       "      <td>0</td>\n",
       "      <td>0</td>\n",
       "      <td>train</td>\n",
       "      <td>2012-05-24</td>\n",
       "      <td>11217</td>\n",
       "      <td>30</td>\n",
       "      <td>4</td>\n",
       "      <td>3</td>\n",
       "      <td>2</td>\n",
       "      <td>0</td>\n",
       "      <td>0</td>\n",
       "      <td>0</td>\n",
       "      <td>3.970703</td>\n",
       "      <td>2012</td>\n",
       "      <td>2</td>\n",
       "      <td>5</td>\n",
       "      <td>21</td>\n",
       "      <td>24</td>\n",
       "      <td>3</td>\n",
       "      <td>3</td>\n",
       "      <td>21</td>\n",
       "      <td>0</td>\n",
       "    </tr>\n",
       "    <tr>\n",
       "      <th>2</th>\n",
       "      <td>HOBBIES_1_003_CA_1_evaluation</td>\n",
       "      <td>1439</td>\n",
       "      <td>3</td>\n",
       "      <td>1</td>\n",
       "      <td>0</td>\n",
       "      <td>0</td>\n",
       "      <td>0</td>\n",
       "      <td>train</td>\n",
       "      <td>2012-05-24</td>\n",
       "      <td>11217</td>\n",
       "      <td>30</td>\n",
       "      <td>4</td>\n",
       "      <td>3</td>\n",
       "      <td>2</td>\n",
       "      <td>0</td>\n",
       "      <td>0</td>\n",
       "      <td>0</td>\n",
       "      <td>0.000000</td>\n",
       "      <td>2012</td>\n",
       "      <td>2</td>\n",
       "      <td>5</td>\n",
       "      <td>21</td>\n",
       "      <td>24</td>\n",
       "      <td>3</td>\n",
       "      <td>3</td>\n",
       "      <td>21</td>\n",
       "      <td>0</td>\n",
       "    </tr>\n",
       "    <tr>\n",
       "      <th>3</th>\n",
       "      <td>HOBBIES_1_004_CA_1_evaluation</td>\n",
       "      <td>1440</td>\n",
       "      <td>3</td>\n",
       "      <td>1</td>\n",
       "      <td>0</td>\n",
       "      <td>0</td>\n",
       "      <td>1</td>\n",
       "      <td>train</td>\n",
       "      <td>2012-05-24</td>\n",
       "      <td>11217</td>\n",
       "      <td>30</td>\n",
       "      <td>4</td>\n",
       "      <td>3</td>\n",
       "      <td>2</td>\n",
       "      <td>0</td>\n",
       "      <td>0</td>\n",
       "      <td>0</td>\n",
       "      <td>4.339844</td>\n",
       "      <td>2012</td>\n",
       "      <td>2</td>\n",
       "      <td>5</td>\n",
       "      <td>21</td>\n",
       "      <td>24</td>\n",
       "      <td>3</td>\n",
       "      <td>3</td>\n",
       "      <td>21</td>\n",
       "      <td>0</td>\n",
       "    </tr>\n",
       "    <tr>\n",
       "      <th>4</th>\n",
       "      <td>HOBBIES_1_005_CA_1_evaluation</td>\n",
       "      <td>1441</td>\n",
       "      <td>3</td>\n",
       "      <td>1</td>\n",
       "      <td>0</td>\n",
       "      <td>0</td>\n",
       "      <td>0</td>\n",
       "      <td>train</td>\n",
       "      <td>2012-05-24</td>\n",
       "      <td>11217</td>\n",
       "      <td>30</td>\n",
       "      <td>4</td>\n",
       "      <td>3</td>\n",
       "      <td>2</td>\n",
       "      <td>0</td>\n",
       "      <td>0</td>\n",
       "      <td>0</td>\n",
       "      <td>2.980469</td>\n",
       "      <td>2012</td>\n",
       "      <td>2</td>\n",
       "      <td>5</td>\n",
       "      <td>21</td>\n",
       "      <td>24</td>\n",
       "      <td>3</td>\n",
       "      <td>3</td>\n",
       "      <td>21</td>\n",
       "      <td>0</td>\n",
       "    </tr>\n",
       "  </tbody>\n",
       "</table>\n",
       "</div>"
      ],
      "text/plain": [
       "                              id  item_id  dept_id  cat_id  store_id  \\\n",
       "0  HOBBIES_1_001_CA_1_evaluation     1437        3       1         0   \n",
       "1  HOBBIES_1_002_CA_1_evaluation     1438        3       1         0   \n",
       "2  HOBBIES_1_003_CA_1_evaluation     1439        3       1         0   \n",
       "3  HOBBIES_1_004_CA_1_evaluation     1440        3       1         0   \n",
       "4  HOBBIES_1_005_CA_1_evaluation     1441        3       1         0   \n",
       "\n",
       "   state_id  demand   part       date  wm_yr_wk  event_name_1  event_type_1  \\\n",
       "0         0       0  train 2012-05-24     11217            30             4   \n",
       "1         0       0  train 2012-05-24     11217            30             4   \n",
       "2         0       0  train 2012-05-24     11217            30             4   \n",
       "3         0       1  train 2012-05-24     11217            30             4   \n",
       "4         0       0  train 2012-05-24     11217            30             4   \n",
       "\n",
       "   event_name_2  event_type_2  snap_CA  snap_TX  snap_WI  sell_price  year  \\\n",
       "0             3             2        0        0        0    0.000000  2012   \n",
       "1             3             2        0        0        0    3.970703  2012   \n",
       "2             3             2        0        0        0    0.000000  2012   \n",
       "3             3             2        0        0        0    4.339844  2012   \n",
       "4             3             2        0        0        0    2.980469  2012   \n",
       "\n",
       "   quarter  month  week  day  dayofweek  weekday  weekofyear  is_weekend  \n",
       "0        2      5    21   24          3        3          21           0  \n",
       "1        2      5    21   24          3        3          21           0  \n",
       "2        2      5    21   24          3        3          21           0  \n",
       "3        2      5    21   24          3        3          21           0  \n",
       "4        2      5    21   24          3        3          21           0  "
      ]
     },
     "execution_count": 88,
     "metadata": {
      "tags": []
     },
     "output_type": "execute_result"
    }
   ],
   "source": [
    "def datetime_features(df):\n",
    "    df = df.copy()\n",
    "    df['date'] = pd.to_datetime(df['date'])\n",
    "    attrs = [\n",
    "        \"year\", \n",
    "        \"quarter\", \n",
    "        \"month\", \n",
    "        \"week\", \n",
    "        \"day\", \n",
    "        \"dayofweek\", \n",
    "        \"weekday\",\n",
    "        \"weekofyear\",\n",
    "#         \"is_year_end\", \n",
    "#         \"is_year_start\", \n",
    "#         \"is_quarter_end\", \n",
    "#         \"is_quarter_start\", \n",
    "#         \"is_month_end\",\n",
    "#         \"is_month_start\",\n",
    "    ]\n",
    "\n",
    "    for attr in attrs:\n",
    "        dtype = np.int16 if attr == \"year\" else np.int8\n",
    "        df[attr] = getattr(df['date'].dt, attr).astype(dtype)\n",
    "    df[\"is_weekend\"] = df[\"dayofweek\"].isin([5, 6]).astype(np.int8)\n",
    "    \n",
    "    return df\n",
    "\n",
    "data = datetime_features(data)\n",
    "data.head()"
   ]
  },
  {
   "cell_type": "code",
   "execution_count": 89,
   "metadata": {
    "colab": {
     "base_uri": "https://localhost:8080/",
     "height": 52
    },
    "colab_type": "code",
    "executionInfo": {
     "elapsed": 232492,
     "status": "ok",
     "timestamp": 1592450514448,
     "user": {
      "displayName": "Pakawat NAKWIJIT",
      "photoUrl": "https://lh3.googleusercontent.com/a-/AOh14GiquOygeytgA5lxJCtO2dXyXm9wBw5lRlG43yd5=s64",
      "userId": "16398521879664391558"
     },
     "user_tz": -420
    },
    "id": "wcHvd57hw1_W",
    "outputId": "6f300893-b2c5-4689-9af1-c7b0c2711298"
   },
   "outputs": [
    {
     "name": "stdout",
     "output_type": "stream",
     "text": [
      "44515400 853720 853720\n"
     ]
    },
    {
     "data": {
      "text/plain": [
       "0"
      ]
     },
     "execution_count": 89,
     "metadata": {
      "tags": []
     },
     "output_type": "execute_result"
    }
   ],
   "source": [
    "data.sort_values(by=['id', \"date\"], inplace=True)\n",
    "\n",
    "X_train = data[data[\"part\"]==\"train\"]\n",
    "X_val = data[data[\"part\"]==\"validate\"]\n",
    "X_eval = data[data[\"part\"]==\"evaluate\"]\n",
    "\n",
    "print(len(X_train), len(X_val), len(X_eval))\n",
    "del data; gc.collect()"
   ]
  },
  {
   "cell_type": "code",
   "execution_count": 89,
   "metadata": {
    "colab": {},
    "colab_type": "code",
    "executionInfo": {
     "elapsed": 226817,
     "status": "ok",
     "timestamp": 1592450514449,
     "user": {
      "displayName": "Pakawat NAKWIJIT",
      "photoUrl": "https://lh3.googleusercontent.com/a-/AOh14GiquOygeytgA5lxJCtO2dXyXm9wBw5lRlG43yd5=s64",
      "userId": "16398521879664391558"
     },
     "user_tz": -420
    },
    "id": "MWIuq0YCVb2G"
   },
   "outputs": [],
   "source": []
  },
  {
   "cell_type": "code",
   "execution_count": 90,
   "metadata": {
    "colab": {},
    "colab_type": "code",
    "executionInfo": {
     "elapsed": 226229,
     "status": "ok",
     "timestamp": 1592450514452,
     "user": {
      "displayName": "Pakawat NAKWIJIT",
      "photoUrl": "https://lh3.googleusercontent.com/a-/AOh14GiquOygeytgA5lxJCtO2dXyXm9wBw5lRlG43yd5=s64",
      "userId": "16398521879664391558"
     },
     "user_tz": -420
    },
    "id": "wOwoqAV8w1_Y"
   },
   "outputs": [],
   "source": [
    "import math\n",
    "\n",
    "def numerical_feature(df):\n",
    "    for i in [ 7, 28]:\n",
    "        df[f\"shifted_t{i}\"] = df[[\"id\",\"demand\"]].groupby('id')[\"demand\"].shift(i)\n",
    "\n",
    "    for win, col in [(7, \"shifted_t7\"), (7, \"shifted_t28\"), (28, \"shifted_t7\"), (28, \"shifted_t28\")]:\n",
    "        df[f\"rolling_mean_{col}_w{win}\"] = df[[\"id\", col]].groupby('id')[col].shift(1).rolling(win, min_periods=1).mean()\n",
    "    return df\n",
    "\n"
   ]
  },
  {
   "cell_type": "code",
   "execution_count": 91,
   "metadata": {
    "colab": {},
    "colab_type": "code",
    "executionInfo": {
     "elapsed": 257722,
     "status": "ok",
     "timestamp": 1592450551536,
     "user": {
      "displayName": "Pakawat NAKWIJIT",
      "photoUrl": "https://lh3.googleusercontent.com/a-/AOh14GiquOygeytgA5lxJCtO2dXyXm9wBw5lRlG43yd5=s64",
      "userId": "16398521879664391558"
     },
     "user_tz": -420
    },
    "id": "he-QdwIEYI7m"
   },
   "outputs": [],
   "source": [
    "import pickle \n",
    "dbfile = open(data_dir+f'../modelrecur/X_train.pkl', 'wb') \n",
    "pickle.dump(X_train, dbfile)\n",
    "dbfile.close() #Dont forget this \n",
    "\n",
    "dbfile = open(data_dir+f'../modelrecur/X_val.pkl', 'wb') \n",
    "pickle.dump(X_val, dbfile)\n",
    "dbfile.close() #Dont forget this \n",
    "\n",
    "dbfile = open(data_dir+f'../modelrecur/X_eval.pkl', 'wb') \n",
    "pickle.dump(X_eval, dbfile)\n",
    "dbfile.close() #Dont forget this "
   ]
  },
  {
   "cell_type": "code",
   "execution_count": 28,
   "metadata": {
    "colab": {
     "base_uri": "https://localhost:8080/",
     "height": 52
    },
    "colab_type": "code",
    "executionInfo": {
     "elapsed": 246726,
     "status": "ok",
     "timestamp": 1592445945657,
     "user": {
      "displayName": "Pakawat NAKWIJIT",
      "photoUrl": "https://lh3.googleusercontent.com/a-/AOh14GiquOygeytgA5lxJCtO2dXyXm9wBw5lRlG43yd5=s64",
      "userId": "16398521879664391558"
     },
     "user_tz": -420
    },
    "id": "eg3eQg5Zw1_b",
    "outputId": "bdc79ce5-f876-4c24-fb42-fcbfe7148405"
   },
   "outputs": [
    {
     "name": "stdout",
     "output_type": "stream",
     "text": [
      "CPU times: user 48.6 s, sys: 3.71 s, total: 52.3 s\n",
      "Wall time: 52.3 s\n"
     ]
    }
   ],
   "source": [
    "%%time\n",
    "\n",
    "X_train = numerical_feature(X_train)\n",
    "X_train.dropna(inplace = True)\n",
    "gc.collect()"
   ]
  },
  {
   "cell_type": "code",
   "execution_count": 42,
   "metadata": {
    "colab": {
     "base_uri": "https://localhost:8080/",
     "height": 139
    },
    "colab_type": "code",
    "executionInfo": {
     "elapsed": 1435,
     "status": "ok",
     "timestamp": 1592449453269,
     "user": {
      "displayName": "Pakawat NAKWIJIT",
      "photoUrl": "https://lh3.googleusercontent.com/a-/AOh14GiquOygeytgA5lxJCtO2dXyXm9wBw5lRlG43yd5=s64",
      "userId": "16398521879664391558"
     },
     "user_tz": -420
    },
    "id": "ktD6reoBw1_d",
    "outputId": "276f4ae8-5510-4bf6-ac29-05579d9e79a8"
   },
   "outputs": [
    {
     "data": {
      "text/plain": [
       "((44515400, 27),\n",
       " Index(['id', 'item_id', 'dept_id', 'cat_id', 'store_id', 'state_id', 'demand',\n",
       "        'part', 'date', 'wm_yr_wk', 'event_name_1', 'event_type_1',\n",
       "        'event_name_2', 'event_type_2', 'snap_CA', 'snap_TX', 'snap_WI',\n",
       "        'sell_price', 'year', 'quarter', 'month', 'week', 'day', 'dayofweek',\n",
       "        'weekday', 'weekofyear', 'is_weekend'],\n",
       "       dtype='object'))"
      ]
     },
     "execution_count": 42,
     "metadata": {
      "tags": []
     },
     "output_type": "execute_result"
    }
   ],
   "source": [
    "X_train.shape, X_train.columns"
   ]
  },
  {
   "cell_type": "markdown",
   "metadata": {
    "colab_type": "text",
    "id": "bpvwfKBYw1_f"
   },
   "source": [
    "# Train Model"
   ]
  },
  {
   "cell_type": "code",
   "execution_count": 43,
   "metadata": {
    "colab": {
     "base_uri": "https://localhost:8080/",
     "height": 104
    },
    "colab_type": "code",
    "executionInfo": {
     "elapsed": 1315,
     "status": "ok",
     "timestamp": 1592449457530,
     "user": {
      "displayName": "Pakawat NAKWIJIT",
      "photoUrl": "https://lh3.googleusercontent.com/a-/AOh14GiquOygeytgA5lxJCtO2dXyXm9wBw5lRlG43yd5=s64",
      "userId": "16398521879664391558"
     },
     "user_tz": -420
    },
    "id": "XxPjzVJfw1_g",
    "outputId": "0edbf3bd-cbe5-455c-f219-bbbcc0e24df7"
   },
   "outputs": [
    {
     "data": {
      "text/plain": [
       "Index(['item_id', 'dept_id', 'cat_id', 'store_id', 'state_id', 'event_name_1',\n",
       "       'event_type_1', 'event_name_2', 'event_type_2', 'snap_CA', 'snap_TX',\n",
       "       'snap_WI', 'sell_price', 'year', 'quarter', 'month', 'week', 'day',\n",
       "       'dayofweek', 'weekofyear', 'is_weekend'],\n",
       "      dtype='object')"
      ]
     },
     "execution_count": 43,
     "metadata": {
      "tags": []
     },
     "output_type": "execute_result"
    }
   ],
   "source": [
    "cat_feats = ['item_id', 'dept_id','store_id', 'cat_id', 'state_id'] + [\"event_name_1\", \"event_name_2\", \"event_type_1\", \"event_type_2\"]\n",
    "useless_cols = [\"id\", \"part\", \"date\", \"demand\",\"d\", \"wm_yr_wk\", \"weekday\"]\n",
    "train_cols = X_train.columns[~X_train.columns.isin(useless_cols)]\n",
    "train_cols \n",
    "\n",
    "# y_train = X_train[\"demand\"]\n",
    "# X_train = X_train[train_cols]\n"
   ]
  },
  {
   "cell_type": "code",
   "execution_count": 31,
   "metadata": {
    "colab": {
     "base_uri": "https://localhost:8080/",
     "height": 52
    },
    "colab_type": "code",
    "executionInfo": {
     "elapsed": 23874,
     "status": "ok",
     "timestamp": 1592445970912,
     "user": {
      "displayName": "Pakawat NAKWIJIT",
      "photoUrl": "https://lh3.googleusercontent.com/a-/AOh14GiquOygeytgA5lxJCtO2dXyXm9wBw5lRlG43yd5=s64",
      "userId": "16398521879664391558"
     },
     "user_tz": -420
    },
    "id": "7hxmmR7dw1_j",
    "outputId": "fad346ba-1a71-41d5-850e-833b24b2c281"
   },
   "outputs": [
    {
     "name": "stdout",
     "output_type": "stream",
     "text": [
      "CPU times: user 21.7 s, sys: 58.4 ms, total: 21.8 s\n",
      "Wall time: 21.8 s\n"
     ]
    }
   ],
   "source": [
    "%%time\n",
    "from sklearn.model_selection import train_test_split\n",
    "np.random.seed(777)\n",
    "\n",
    "X, x_test, Y, y_test = train_test_split(X_train, y_train, test_size=0.05)"
   ]
  },
  {
   "cell_type": "code",
   "execution_count": 33,
   "metadata": {
    "colab": {},
    "colab_type": "code",
    "executionInfo": {
     "elapsed": 23847,
     "status": "ok",
     "timestamp": 1592445970914,
     "user": {
      "displayName": "Pakawat NAKWIJIT",
      "photoUrl": "https://lh3.googleusercontent.com/a-/AOh14GiquOygeytgA5lxJCtO2dXyXm9wBw5lRlG43yd5=s64",
      "userId": "16398521879664391558"
     },
     "user_tz": -420
    },
    "id": "L9HihksEQn0c"
   },
   "outputs": [],
   "source": [
    "# dir()"
   ]
  },
  {
   "cell_type": "code",
   "execution_count": 34,
   "metadata": {
    "colab": {},
    "colab_type": "code",
    "executionInfo": {
     "elapsed": 23844,
     "status": "ok",
     "timestamp": 1592445970915,
     "user": {
      "displayName": "Pakawat NAKWIJIT",
      "photoUrl": "https://lh3.googleusercontent.com/a-/AOh14GiquOygeytgA5lxJCtO2dXyXm9wBw5lRlG43yd5=s64",
      "userId": "16398521879664391558"
     },
     "user_tz": -420
    },
    "id": "0Y5gkkEww1_p"
   },
   "outputs": [],
   "source": [
    "# version 8.0: use poisson\n",
    "# params = {\n",
    "#         \"objective\" : \"poisson\",\n",
    "#         \"metric\" :\"rmse\",\n",
    "#         \"force_row_wise\" : True,\n",
    "#         \"learning_rate\" : 0.075,\n",
    "# #         \"sub_feature\" : 0.8,\n",
    "#         \"sub_row\" : 0.75,\n",
    "#         \"bagging_freq\" : 1,\n",
    "#         \"lambda_l2\" : 0.1,\n",
    "# #         \"nthread\" : 4\n",
    "#         \"metric\": [\"rmse\"],\n",
    "#     'verbosity': 1,\n",
    "#     'num_iterations' : 3000,\n",
    "#     'num_leaves': 128,\n",
    "#     \"min_data_in_leaf\": 100,\n",
    "#     'device': 'gpu',\n",
    "#     'gpu_platform_id': 0,\n",
    "#     'gpu_device_id': 0\n",
    "# }\n",
    "\n",
    "# version 11.0: use tweedie\n",
    "params = {\n",
    "        \"objective\" : \"tweedie\",\n",
    "        \"metric\" :\"rmse\",\n",
    "        \"force_row_wise\" : True,\n",
    "        \"learning_rate\" : 0.075,\n",
    "        \"sub_feature\" : 0.8,\n",
    "        \"sub_row\" : 0.75,\n",
    "        \"bagging_freq\" : 1,\n",
    "        \"lambda_l2\" : 0.1,\n",
    "        \"metric\": [\"rmse\"],\n",
    "    'verbosity': 1,\n",
    "    'num_iterations' : 3000,\n",
    "    'num_leaves': 128,\n",
    "    \"min_data_in_leaf\": 104,\n",
    "    #     'device': 'gpu',\n",
    "    # 'gpu_platform_id': 0,\n",
    "    # 'gpu_device_id': 0\n",
    "}\n"
   ]
  },
  {
   "cell_type": "code",
   "execution_count": 34,
   "metadata": {
    "colab": {},
    "colab_type": "code",
    "executionInfo": {
     "elapsed": 23842,
     "status": "ok",
     "timestamp": 1592445970916,
     "user": {
      "displayName": "Pakawat NAKWIJIT",
      "photoUrl": "https://lh3.googleusercontent.com/a-/AOh14GiquOygeytgA5lxJCtO2dXyXm9wBw5lRlG43yd5=s64",
      "userId": "16398521879664391558"
     },
     "user_tz": -420
    },
    "id": "_PUENiUXw1_r"
   },
   "outputs": [],
   "source": [
    "\n"
   ]
  },
  {
   "cell_type": "code",
   "execution_count": 35,
   "metadata": {
    "colab": {
     "base_uri": "https://localhost:8080/",
     "height": 35
    },
    "colab_type": "code",
    "executionInfo": {
     "elapsed": 23818,
     "status": "ok",
     "timestamp": 1592445970917,
     "user": {
      "displayName": "Pakawat NAKWIJIT",
      "photoUrl": "https://lh3.googleusercontent.com/a-/AOh14GiquOygeytgA5lxJCtO2dXyXm9wBw5lRlG43yd5=s64",
      "userId": "16398521879664391558"
     },
     "user_tz": -420
    },
    "id": "sCO9zko-w1_u",
    "outputId": "26531393-d9fc-4f39-c5c5-85f62d8bbb5e"
   },
   "outputs": [
    {
     "data": {
      "text/plain": [
       "0"
      ]
     },
     "execution_count": 35,
     "metadata": {
      "tags": []
     },
     "output_type": "execute_result"
    }
   ],
   "source": [
    "del X_train, y_train\n",
    "del X_eval, X_val\n",
    "gc.collect()\n",
    "\n",
    "train_set = lgb.Dataset(X, Y)\n",
    "test_set = lgb.Dataset(x_test, y_test)\n",
    "del X, Y, x_test, y_test; gc.collect()"
   ]
  },
  {
   "cell_type": "code",
   "execution_count": 36,
   "metadata": {
    "colab": {},
    "colab_type": "code",
    "executionInfo": {
     "elapsed": 102203,
     "status": "ok",
     "timestamp": 1592446049305,
     "user": {
      "displayName": "Pakawat NAKWIJIT",
      "photoUrl": "https://lh3.googleusercontent.com/a-/AOh14GiquOygeytgA5lxJCtO2dXyXm9wBw5lRlG43yd5=s64",
      "userId": "16398521879664391558"
     },
     "user_tz": -420
    },
    "id": "zNbMnIH6Ry56"
   },
   "outputs": [],
   "source": [
    "dbfile = open(data_dir+f'train_set.pkl', 'wb') \n",
    "pickle.dump(train_set, dbfile)\n",
    "dbfile.close() #Dont forget this \n",
    "\n",
    "dbfile = open(data_dir+f'test_set.pkl', 'wb') \n",
    "pickle.dump(test_set, dbfile)\n",
    "dbfile.close() #Dont forget this "
   ]
  },
  {
   "cell_type": "code",
   "execution_count": null,
   "metadata": {
    "colab": {
     "base_uri": "https://localhost:8080/",
     "height": 537
    },
    "colab_type": "code",
    "executionInfo": {
     "elapsed": 6795263,
     "status": "ok",
     "timestamp": 1588229508385,
     "user": {
      "displayName": "Pakawat NAKWIJIT",
      "photoUrl": "https://lh3.googleusercontent.com/a-/AOh14GiquOygeytgA5lxJCtO2dXyXm9wBw5lRlG43yd5=s64",
      "userId": "16398521879664391558"
     },
     "user_tz": -420
    },
    "id": "ZLukm5msw1_2",
    "outputId": "eacc58c9-242f-4684-c880-c5d32e3c1c6a"
   },
   "outputs": [
    {
     "name": "stdout",
     "output_type": "stream",
     "text": [
      "[100]\tvalid_0's rmse: 2.24776\n",
      "[200]\tvalid_0's rmse: 2.21999\n",
      "[300]\tvalid_0's rmse: 2.20049\n",
      "[400]\tvalid_0's rmse: 2.18638\n",
      "[500]\tvalid_0's rmse: 2.17653\n",
      "[600]\tvalid_0's rmse: 2.17013\n",
      "[700]\tvalid_0's rmse: 2.16301\n",
      "[800]\tvalid_0's rmse: 2.15738\n",
      "[900]\tvalid_0's rmse: 2.15197\n",
      "[1000]\tvalid_0's rmse: 2.14704\n",
      "[1100]\tvalid_0's rmse: 2.142\n",
      "[1200]\tvalid_0's rmse: 2.13816\n",
      "[1300]\tvalid_0's rmse: 2.13542\n",
      "[1400]\tvalid_0's rmse: 2.13261\n",
      "[1500]\tvalid_0's rmse: 2.12995\n",
      "[1600]\tvalid_0's rmse: 2.1271\n",
      "[1700]\tvalid_0's rmse: 2.12442\n",
      "[1800]\tvalid_0's rmse: 2.12164\n",
      "[1900]\tvalid_0's rmse: 2.11904\n",
      "[2000]\tvalid_0's rmse: 2.11743\n",
      "[2100]\tvalid_0's rmse: 2.1155\n",
      "[2200]\tvalid_0's rmse: 2.11353\n",
      "[2300]\tvalid_0's rmse: 2.11184\n",
      "[2400]\tvalid_0's rmse: 2.1104\n",
      "[2500]\tvalid_0's rmse: 2.10849\n",
      "[2600]\tvalid_0's rmse: 2.10681\n",
      "[2700]\tvalid_0's rmse: 2.10587\n",
      "[2800]\tvalid_0's rmse: 2.10497\n",
      "[2900]\tvalid_0's rmse: 2.10336\n",
      "[3000]\tvalid_0's rmse: 2.10249\n"
     ]
    }
   ],
   "source": [
    "# %%time\n",
    "\n",
    "# # model = lgb.train(params, train_set, num_boost_round = 3000, early_stopping_rounds = 500, valid_sets = [train_set, test_set], verbose_eval = 100)\n",
    "model = lgb.train(params, train_set, valid_sets = [test_set], verbose_eval = 100)"
   ]
  },
  {
   "cell_type": "code",
   "execution_count": null,
   "metadata": {
    "colab": {
     "base_uri": "https://localhost:8080/",
     "height": 35
    },
    "colab_type": "code",
    "executionInfo": {
     "elapsed": 1598,
     "status": "ok",
     "timestamp": 1588229509976,
     "user": {
      "displayName": "Pakawat NAKWIJIT",
      "photoUrl": "https://lh3.googleusercontent.com/a-/AOh14GiquOygeytgA5lxJCtO2dXyXm9wBw5lRlG43yd5=s64",
      "userId": "16398521879664391558"
     },
     "user_tz": -420
    },
    "id": "ChEUoKPOw1_3",
    "outputId": "14bc9b81-aaf6-46ba-9072-096db7668da3"
   },
   "outputs": [
    {
     "data": {
      "text/plain": [
       "<lightgbm.basic.Booster at 0x7f359fac8eb8>"
      ]
     },
     "execution_count": 39,
     "metadata": {
      "tags": []
     },
     "output_type": "execute_result"
    }
   ],
   "source": [
    "model.save_model(data_dir+f\"modelv{VERSION}.lgb\")"
   ]
  },
  {
   "cell_type": "code",
   "execution_count": null,
   "metadata": {
    "colab": {},
    "colab_type": "code",
    "id": "o_iaYkLNw1_6"
   },
   "outputs": [],
   "source": [
    "import pickle \n",
    "dbfile = open(data_dir+f'LightGBMv{VERSION}.pickle', 'wb') \n",
    "pickle.dump(model, dbfile)\n",
    "dbfile.close() #Dont forget this "
   ]
  },
  {
   "cell_type": "code",
   "execution_count": null,
   "metadata": {
    "colab": {},
    "colab_type": "code",
    "id": "D7AAUYEgw1_7"
   },
   "outputs": [],
   "source": [
    "# import pickle\n",
    "# # with open(\"../input/pretrained-model-v2/LightGBM_FF.pickle\", 'rb') as fin:\n",
    "# #         model = pickle.load(fin)\n",
    "# with open(\"../input/m5-pretrained-model/LightGBM_KAGLE.pickle\", 'rb') as fin:\n",
    "#         model = pickle.load(fin)"
   ]
  },
  {
   "cell_type": "code",
   "execution_count": 25,
   "metadata": {
    "colab": {
     "base_uri": "https://localhost:8080/",
     "height": 35
    },
    "colab_type": "code",
    "executionInfo": {
     "elapsed": 1391,
     "status": "ok",
     "timestamp": 1592447264894,
     "user": {
      "displayName": "Pakawat NAKWIJIT",
      "photoUrl": "https://lh3.googleusercontent.com/a-/AOh14GiquOygeytgA5lxJCtO2dXyXm9wBw5lRlG43yd5=s64",
      "userId": "16398521879664391558"
     },
     "user_tz": -420
    },
    "id": "l8tH15Xsw2AT",
    "outputId": "3b013ae3-1efe-4876-d0d3-b9827936412c"
   },
   "outputs": [
    {
     "name": "stdout",
     "output_type": "stream",
     "text": [
      "YEAH\n"
     ]
    }
   ],
   "source": [
    "print(\"YEAH\")"
   ]
  },
  {
   "cell_type": "markdown",
   "metadata": {
    "colab_type": "text",
    "id": "WL91qV50MTQ9"
   },
   "source": [
    "# Prediction"
   ]
  },
  {
   "cell_type": "code",
   "execution_count": 40,
   "metadata": {
    "colab": {},
    "colab_type": "code",
    "executionInfo": {
     "elapsed": 71389,
     "status": "ok",
     "timestamp": 1592446352667,
     "user": {
      "displayName": "Pakawat NAKWIJIT",
      "photoUrl": "https://lh3.googleusercontent.com/a-/AOh14GiquOygeytgA5lxJCtO2dXyXm9wBw5lRlG43yd5=s64",
      "userId": "16398521879664391558"
     },
     "user_tz": -420
    },
    "id": "sujyK2T-MV0i"
   },
   "outputs": [],
   "source": [
    "import pickle \n",
    "with open(data_dir+f'X_train.pkl', 'rb') as fin:\n",
    "        X_train = pickle.load(fin)\n",
    "\n",
    "with open(data_dir+f'X_val.pkl', 'rb') as fin:\n",
    "        X_val = pickle.load(fin)\n",
    "\n",
    "with open(data_dir+f'X_eval.pkl', 'rb') as fin:\n",
    "        X_eval = pickle.load(fin)"
   ]
  },
  {
   "cell_type": "code",
   "execution_count": 92,
   "metadata": {
    "colab": {},
    "colab_type": "code",
    "executionInfo": {
     "elapsed": 3358,
     "status": "ok",
     "timestamp": 1592450599372,
     "user": {
      "displayName": "Pakawat NAKWIJIT",
      "photoUrl": "https://lh3.googleusercontent.com/a-/AOh14GiquOygeytgA5lxJCtO2dXyXm9wBw5lRlG43yd5=s64",
      "userId": "16398521879664391558"
     },
     "user_tz": -420
    },
    "id": "rLe1KemiQTJg"
   },
   "outputs": [],
   "source": [
    "with open(data_dir+f'../Submissions/LightGBMv11.pickle', 'rb') as fin:\n",
    "        model = pickle.load(fin)"
   ]
  },
  {
   "cell_type": "code",
   "execution_count": 93,
   "metadata": {
    "colab": {
     "base_uri": "https://localhost:8080/",
     "height": 52
    },
    "colab_type": "code",
    "executionInfo": {
     "elapsed": 1989,
     "status": "ok",
     "timestamp": 1592450604254,
     "user": {
      "displayName": "Pakawat NAKWIJIT",
      "photoUrl": "https://lh3.googleusercontent.com/a-/AOh14GiquOygeytgA5lxJCtO2dXyXm9wBw5lRlG43yd5=s64",
      "userId": "16398521879664391558"
     },
     "user_tz": -420
    },
    "id": "7JfANqWGw2AV",
    "outputId": "15691dfd-a31a-4f85-8edc-aae9ea029f0a"
   },
   "outputs": [
    {
     "name": "stdout",
     "output_type": "stream",
     "text": [
      "CPU times: user 738 ms, sys: 137 ms, total: 875 ms\n",
      "Wall time: 976 ms\n"
     ]
    }
   ],
   "source": [
    "%%time\n",
    "lastdate = X_train[\"date\"].max() - pd.DateOffset(days=86)\n",
    "X_train = X_train[X_train['date'] >= lastdate]"
   ]
  },
  {
   "cell_type": "code",
   "execution_count": 135,
   "metadata": {
    "colab": {},
    "colab_type": "code",
    "executionInfo": {
     "elapsed": 1413,
     "status": "ok",
     "timestamp": 1592452600999,
     "user": {
      "displayName": "Pakawat NAKWIJIT",
      "photoUrl": "https://lh3.googleusercontent.com/a-/AOh14GiquOygeytgA5lxJCtO2dXyXm9wBw5lRlG43yd5=s64",
      "userId": "16398521879664391558"
     },
     "user_tz": -420
    },
    "id": "jpUFPBsGBVgn"
   },
   "outputs": [],
   "source": [
    "import time\n",
    "\n",
    "import datetime\n",
    "import dateutil.relativedelta\n",
    "\n",
    "def predict(model, X_train, X_test, factor=1):\n",
    "    DATES = X_test[\"date\"].unique()\n",
    "    NDATE = len(DATES)\n",
    "    print(\"NDATE\", NDATE)\n",
    "    \n",
    "    col = [\"id\"] + [\"F{}\".format(i) for i in range(1, NDATE+1)]\n",
    "    itemId = X_train[\"dept_id\"].unique()\n",
    "    print(\"#CHUNK\", len(itemId))\n",
    "    \n",
    "    acc_o = []\n",
    "\n",
    "    maxdate = X_test[\"date\"].min()\n",
    "    mindate = X_test[\"date\"].min() - pd.DateOffset(days=40)\n",
    "\n",
    "    ## select only date before X_test\n",
    "    XX_train = X_train[X_train['date'] > mindate]\n",
    "    XX_train = XX_train[XX_train['date'] < maxdate]\n",
    "    \n",
    "    itemId = sorted(itemId)\n",
    "    for iid in itemId:\n",
    "        test = X_test[X_test[\"dept_id\"]==iid]\n",
    "\n",
    "        ids = test[\"id\"].unique()\n",
    "        oarr = np.zeros((len(ids), NDATE+1))\n",
    "        o = pd.DataFrame(oarr, columns=col)\n",
    "        \n",
    "        o[\"id\"] = test[test[\"date\"]==DATES[0]][\"id\"].values\n",
    "        \n",
    "        train = XX_train[XX_train[\"dept_id\"]==iid]\n",
    "        ## XX=test, X=train\n",
    "        lastmonth = pd.to_datetime(train.head(1)[\"date\"])\n",
    "        \n",
    "        # print(test.shape)\n",
    "        # print(train.tail())\n",
    "        for idx, date in enumerate(DATES):\n",
    "            \n",
    "            newrow = test[test[\"date\"]==date]            \n",
    "            train = train.append(newrow)\n",
    "            train.sort_values(by=['id', \"date\"], inplace=True)\n",
    "# #             print(\"num feats START\")\n",
    "            feat = numerical_feature(train)\n",
    "            \n",
    "# #             print(\"num feats DONE\")\n",
    "\n",
    "#             print(f\"============== {idx} ==========\")\n",
    "#             p = feat[feat[\"id\"]==\"FOODS_1_001_CA_1_validation\"]\n",
    "# #             print(p)\n",
    "#             print(p.tail(15)[[\"date\", \"demand\", \"shifted_t7\"]])\n",
    "#             if idx==10:\n",
    "#                 return None\n",
    "            \n",
    "            x = feat.loc[feat[\"date\"] == date , train_cols]\n",
    "            val_pred = model.predict(x, num_iteration=model.best_iteration)\n",
    "\n",
    "            \n",
    "            o[f\"F{idx+1}\"] = val_pred*factor\n",
    "            \n",
    "            \n",
    "            train.loc[train[\"date\"]==date, \"demand\"] = val_pred*factor\n",
    "            \n",
    "            \n",
    "            lastmonth = lastmonth + pd.DateOffset(days=1)\n",
    "            train = train[train['date'] >= str(lastmonth.values[0])]\n",
    "            \n",
    "        acc_o.append(o)\n",
    "        acc_o = [pd.concat(acc_o)]\n",
    "        \n",
    "    acc_o = pd.concat(acc_o)\n",
    "    return acc_o"
   ]
  },
  {
   "cell_type": "code",
   "execution_count": 136,
   "metadata": {
    "colab": {
     "base_uri": "https://localhost:8080/",
     "height": 364
    },
    "colab_type": "code",
    "executionInfo": {
     "elapsed": 1047992,
     "status": "ok",
     "timestamp": 1592453654216,
     "user": {
      "displayName": "Pakawat NAKWIJIT",
      "photoUrl": "https://lh3.googleusercontent.com/a-/AOh14GiquOygeytgA5lxJCtO2dXyXm9wBw5lRlG43yd5=s64",
      "userId": "16398521879664391558"
     },
     "user_tz": -420
    },
    "id": "j3atc6nvBwgg",
    "outputId": "46139a96-2ffe-49da-873e-c02349926790"
   },
   "outputs": [
    {
     "name": "stdout",
     "output_type": "stream",
     "text": [
      "======== w 1 ==========\n",
      "NDATE 28\n",
      "#CHUNK 7\n",
      "NDATE 28\n",
      "#CHUNK 7\n",
      "======== w 1.028 ==========\n",
      "NDATE 28\n",
      "#CHUNK 7\n",
      "NDATE 28\n",
      "#CHUNK 7\n",
      "======== w 1.023 ==========\n",
      "NDATE 28\n",
      "#CHUNK 7\n",
      "NDATE 28\n",
      "#CHUNK 7\n",
      "======== w 1.018 ==========\n",
      "NDATE 28\n",
      "#CHUNK 7\n",
      "NDATE 28\n",
      "#CHUNK 7\n"
     ]
    }
   ],
   "source": [
    "ppval = []\n",
    "ppeval = []\n",
    "# weights = [1]\n",
    "weights = [1, 1.028, 1.023, 1.018]\n",
    "for w in weights:\n",
    "    print(\"======== w\",w,\"==========\")\n",
    "    pval = predict(model, X_train, X_val, factor=w)\n",
    "    peval = predict(model, pd.concat([X_train, X_val]), X_eval, factor=w)\n",
    "    ppval.append(pval)\n",
    "    ppeval.append(peval)\n",
    "\n",
    "  # 30490"
   ]
  },
  {
   "cell_type": "code",
   "execution_count": 138,
   "metadata": {
    "colab": {},
    "colab_type": "code",
    "executionInfo": {
     "elapsed": 1454,
     "status": "ok",
     "timestamp": 1592453751020,
     "user": {
      "displayName": "Pakawat NAKWIJIT",
      "photoUrl": "https://lh3.googleusercontent.com/a-/AOh14GiquOygeytgA5lxJCtO2dXyXm9wBw5lRlG43yd5=s64",
      "userId": "16398521879664391558"
     },
     "user_tz": -420
    },
    "id": "m6PeTKVbSOY_"
   },
   "outputs": [],
   "source": [
    "# ppval[0].shape"
   ]
  },
  {
   "cell_type": "code",
   "execution_count": 138,
   "metadata": {
    "colab": {},
    "colab_type": "code",
    "executionInfo": {
     "elapsed": 1070,
     "status": "ok",
     "timestamp": 1592453751021,
     "user": {
      "displayName": "Pakawat NAKWIJIT",
      "photoUrl": "https://lh3.googleusercontent.com/a-/AOh14GiquOygeytgA5lxJCtO2dXyXm9wBw5lRlG43yd5=s64",
      "userId": "16398521879664391558"
     },
     "user_tz": -420
    },
    "id": "90Kh17jxUm2s"
   },
   "outputs": [],
   "source": []
  },
  {
   "cell_type": "code",
   "execution_count": 138,
   "metadata": {
    "colab": {},
    "colab_type": "code",
    "executionInfo": {
     "elapsed": 1067,
     "status": "ok",
     "timestamp": 1592453751648,
     "user": {
      "displayName": "Pakawat NAKWIJIT",
      "photoUrl": "https://lh3.googleusercontent.com/a-/AOh14GiquOygeytgA5lxJCtO2dXyXm9wBw5lRlG43yd5=s64",
      "userId": "16398521879664391558"
     },
     "user_tz": -420
    },
    "id": "tvyZzyXuB2zK"
   },
   "outputs": [],
   "source": []
  },
  {
   "cell_type": "code",
   "execution_count": 128,
   "metadata": {
    "colab": {
     "base_uri": "https://localhost:8080/",
     "height": 35
    },
    "colab_type": "code",
    "executionInfo": {
     "elapsed": 1462,
     "status": "ok",
     "timestamp": 1592452480552,
     "user": {
      "displayName": "Pakawat NAKWIJIT",
      "photoUrl": "https://lh3.googleusercontent.com/a-/AOh14GiquOygeytgA5lxJCtO2dXyXm9wBw5lRlG43yd5=s64",
      "userId": "16398521879664391558"
     },
     "user_tz": -420
    },
    "id": "7t7xMpGSB4kb",
    "outputId": "54dd11cc-3ba5-4c4a-a473-4e0e8e625046"
   },
   "outputs": [
    {
     "data": {
      "text/plain": [
       "(60980, 29)"
      ]
     },
     "execution_count": 128,
     "metadata": {
      "tags": []
     },
     "output_type": "execute_result"
    }
   ],
   "source": [
    "submission = pd.read_csv(data_dir+'sample_submission.csv')\n",
    "submission.shape"
   ]
  },
  {
   "cell_type": "code",
   "execution_count": 139,
   "metadata": {
    "colab": {},
    "colab_type": "code",
    "executionInfo": {
     "elapsed": 5544,
     "status": "ok",
     "timestamp": 1592453759488,
     "user": {
      "displayName": "Pakawat NAKWIJIT",
      "photoUrl": "https://lh3.googleusercontent.com/a-/AOh14GiquOygeytgA5lxJCtO2dXyXm9wBw5lRlG43yd5=s64",
      "userId": "16398521879664391558"
     },
     "user_tz": -420
    },
    "id": "Ej65A8Ktg9yR"
   },
   "outputs": [],
   "source": [
    "sales_eval = pd.read_csv(data_dir+'sales_train_evaluation.csv')\n",
    "cols = [\"id\"] + [f\"d_{i}\" for i in range(1914, 1914+28)]\n",
    "true_val = sales_eval[cols]\n",
    "newcols = [\"id\"] + [f\"F{i}\" for i in range(1, 1+28)]\n",
    "true_val.columns = newcols\n"
   ]
  },
  {
   "cell_type": "code",
   "execution_count": 139,
   "metadata": {
    "colab": {},
    "colab_type": "code",
    "executionInfo": {
     "elapsed": 3645,
     "status": "ok",
     "timestamp": 1592453759490,
     "user": {
      "displayName": "Pakawat NAKWIJIT",
      "photoUrl": "https://lh3.googleusercontent.com/a-/AOh14GiquOygeytgA5lxJCtO2dXyXm9wBw5lRlG43yd5=s64",
      "userId": "16398521879664391558"
     },
     "user_tz": -420
    },
    "id": "OEsFf3fxiMKI"
   },
   "outputs": [],
   "source": []
  },
  {
   "cell_type": "code",
   "execution_count": 142,
   "metadata": {
    "colab": {
     "base_uri": "https://localhost:8080/",
     "height": 52
    },
    "colab_type": "code",
    "executionInfo": {
     "elapsed": 6669,
     "status": "ok",
     "timestamp": 1592453792728,
     "user": {
      "displayName": "Pakawat NAKWIJIT",
      "photoUrl": "https://lh3.googleusercontent.com/a-/AOh14GiquOygeytgA5lxJCtO2dXyXm9wBw5lRlG43yd5=s64",
      "userId": "16398521879664391558"
     },
     "user_tz": -420
    },
    "id": "q7VlQNqUB6I2",
    "outputId": "73f5b10c-c4b2-4ad3-fe3b-881622de2651"
   },
   "outputs": [
    {
     "name": "stdout",
     "output_type": "stream",
     "text": [
      "(60980, 29)\n",
      "(60980, 29)\n"
     ]
    }
   ],
   "source": [
    "def avg(arr):\n",
    "    avgpred = pd.DataFrame([])\n",
    "    avgpred[\"id\"] = arr[0][\"id\"]\n",
    "    for i in range(1, 29):\n",
    "        avgpred[f\"F{i}\"] = 0\n",
    "        for idx, d in enumerate(arr):\n",
    "          avgpred[f\"F{i}\"] += d[f\"F{i}\"]\n",
    "        avgpred[f\"F{i}\"] = avgpred[f\"F{i}\"]/3.0\n",
    "\n",
    "    return avgpred\n",
    "\n",
    "\n",
    "def save_csv(name, d1, d2):\n",
    "    d1[\"id\"] = d1['id'].str.replace(\"_evaluation\", \"_validation\")\n",
    "    d2[\"id\"] = d2['id'].str.replace(\"_validation\", \"_evaluation\")\n",
    "\n",
    "    df = pd.concat([d1, d2]) \n",
    "    print(df.shape)\n",
    "    df.sort_values(\"id\", inplace = True)\n",
    "    df.reset_index(drop=True, inplace = True)\n",
    "    df.to_csv(data_dir+f\"../modelrecur/submission_{name}.v11.csv\", index=False)\n",
    "    \n",
    "save_csv(\"pub\", avg(ppval[1:]), avg(ppeval[1:]))\n",
    "save_csv(\"prv\", true_val, avg(ppeval[1:]))\n"
   ]
  },
  {
   "cell_type": "code",
   "execution_count": 131,
   "metadata": {
    "colab": {
     "base_uri": "https://localhost:8080/",
     "height": 35
    },
    "colab_type": "code",
    "executionInfo": {
     "elapsed": 1437,
     "status": "ok",
     "timestamp": 1592452512660,
     "user": {
      "displayName": "Pakawat NAKWIJIT",
      "photoUrl": "https://lh3.googleusercontent.com/a-/AOh14GiquOygeytgA5lxJCtO2dXyXm9wBw5lRlG43yd5=s64",
      "userId": "16398521879664391558"
     },
     "user_tz": -420
    },
    "id": "Pvi23dasCrKC",
    "outputId": "c32e6a8d-323e-45d0-bac1-5df501e44f03"
   },
   "outputs": [
    {
     "data": {
      "text/plain": [
       "(60980, 29)"
      ]
     },
     "execution_count": 131,
     "metadata": {
      "tags": []
     },
     "output_type": "execute_result"
    }
   ],
   "source": [
    "submission.shape"
   ]
  },
  {
   "cell_type": "code",
   "execution_count": 134,
   "metadata": {
    "colab": {
     "base_uri": "https://localhost:8080/",
     "height": 35
    },
    "colab_type": "code",
    "executionInfo": {
     "elapsed": 1408,
     "status": "ok",
     "timestamp": 1592452545224,
     "user": {
      "displayName": "Pakawat NAKWIJIT",
      "photoUrl": "https://lh3.googleusercontent.com/a-/AOh14GiquOygeytgA5lxJCtO2dXyXm9wBw5lRlG43yd5=s64",
      "userId": "16398521879664391558"
     },
     "user_tz": -420
    },
    "id": "xcLafKQciqLV",
    "outputId": "f26a404e-4ad9-48c6-c9b3-810c801cc54f"
   },
   "outputs": [
    {
     "data": {
      "text/plain": [
       "(30490, 29)"
      ]
     },
     "execution_count": 134,
     "metadata": {
      "tags": []
     },
     "output_type": "execute_result"
    }
   ],
   "source": [
    "true_val.shape"
   ]
  },
  {
   "cell_type": "code",
   "execution_count": null,
   "metadata": {
    "colab": {},
    "colab_type": "code",
    "id": "CcIJvsEakSYH"
   },
   "outputs": [],
   "source": []
  }
 ],
 "metadata": {
  "accelerator": "GPU",
  "colab": {
   "collapsed_sections": [],
   "machine_shape": "hm",
   "name": "Baseline LightGBM.ipynb",
   "provenance": []
  },
  "kernelspec": {
   "display_name": "Python 3",
   "language": "python",
   "name": "python3"
  },
  "language_info": {
   "codemirror_mode": {
    "name": "ipython",
    "version": 3
   },
   "file_extension": ".py",
   "mimetype": "text/x-python",
   "name": "python",
   "nbconvert_exporter": "python",
   "pygments_lexer": "ipython3",
   "version": "3.7.7"
  }
 },
 "nbformat": 4,
 "nbformat_minor": 1
}
