{
 "cells": [
  {
   "cell_type": "code",
   "execution_count": 1,
   "metadata": {},
   "outputs": [],
   "source": [
    "import numpy as np\n",
    "import pandas as pd\n",
    "\n",
    "calendar = pd.read_csv(\"../data/calendar.csv\")\n",
    "sales = pd.read_csv(\"../data/sales_train_validation.csv\")\n",
    "# sample_submission = pd.read_csv(\"../data/sample_submission.csv\")\n",
    "sell_prices = pd.read_csv(\"../data/sell_prices.csv\")"
   ]
  },
  {
   "cell_type": "code",
   "execution_count": 2,
   "metadata": {},
   "outputs": [],
   "source": [
    "items = sales[\"item_id\"].unique()"
   ]
  },
  {
   "cell_type": "code",
   "execution_count": 99,
   "metadata": {},
   "outputs": [],
   "source": [
    "filenames = [\"expand_df_\"+s for s in items]\n",
    "\n",
    "def get_dataframe(filename):\n",
    "    df = pd.read_csv(\"dataframes/{}.csv\".format(filename))\n",
    "    df.sort_values(by=['store_id', \"date\"], inplace=True)\n",
    "    df.reset_index(inplace=True)\n",
    "    return df"
   ]
  },
  {
   "cell_type": "code",
   "execution_count": 100,
   "metadata": {},
   "outputs": [],
   "source": [
    "import math\n",
    "\n",
    "def get_label(df):\n",
    "    return df.groupby('store_id')[\"sale\"].shift(-1)\n",
    "\n",
    "def get_features(df):\n",
    "    for i in range(1, 6):\n",
    "        df[f\"shift_t{i}\"] = df.groupby('store_id')[\"sale\"].shift(i)\n",
    "         \n",
    "    df[\"rolling_mean\"] = df[\"sale\"].shift(1).rolling(3, min_periods=1).mean()\n",
    "    \n",
    "    df[\"rolling_decay_mean\"] = df[\"shift_t1\"].copy()\n",
    "    for i in range(2, 4):\n",
    "        df[\"rolling_decay_mean\"] += math.pow(0.9, i-1) * df[f\"shift_t{i}\"]\n",
    "    df[\"rolling_decay_mean\"] = df[\"rolling_decay_mean\"]/3.0\n",
    "    \n",
    "    weekly_sale = df.groupby(['store_id', \"wm_yr_wk\"])[\"sale\"].sum().reset_index()\n",
    "    weekly_sale[\"prev_weekly_sale\"] = weekly_sale.groupby('store_id')[\"sale\"].shift(1)\n",
    "    \n",
    "    weekly_sale.drop([\"sale\"], axis=1, inplace=True)\n",
    "    df = pd.merge(df, weekly_sale, on=[\"store_id\", \"wm_yr_wk\"], how=\"left\")\n",
    "    \n",
    "    df[\"acc_sale_by_week\"] = df.groupby(['store_id', \"wm_yr_wk\"])[\"sale\"].cumsum()\n",
    "    \n",
    "    df[\"wday\"] = df[\"wday\"].astype('category')\n",
    "    df[\"month\"] = df[\"month\"].astype('category')\n",
    "    df[\"year\"] = df[\"year\"].astype('category')\n",
    "    \n",
    "    df[\"holiday\"] = pd.notna(df[\"event_name_1\"])\n",
    "    \n",
    "    pred = get_label(df)\n",
    "    df[\"pred\"] = pred\n",
    "    return df\n",
    "\n",
    "\n",
    "def categorial_encode(X, encoders=None):\n",
    "    cat = ['store_id', 'state_id']\n",
    "    if encoders is None:\n",
    "        encoders = {}\n",
    "        \n",
    "    for feature in cat:\n",
    "        if feature not in encoders:\n",
    "            encoder = preprocessing.LabelEncoder()\n",
    "            X[feature] = encoder.fit_transform(X[feature])\n",
    "        \n",
    "            encoders[feature] = encoder\n",
    "        else:\n",
    "            encoder = encoders[feature]\n",
    "            X[feature] = encoder.transform(X[feature])\n",
    "            \n",
    "    return X, encoders\n",
    "\n",
    "from sklearn import preprocessing, metrics\n",
    "from sklearn.model_selection import train_test_split\n",
    "import lightgbm as lgb\n",
    "\n",
    "def clean_columns(df):\n",
    "    df = df.drop([\"Unnamed: 0\", \"id\", \"item_id\", \"dept_id\", \"cat_id\"], axis=1)\n",
    "    df = df.drop([\"index\", \"d\", \"date\", \"wm_yr_wk\", \"weekday\"], axis=1)\n",
    "    df = df.drop([\"event_name_1\", \"event_name_2\", \"event_type_1\", \"event_type_2\"], axis=1)\n",
    "    return df\n"
   ]
  },
  {
   "cell_type": "code",
   "execution_count": 101,
   "metadata": {},
   "outputs": [],
   "source": [
    "def train(x_train, x_test, y_train, y_test):\n",
    "    params = {\n",
    "    #     'boosting_type': 'gbdt',\n",
    "        'metric': 'rmse',\n",
    "        'objective': 'poisson',\n",
    "        'n_jobs': -1,\n",
    "        'seed': 20,\n",
    "        'learning_rate': 0.1,\n",
    "        'alpha': 0.1,\n",
    "        'lambda': 0.1,\n",
    "        'bagging_fraction': 0.66,\n",
    "        'bagging_freq': 2, \n",
    "        'colsample_bytree': 0.77}\n",
    "\n",
    "    train_set = lgb.Dataset(x_train, y_train)\n",
    "    test_set = lgb.Dataset(x_test, y_test)\n",
    "\n",
    "    model = lgb.train(params, train_set, num_boost_round = 2000, early_stopping_rounds = 200, valid_sets = [train_set, test_set], verbose_eval = 100)\n",
    "    # joblib.dump(model, 'lgbm_0.sav')\n",
    "\n",
    "    val_pred = model.predict(x_test, num_iteration=model.best_iteration)\n",
    "    val_score = np.sqrt(metrics.mean_squared_error(val_pred, y_test))\n",
    "    return model, val_score"
   ]
  },
  {
   "cell_type": "code",
   "execution_count": 102,
   "metadata": {},
   "outputs": [
    {
     "data": {
      "text/html": [
       "<div>\n",
       "<style scoped>\n",
       "    .dataframe tbody tr th:only-of-type {\n",
       "        vertical-align: middle;\n",
       "    }\n",
       "\n",
       "    .dataframe tbody tr th {\n",
       "        vertical-align: top;\n",
       "    }\n",
       "\n",
       "    .dataframe thead th {\n",
       "        text-align: right;\n",
       "    }\n",
       "</style>\n",
       "<table border=\"1\" class=\"dataframe\">\n",
       "  <thead>\n",
       "    <tr style=\"text-align: right;\">\n",
       "      <th></th>\n",
       "      <th>store_id</th>\n",
       "      <th>state_id</th>\n",
       "      <th>sale</th>\n",
       "      <th>wday</th>\n",
       "      <th>month</th>\n",
       "      <th>year</th>\n",
       "      <th>snap_CA</th>\n",
       "      <th>snap_TX</th>\n",
       "      <th>snap_WI</th>\n",
       "      <th>sell_price</th>\n",
       "      <th>shift_t1</th>\n",
       "      <th>shift_t2</th>\n",
       "      <th>shift_t3</th>\n",
       "      <th>shift_t4</th>\n",
       "      <th>shift_t5</th>\n",
       "      <th>rolling_mean</th>\n",
       "      <th>rolling_decay_mean</th>\n",
       "      <th>prev_weekly_sale</th>\n",
       "      <th>acc_sale_by_week</th>\n",
       "      <th>holiday</th>\n",
       "    </tr>\n",
       "  </thead>\n",
       "  <tbody>\n",
       "    <tr>\n",
       "      <th>7178</th>\n",
       "      <td>3</td>\n",
       "      <td>0</td>\n",
       "      <td>0</td>\n",
       "      <td>5</td>\n",
       "      <td>1</td>\n",
       "      <td>2015</td>\n",
       "      <td>1</td>\n",
       "      <td>1</td>\n",
       "      <td>0</td>\n",
       "      <td>8.26</td>\n",
       "      <td>3.0</td>\n",
       "      <td>0.0</td>\n",
       "      <td>0.0</td>\n",
       "      <td>0.0</td>\n",
       "      <td>1.0</td>\n",
       "      <td>1.000000</td>\n",
       "      <td>1.000000</td>\n",
       "      <td>5.0</td>\n",
       "      <td>3</td>\n",
       "      <td>True</td>\n",
       "    </tr>\n",
       "    <tr>\n",
       "      <th>4855</th>\n",
       "      <td>2</td>\n",
       "      <td>0</td>\n",
       "      <td>2</td>\n",
       "      <td>1</td>\n",
       "      <td>11</td>\n",
       "      <td>2013</td>\n",
       "      <td>0</td>\n",
       "      <td>0</td>\n",
       "      <td>0</td>\n",
       "      <td>8.26</td>\n",
       "      <td>0.0</td>\n",
       "      <td>1.0</td>\n",
       "      <td>0.0</td>\n",
       "      <td>1.0</td>\n",
       "      <td>2.0</td>\n",
       "      <td>0.333333</td>\n",
       "      <td>0.300000</td>\n",
       "      <td>6.0</td>\n",
       "      <td>2</td>\n",
       "      <td>False</td>\n",
       "    </tr>\n",
       "    <tr>\n",
       "      <th>10588</th>\n",
       "      <td>5</td>\n",
       "      <td>1</td>\n",
       "      <td>0</td>\n",
       "      <td>2</td>\n",
       "      <td>11</td>\n",
       "      <td>2013</td>\n",
       "      <td>0</td>\n",
       "      <td>0</td>\n",
       "      <td>0</td>\n",
       "      <td>8.26</td>\n",
       "      <td>0.0</td>\n",
       "      <td>0.0</td>\n",
       "      <td>0.0</td>\n",
       "      <td>1.0</td>\n",
       "      <td>0.0</td>\n",
       "      <td>0.000000</td>\n",
       "      <td>0.000000</td>\n",
       "      <td>2.0</td>\n",
       "      <td>0</td>\n",
       "      <td>False</td>\n",
       "    </tr>\n",
       "    <tr>\n",
       "      <th>16767</th>\n",
       "      <td>8</td>\n",
       "      <td>2</td>\n",
       "      <td>2</td>\n",
       "      <td>1</td>\n",
       "      <td>1</td>\n",
       "      <td>2015</td>\n",
       "      <td>0</td>\n",
       "      <td>0</td>\n",
       "      <td>0</td>\n",
       "      <td>8.38</td>\n",
       "      <td>0.0</td>\n",
       "      <td>0.0</td>\n",
       "      <td>0.0</td>\n",
       "      <td>0.0</td>\n",
       "      <td>0.0</td>\n",
       "      <td>0.000000</td>\n",
       "      <td>0.000000</td>\n",
       "      <td>1.0</td>\n",
       "      <td>2</td>\n",
       "      <td>False</td>\n",
       "    </tr>\n",
       "    <tr>\n",
       "      <th>12589</th>\n",
       "      <td>6</td>\n",
       "      <td>1</td>\n",
       "      <td>0</td>\n",
       "      <td>6</td>\n",
       "      <td>2</td>\n",
       "      <td>2014</td>\n",
       "      <td>0</td>\n",
       "      <td>1</td>\n",
       "      <td>0</td>\n",
       "      <td>8.38</td>\n",
       "      <td>1.0</td>\n",
       "      <td>3.0</td>\n",
       "      <td>0.0</td>\n",
       "      <td>1.0</td>\n",
       "      <td>0.0</td>\n",
       "      <td>1.333333</td>\n",
       "      <td>1.233333</td>\n",
       "      <td>3.0</td>\n",
       "      <td>5</td>\n",
       "      <td>False</td>\n",
       "    </tr>\n",
       "  </tbody>\n",
       "</table>\n",
       "</div>"
      ],
      "text/plain": [
       "       store_id  state_id  sale wday month  year  snap_CA  snap_TX  snap_WI  \\\n",
       "7178          3         0     0    5     1  2015        1        1        0   \n",
       "4855          2         0     2    1    11  2013        0        0        0   \n",
       "10588         5         1     0    2    11  2013        0        0        0   \n",
       "16767         8         2     2    1     1  2015        0        0        0   \n",
       "12589         6         1     0    6     2  2014        0        1        0   \n",
       "\n",
       "       sell_price  shift_t1  shift_t2  shift_t3  shift_t4  shift_t5  \\\n",
       "7178         8.26       3.0       0.0       0.0       0.0       1.0   \n",
       "4855         8.26       0.0       1.0       0.0       1.0       2.0   \n",
       "10588        8.26       0.0       0.0       0.0       1.0       0.0   \n",
       "16767        8.38       0.0       0.0       0.0       0.0       0.0   \n",
       "12589        8.38       1.0       3.0       0.0       1.0       0.0   \n",
       "\n",
       "       rolling_mean  rolling_decay_mean  prev_weekly_sale  acc_sale_by_week  \\\n",
       "7178       1.000000            1.000000               5.0                 3   \n",
       "4855       0.333333            0.300000               6.0                 2   \n",
       "10588      0.000000            0.000000               2.0                 0   \n",
       "16767      0.000000            0.000000               1.0                 2   \n",
       "12589      1.333333            1.233333               3.0                 5   \n",
       "\n",
       "       holiday  \n",
       "7178      True  \n",
       "4855     False  \n",
       "10588    False  \n",
       "16767    False  \n",
       "12589    False  "
      ]
     },
     "execution_count": 102,
     "metadata": {},
     "output_type": "execute_result"
    }
   ],
   "source": [
    "df = get_dataframe(filenames[0])\n",
    "\n",
    "X = get_features(df)\n",
    "\n",
    "X = clean_columns(X)\n",
    "X = X.dropna(subset=['sell_price', \"pred\"])\n",
    "Y = X[\"pred\"]\n",
    "X = X.drop([\"pred\"], axis=1)\n",
    "\n",
    "X, encoders = categorial_encode(X)\n",
    "\n",
    "x_train, x_test, y_train, y_test = train_test_split(X, Y, test_size=0.2)\n",
    "x_train.head()"
   ]
  },
  {
   "cell_type": "code",
   "execution_count": 103,
   "metadata": {},
   "outputs": [
    {
     "name": "stderr",
     "output_type": "stream",
     "text": [
      "C:\\Users\\Tk\\Anaconda3\\lib\\site-packages\\lightgbm\\basic.py:762: UserWarning: categorical_feature in param dict is overridden.\n",
      "  warnings.warn('categorical_feature in param dict is overridden.')\n"
     ]
    },
    {
     "name": "stdout",
     "output_type": "stream",
     "text": [
      "Training until validation scores don't improve for 200 rounds.\n",
      "[100]\ttraining's rmse: 0.624462\tvalid_1's rmse: 0.75093\n",
      "[200]\ttraining's rmse: 0.569661\tvalid_1's rmse: 0.75834\n",
      "Early stopping, best iteration is:\n",
      "[42]\ttraining's rmse: 0.664861\tvalid_1's rmse: 0.74692\n"
     ]
    }
   ],
   "source": [
    "model, rmse = train(x_train, x_test, y_train, y_test)"
   ]
  },
  {
   "cell_type": "code",
   "execution_count": 143,
   "metadata": {},
   "outputs": [
    {
     "name": "stdout",
     "output_type": "stream",
     "text": [
      "HOBBIES_1_001\n",
      "HOBBIES_1_001_CA_1_validation\n",
      "HOBBIES_1_001_CA_2_validation\n",
      "HOBBIES_1_001_CA_3_validation\n",
      "HOBBIES_1_001_CA_4_validation\n",
      "HOBBIES_1_001_TX_1_validation\n",
      "HOBBIES_1_001_TX_2_validation\n",
      "HOBBIES_1_001_TX_3_validation\n",
      "HOBBIES_1_001_WI_1_validation\n",
      "HOBBIES_1_001_WI_2_validation\n",
      "HOBBIES_1_001_WI_3_validation\n"
     ]
    }
   ],
   "source": [
    "pd.set_option('display.max_columns', 500)\n",
    "def submission(df, model, encoders):\n",
    "    ids = df[\"id\"].unique()\n",
    "    itemId = df[\"item_id\"].values[0]\n",
    "    print(itemId)\n",
    "    s = sell_prices\n",
    "    s = s[s[\"item_id\"]==itemId]\n",
    "    \n",
    "    pred = {}\n",
    "    for i in ids:\n",
    "        print(i)\n",
    "        o = df[df[\"id\"]==i]\n",
    "        \n",
    "        pred[i] = []\n",
    "        storeId = o[\"store_id\"].values[0]\n",
    "        sellPrices = s[s[\"store_id\"]==storeId]\n",
    "        \n",
    "        \n",
    "        for j in range(28):\n",
    "            tail = o.tail(10).copy()\n",
    "\n",
    "            tail = get_features(tail)\n",
    "            x = tail.tail(1).copy()\n",
    "            x = clean_columns(x)\n",
    "\n",
    "            x, _ = categorial_encode(x, encoders)\n",
    "\n",
    "            val_pred = model.predict(x, num_iteration=model.best_iteration)\n",
    "            \n",
    "            pred[i].append(val_pred[0])\n",
    "            \n",
    "            nextd = 1914+j\n",
    "            newrow = o.tail(1).copy()\n",
    "            \n",
    "            dkey = \"d_{}\".format(nextd)\n",
    "            d = calendar[calendar[\"d\"]==dkey]\n",
    "            sp = sellPrices[sellPrices[\"wm_yr_wk\"]==d[\"wm_yr_wk\"].values[0]]\n",
    "            \n",
    "            if len(sp) > 0:\n",
    "                sell_price = sp[\"sell_price\"].values[0]\n",
    "            else:\n",
    "                sell_price = 0\n",
    "            \n",
    "            newrow[\"sell_price\"] = sell_price\n",
    "            for c in d.columns:\n",
    "                newrow[c] = d[c].values[0]\n",
    "#                 print(c, d[c])\n",
    "            \n",
    "            o = o.append(newrow, ignore_index=True)\n",
    "    return pred\n",
    "    \n",
    "\n",
    "pred = submission(df, model, encoders)\n"
   ]
  },
  {
   "cell_type": "code",
   "execution_count": 151,
   "metadata": {},
   "outputs": [],
   "source": [
    "def save_submission(filename, pred):\n",
    "    \n",
    "    arr = []\n",
    "    for k in pred:\n",
    "        o = {\"id\":k}\n",
    "        for i in range(1, 29):\n",
    "            o[\"F\"+str(i)] = pred[k][i-1]\n",
    "        \n",
    "        arr.append(o)\n",
    "    d = pd.DataFrame(arr)\n",
    "    d.to_csv(filename)\n",
    "save_submission(\"submission/submission_\"+items[0]+\".csv\", pred)\n",
    "# filenames[0]\n"
   ]
  },
  {
   "cell_type": "markdown",
   "metadata": {},
   "source": [
    "# Run all files"
   ]
  },
  {
   "cell_type": "code",
   "execution_count": 160,
   "metadata": {},
   "outputs": [
    {
     "name": "stdout",
     "output_type": "stream",
     "text": [
      "1 / 3049 : FOODS_3_278\n"
     ]
    },
    {
     "name": "stderr",
     "output_type": "stream",
     "text": [
      "C:\\Users\\Tk\\Anaconda3\\lib\\site-packages\\lightgbm\\basic.py:762: UserWarning: categorical_feature in param dict is overridden.\n",
      "  warnings.warn('categorical_feature in param dict is overridden.')\n"
     ]
    },
    {
     "name": "stdout",
     "output_type": "stream",
     "text": [
      "Training until validation scores don't improve for 200 rounds.\n",
      "[100]\ttraining's rmse: 1.51187\tvalid_1's rmse: 1.97442\n",
      "[200]\ttraining's rmse: 1.23588\tvalid_1's rmse: 1.9882\n",
      "Early stopping, best iteration is:\n",
      "[81]\ttraining's rmse: 1.58478\tvalid_1's rmse: 1.97199\n",
      "FOODS_3_278\n",
      "FOODS_3_278_CA_1_validation\n",
      "FOODS_3_278_CA_2_validation\n",
      "FOODS_3_278_CA_3_validation\n",
      "FOODS_3_278_CA_4_validation\n",
      "FOODS_3_278_TX_1_validation\n",
      "FOODS_3_278_TX_2_validation\n",
      "FOODS_3_278_TX_3_validation\n",
      "FOODS_3_278_WI_1_validation\n",
      "FOODS_3_278_WI_2_validation\n",
      "FOODS_3_278_WI_3_validation\n",
      "DONE\n"
     ]
    }
   ],
   "source": [
    "items = sales[\"item_id\"].unique()\n",
    "filenames = [\"expand_df_\"+s for s in items]\n",
    "\n",
    "\n",
    "for idx, item in enumerate([\"FOODS_3_278\"]):\n",
    "    \n",
    "    print(idx+1,\"/\",len(items),\":\", item)\n",
    "    filename = \"expand_df_\"+item\n",
    "    df = get_dataframe(filename)\n",
    "    X = get_features(df)\n",
    "\n",
    "    X = clean_columns(X)\n",
    "    X = X.dropna(subset=['sell_price', \"pred\"])\n",
    "    Y = X[\"pred\"]\n",
    "    X = X.drop([\"pred\"], axis=1)\n",
    "\n",
    "    X, encoders = categorial_encode(X)\n",
    "\n",
    "    x_train, x_test, y_train, y_test = train_test_split(X, Y, test_size=0.2)\n",
    "    \n",
    "    model, rmse = train(x_train, x_test, y_train, y_test)\n",
    "    pred = submission(df, model, encoders)\n",
    "    save_submission(\"submission/submission_\"+item+\".csv\", pred)\n",
    "    \n",
    "print(\"DONE\")"
   ]
  },
  {
   "cell_type": "code",
   "execution_count": null,
   "metadata": {},
   "outputs": [],
   "source": [
    "print(\"DONE\")"
   ]
  },
  {
   "cell_type": "code",
   "execution_count": 3,
   "metadata": {},
   "outputs": [
    {
     "name": "stdout",
     "output_type": "stream",
     "text": [
      "0\n",
      "100\n",
      "200\n",
      "300\n",
      "400\n",
      "500\n",
      "600\n",
      "700\n",
      "800\n",
      "900\n",
      "1000\n",
      "1100\n",
      "1200\n",
      "1300\n",
      "1400\n",
      "1500\n",
      "1600\n",
      "1700\n",
      "1800\n",
      "1900\n",
      "2000\n",
      "2100\n",
      "2200\n",
      "2300\n",
      "2400\n",
      "2500\n",
      "2600\n",
      "2700\n",
      "2800\n",
      "2900\n",
      "3000\n",
      "DONE\n"
     ]
    }
   ],
   "source": [
    "items = sales[\"item_id\"].unique()\n",
    "data = []\n",
    "for idx, item in enumerate(items):\n",
    "    try:\n",
    "        d = pd.read_csv(\"submission/submission_{}.csv\".format(item))\n",
    "    except Exception as e:\n",
    "        print(e, item)\n",
    "    data.append(d)\n",
    "    if idx%100==0:\n",
    "        print(idx)\n",
    "        \n",
    "df = pd.concat(data) \n",
    "# df.to_csv(\"submission/submission.csv\")\n",
    "print(\"DONE\")"
   ]
  },
  {
   "cell_type": "code",
   "execution_count": 4,
   "metadata": {},
   "outputs": [],
   "source": [
    "sample_submission = pd.read_csv(\"../data/sample_submission.csv\")"
   ]
  },
  {
   "cell_type": "code",
   "execution_count": 8,
   "metadata": {},
   "outputs": [],
   "source": [
    "# sample_submission[\"\"]\n",
    "dfeval = sample_submission[sample_submission.id.str.endswith('evaluation')]"
   ]
  },
  {
   "cell_type": "code",
   "execution_count": 9,
   "metadata": {},
   "outputs": [],
   "source": [
    "df = pd.concat([df, dfeval]) "
   ]
  },
  {
   "cell_type": "code",
   "execution_count": 11,
   "metadata": {},
   "outputs": [
    {
     "data": {
      "text/plain": [
       "(60980, 60980)"
      ]
     },
     "execution_count": 11,
     "metadata": {},
     "output_type": "execute_result"
    }
   ],
   "source": [
    "len(df), len(sample_submission)"
   ]
  },
  {
   "cell_type": "code",
   "execution_count": 17,
   "metadata": {},
   "outputs": [
    {
     "data": {
      "text/plain": [
       "True"
      ]
     },
     "execution_count": 17,
     "metadata": {},
     "output_type": "execute_result"
    }
   ],
   "source": [
    "a = (df[\"id\"].values)\n",
    "b = (sample_submission[\"id\"].values)\n",
    "\n",
    "set(a)==set(b)"
   ]
  },
  {
   "cell_type": "code",
   "execution_count": 18,
   "metadata": {},
   "outputs": [],
   "source": [
    "df.to_csv(\"submission/submission.csv\")"
   ]
  },
  {
   "cell_type": "code",
   "execution_count": null,
   "metadata": {},
   "outputs": [],
   "source": []
  }
 ],
 "metadata": {
  "kernelspec": {
   "display_name": "Python 3",
   "language": "python",
   "name": "python3"
  },
  "language_info": {
   "codemirror_mode": {
    "name": "ipython",
    "version": 3
   },
   "file_extension": ".py",
   "mimetype": "text/x-python",
   "name": "python",
   "nbconvert_exporter": "python",
   "pygments_lexer": "ipython3",
   "version": "3.7.7"
  }
 },
 "nbformat": 4,
 "nbformat_minor": 4
}
