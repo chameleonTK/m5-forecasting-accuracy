{
 "cells": [
  {
   "cell_type": "code",
   "execution_count": 1,
   "metadata": {
    "_cell_guid": "b1076dfc-b9ad-4769-8c92-a6c4dae69d19",
    "_uuid": "8f2839f25d086af736a60e9eeb907d3b93b6e0e5"
   },
   "outputs": [],
   "source": [
    "import numpy as np\n",
    "import pandas as pd"
   ]
  },
  {
   "cell_type": "code",
   "execution_count": 2,
   "metadata": {
    "_cell_guid": "79c7e3d0-c299-4dcb-8224-4455121ee9b0",
    "_uuid": "d629ff2d2480ee46fbb7e2d37f6b5fab8052498a"
   },
   "outputs": [],
   "source": [
    "def reduce_mem_usage(df, verbose=True):\n",
    "    numerics = ['int16', 'int32', 'int64', 'float16', 'float32', 'float64']\n",
    "    start_mem = df.memory_usage().sum() / 1024**2    \n",
    "    for col in df.columns: #columns毎に処理\n",
    "        col_type = df[col].dtypes\n",
    "        if col_type in numerics: \n",
    "            c_min = df[col].min()\n",
    "            c_max = df[col].max()\n",
    "            if str(col_type)[:3] == 'int':\n",
    "                if c_min > np.iinfo(np.int8).min and c_max < np.iinfo(np.int8).max:\n",
    "                    df[col] = df[col].astype(np.int8)\n",
    "                elif c_min > np.iinfo(np.int16).min and c_max < np.iinfo(np.int16).max:\n",
    "                    df[col] = df[col].astype(np.int16)\n",
    "                elif c_min > np.iinfo(np.int32).min and c_max < np.iinfo(np.int32).max:\n",
    "                    df[col] = df[col].astype(np.int32)\n",
    "                elif c_min > np.iinfo(np.int64).min and c_max < np.iinfo(np.int64).max:\n",
    "                    df[col] = df[col].astype(np.int64)  \n",
    "            else:\n",
    "                if c_min > np.finfo(np.float16).min and c_max < np.finfo(np.float16).max:\n",
    "                    df[col] = df[col].astype(np.float16)\n",
    "                elif c_min > np.finfo(np.float32).min and c_max < np.finfo(np.float32).max:\n",
    "                    df[col] = df[col].astype(np.float32)\n",
    "                else:\n",
    "                    df[col] = df[col].astype(np.float64)    \n",
    "    end_mem = df.memory_usage().sum() / 1024**2\n",
    "    if verbose: print('Mem. usage decreased to {:5.2f} Mb ({:.1f}% reduction)'.format(end_mem, 100 * (start_mem - end_mem) / start_mem))\n",
    "    return df"
   ]
  },
  {
   "cell_type": "code",
   "execution_count": 3,
   "metadata": {},
   "outputs": [],
   "source": [
    "pd.options.display.max_columns = 100"
   ]
  },
  {
   "cell_type": "code",
   "execution_count": null,
   "metadata": {},
   "outputs": [],
   "source": []
  },
  {
   "cell_type": "code",
   "execution_count": null,
   "metadata": {},
   "outputs": [],
   "source": [
    "import pickle\n",
    "with open(\"models/LightGBM_KAGLE.pickle\", 'rb') as fin:\n",
    "        model = pickle.load(fin)"
   ]
  },
  {
   "cell_type": "code",
   "execution_count": 5,
   "metadata": {},
   "outputs": [
    {
     "data": {
      "text/plain": [
       "<lightgbm.basic.Booster at 0x16b520cd9c8>"
      ]
     },
     "execution_count": 5,
     "metadata": {},
     "output_type": "execute_result"
    }
   ],
   "source": [
    "model"
   ]
  },
  {
   "cell_type": "code",
   "execution_count": 6,
   "metadata": {},
   "outputs": [
    {
     "name": "stdout",
     "output_type": "stream",
     "text": [
      "YEAH\n"
     ]
    }
   ],
   "source": [
    "print(\"YEAH\")"
   ]
  },
  {
   "cell_type": "code",
   "execution_count": 7,
   "metadata": {},
   "outputs": [
    {
     "name": "stdout",
     "output_type": "stream",
     "text": [
      "Mem. usage decreased to 42.34 Mb (75.9% reduction)\n"
     ]
    },
    {
     "data": {
      "text/html": [
       "<div>\n",
       "<style scoped>\n",
       "    .dataframe tbody tr th:only-of-type {\n",
       "        vertical-align: middle;\n",
       "    }\n",
       "\n",
       "    .dataframe tbody tr th {\n",
       "        vertical-align: top;\n",
       "    }\n",
       "\n",
       "    .dataframe thead th {\n",
       "        text-align: right;\n",
       "    }\n",
       "</style>\n",
       "<table border=\"1\" class=\"dataframe\">\n",
       "  <thead>\n",
       "    <tr style=\"text-align: right;\">\n",
       "      <th></th>\n",
       "      <th>id</th>\n",
       "      <th>item_id</th>\n",
       "      <th>dept_id</th>\n",
       "      <th>cat_id</th>\n",
       "      <th>store_id</th>\n",
       "      <th>state_id</th>\n",
       "      <th>demand</th>\n",
       "      <th>part</th>\n",
       "      <th>date</th>\n",
       "      <th>wm_yr_wk</th>\n",
       "      <th>event_name_1</th>\n",
       "      <th>event_type_1</th>\n",
       "      <th>event_name_2</th>\n",
       "      <th>event_type_2</th>\n",
       "      <th>snap_CA</th>\n",
       "      <th>snap_TX</th>\n",
       "      <th>snap_WI</th>\n",
       "      <th>sell_price</th>\n",
       "      <th>year</th>\n",
       "      <th>quarter</th>\n",
       "      <th>month</th>\n",
       "      <th>week</th>\n",
       "      <th>day</th>\n",
       "      <th>dayofweek</th>\n",
       "      <th>weekday</th>\n",
       "      <th>weekofyear</th>\n",
       "      <th>is_weekend</th>\n",
       "    </tr>\n",
       "  </thead>\n",
       "  <tbody>\n",
       "    <tr>\n",
       "      <th>0</th>\n",
       "      <td>FOODS_1_001_CA_1_validation</td>\n",
       "      <td>0</td>\n",
       "      <td>0</td>\n",
       "      <td>0</td>\n",
       "      <td>0</td>\n",
       "      <td>0</td>\n",
       "      <td>0</td>\n",
       "      <td>validate</td>\n",
       "      <td>2016-04-25</td>\n",
       "      <td>11613</td>\n",
       "      <td>30</td>\n",
       "      <td>4</td>\n",
       "      <td>1</td>\n",
       "      <td>1</td>\n",
       "      <td>0</td>\n",
       "      <td>0</td>\n",
       "      <td>0</td>\n",
       "      <td>2.240234</td>\n",
       "      <td>2016</td>\n",
       "      <td>2</td>\n",
       "      <td>4</td>\n",
       "      <td>17</td>\n",
       "      <td>25</td>\n",
       "      <td>0</td>\n",
       "      <td>0</td>\n",
       "      <td>17</td>\n",
       "      <td>0</td>\n",
       "    </tr>\n",
       "    <tr>\n",
       "      <th>1</th>\n",
       "      <td>FOODS_1_001_CA_1_validation</td>\n",
       "      <td>0</td>\n",
       "      <td>0</td>\n",
       "      <td>0</td>\n",
       "      <td>0</td>\n",
       "      <td>0</td>\n",
       "      <td>0</td>\n",
       "      <td>validate</td>\n",
       "      <td>2016-04-26</td>\n",
       "      <td>11613</td>\n",
       "      <td>30</td>\n",
       "      <td>4</td>\n",
       "      <td>1</td>\n",
       "      <td>1</td>\n",
       "      <td>0</td>\n",
       "      <td>0</td>\n",
       "      <td>0</td>\n",
       "      <td>2.240234</td>\n",
       "      <td>2016</td>\n",
       "      <td>2</td>\n",
       "      <td>4</td>\n",
       "      <td>17</td>\n",
       "      <td>26</td>\n",
       "      <td>1</td>\n",
       "      <td>1</td>\n",
       "      <td>17</td>\n",
       "      <td>0</td>\n",
       "    </tr>\n",
       "    <tr>\n",
       "      <th>2</th>\n",
       "      <td>FOODS_1_001_CA_1_validation</td>\n",
       "      <td>0</td>\n",
       "      <td>0</td>\n",
       "      <td>0</td>\n",
       "      <td>0</td>\n",
       "      <td>0</td>\n",
       "      <td>0</td>\n",
       "      <td>validate</td>\n",
       "      <td>2016-04-27</td>\n",
       "      <td>11613</td>\n",
       "      <td>30</td>\n",
       "      <td>4</td>\n",
       "      <td>1</td>\n",
       "      <td>1</td>\n",
       "      <td>0</td>\n",
       "      <td>0</td>\n",
       "      <td>0</td>\n",
       "      <td>2.240234</td>\n",
       "      <td>2016</td>\n",
       "      <td>2</td>\n",
       "      <td>4</td>\n",
       "      <td>17</td>\n",
       "      <td>27</td>\n",
       "      <td>2</td>\n",
       "      <td>2</td>\n",
       "      <td>17</td>\n",
       "      <td>0</td>\n",
       "    </tr>\n",
       "    <tr>\n",
       "      <th>3</th>\n",
       "      <td>FOODS_1_001_CA_1_validation</td>\n",
       "      <td>0</td>\n",
       "      <td>0</td>\n",
       "      <td>0</td>\n",
       "      <td>0</td>\n",
       "      <td>0</td>\n",
       "      <td>0</td>\n",
       "      <td>validate</td>\n",
       "      <td>2016-04-28</td>\n",
       "      <td>11613</td>\n",
       "      <td>30</td>\n",
       "      <td>4</td>\n",
       "      <td>1</td>\n",
       "      <td>1</td>\n",
       "      <td>0</td>\n",
       "      <td>0</td>\n",
       "      <td>0</td>\n",
       "      <td>2.240234</td>\n",
       "      <td>2016</td>\n",
       "      <td>2</td>\n",
       "      <td>4</td>\n",
       "      <td>17</td>\n",
       "      <td>28</td>\n",
       "      <td>3</td>\n",
       "      <td>3</td>\n",
       "      <td>17</td>\n",
       "      <td>0</td>\n",
       "    </tr>\n",
       "    <tr>\n",
       "      <th>4</th>\n",
       "      <td>FOODS_1_001_CA_1_validation</td>\n",
       "      <td>0</td>\n",
       "      <td>0</td>\n",
       "      <td>0</td>\n",
       "      <td>0</td>\n",
       "      <td>0</td>\n",
       "      <td>0</td>\n",
       "      <td>validate</td>\n",
       "      <td>2016-04-29</td>\n",
       "      <td>11613</td>\n",
       "      <td>30</td>\n",
       "      <td>4</td>\n",
       "      <td>1</td>\n",
       "      <td>1</td>\n",
       "      <td>0</td>\n",
       "      <td>0</td>\n",
       "      <td>0</td>\n",
       "      <td>2.240234</td>\n",
       "      <td>2016</td>\n",
       "      <td>2</td>\n",
       "      <td>4</td>\n",
       "      <td>17</td>\n",
       "      <td>29</td>\n",
       "      <td>4</td>\n",
       "      <td>4</td>\n",
       "      <td>17</td>\n",
       "      <td>0</td>\n",
       "    </tr>\n",
       "  </tbody>\n",
       "</table>\n",
       "</div>"
      ],
      "text/plain": [
       "                            id  item_id  dept_id  cat_id  store_id  state_id  \\\n",
       "0  FOODS_1_001_CA_1_validation        0        0       0         0         0   \n",
       "1  FOODS_1_001_CA_1_validation        0        0       0         0         0   \n",
       "2  FOODS_1_001_CA_1_validation        0        0       0         0         0   \n",
       "3  FOODS_1_001_CA_1_validation        0        0       0         0         0   \n",
       "4  FOODS_1_001_CA_1_validation        0        0       0         0         0   \n",
       "\n",
       "   demand      part        date  wm_yr_wk  event_name_1  event_type_1  \\\n",
       "0       0  validate  2016-04-25     11613            30             4   \n",
       "1       0  validate  2016-04-26     11613            30             4   \n",
       "2       0  validate  2016-04-27     11613            30             4   \n",
       "3       0  validate  2016-04-28     11613            30             4   \n",
       "4       0  validate  2016-04-29     11613            30             4   \n",
       "\n",
       "   event_name_2  event_type_2  snap_CA  snap_TX  snap_WI  sell_price  year  \\\n",
       "0             1             1        0        0        0    2.240234  2016   \n",
       "1             1             1        0        0        0    2.240234  2016   \n",
       "2             1             1        0        0        0    2.240234  2016   \n",
       "3             1             1        0        0        0    2.240234  2016   \n",
       "4             1             1        0        0        0    2.240234  2016   \n",
       "\n",
       "   quarter  month  week  day  dayofweek  weekday  weekofyear  is_weekend  \n",
       "0        2      4    17   25          0        0          17           0  \n",
       "1        2      4    17   26          1        1          17           0  \n",
       "2        2      4    17   27          2        2          17           0  \n",
       "3        2      4    17   28          3        3          17           0  \n",
       "4        2      4    17   29          4        4          17           0  "
      ]
     },
     "execution_count": 7,
     "metadata": {},
     "output_type": "execute_result"
    }
   ],
   "source": [
    "def load_validation(path):\n",
    "\n",
    "    d = pd.read_csv(path+\"validation.csv\")\n",
    "    d.drop([\n",
    "        \"Unnamed: 0\"\n",
    "    ], axis=1, inplace=True)\n",
    "    \n",
    "    return reduce_mem_usage(d)\n",
    "\n",
    "\n",
    "\n",
    "X_val = load_validation(\"./feat2/\")\n",
    "X_val.head()"
   ]
  },
  {
   "cell_type": "code",
   "execution_count": 8,
   "metadata": {},
   "outputs": [
    {
     "name": "stdout",
     "output_type": "stream",
     "text": [
      "Mem. usage decreased to 59.87 Mb (73.2% reduction)\n",
      "1000\n",
      "Mem. usage decreased to 119.71 Mb (73.2% reduction)\n",
      "2000\n",
      "Mem. usage decreased to 179.58 Mb (73.2% reduction)\n",
      "3000\n",
      "Mem. usage decreased to 182.51 Mb (73.2% reduction)\n"
     ]
    }
   ],
   "source": [
    "# get only the last 28 days\n",
    "\n",
    "from os import listdir\n",
    "from os.path import isfile, join\n",
    "\n",
    "def get_feats(path):\n",
    "    data = []\n",
    "    cc = 0\n",
    "    imb_cnt = 0\n",
    "    for f in listdir(path):\n",
    "        p = join(path, f)\n",
    "        if isfile(p) and f.endswith('.csv'):\n",
    "            if f.startswith(\"validation\"):\n",
    "                continue\n",
    "                \n",
    "            cc +=1\n",
    "            d = pd.read_csv(p)\n",
    "            \n",
    "            lastrowdate = pd.to_datetime(d.tail(1)[\"date\"])\n",
    "            lastmonth = lastrowdate - pd.DateOffset(days=86)\n",
    "            lastmonthstr = str(lastmonth.values[0])\n",
    "\n",
    "\n",
    "            d = d[d['date'] >= lastmonthstr]\n",
    "#             d[\"logdemand\"] = np.log(d[\"demand\"]+1e-5)\n",
    "                \n",
    "            \n",
    "            d.drop([\"Unnamed: 0\"], axis=1, inplace=True)\n",
    "            \n",
    "            d.fillna(d.mean(), inplace=True)\n",
    "            data.append(d)\n",
    "        \n",
    "        if cc%1000==0:\n",
    "            d = pd.concat(data)\n",
    "            d = reduce_mem_usage(d)\n",
    "            \n",
    "            data = [d]\n",
    "            print(cc)\n",
    "#     break\n",
    "    data = pd.concat(data)\n",
    "    return reduce_mem_usage(data)\n",
    "\n",
    "X_train = get_feats(\"./feat2/\")"
   ]
  },
  {
   "cell_type": "code",
   "execution_count": null,
   "metadata": {},
   "outputs": [],
   "source": []
  },
  {
   "cell_type": "code",
   "execution_count": 11,
   "metadata": {},
   "outputs": [],
   "source": [
    "# from ipynb.fs.full.FeatureEngineering import numerical_feature\n",
    "import math\n",
    "\n",
    "def numerical_feature(df):\n",
    "    for i in [7, 28]:\n",
    "        df[f\"shifted_t{i}\"] = df[[\"id\",\"demand\"]].groupby('id')[\"demand\"].shift(i)\n",
    "\n",
    "    for win, col in [(7, \"shifted_t7\"), (7, \"shifted_t28\"), (28, \"shifted_t7\"), (28, \"shifted_t28\")]:\n",
    "        df[f\"rolling_mean_{col}_w{win}\"] = df[[\"id\", col]].groupby('id')[col].shift(1).rolling(win, min_periods=1).mean()\n",
    "\n",
    "    return df\n",
    "\n"
   ]
  },
  {
   "cell_type": "code",
   "execution_count": 12,
   "metadata": {},
   "outputs": [],
   "source": [
    "orgX_val, orgX_train = X_val, X_train"
   ]
  },
  {
   "cell_type": "code",
   "execution_count": 13,
   "metadata": {},
   "outputs": [],
   "source": [
    "cat_feats = ['item_id', 'dept_id','store_id', 'cat_id', 'state_id'] + [\"event_name_1\", \"event_name_2\", \"event_type_1\", \"event_type_2\"]\n",
    "\n",
    "useless_cols = [\"id\", \"date\", \"demand\",\"d\", \"wm_yr_wk\", \"is_weekend\", \"part\"]\n",
    "train_cols = orgX_train.columns[~orgX_train.columns.isin(useless_cols)]"
   ]
  },
  {
   "cell_type": "code",
   "execution_count": 14,
   "metadata": {},
   "outputs": [
    {
     "data": {
      "text/plain": [
       "Index(['item_id', 'dept_id', 'cat_id', 'store_id', 'state_id', 'event_name_1',\n",
       "       'event_type_1', 'event_name_2', 'event_type_2', 'snap_CA', 'snap_TX',\n",
       "       'snap_WI', 'sell_price', 'year', 'quarter', 'month', 'week', 'day',\n",
       "       'dayofweek', 'weekday', 'weekofyear', 'shifted_t7', 'shifted_t28',\n",
       "       'rolling_mean_shifted_t7_w7', 'rolling_mean_shifted_t28_w7',\n",
       "       'rolling_mean_shifted_t7_w28', 'rolling_mean_shifted_t28_w28'],\n",
       "      dtype='object')"
      ]
     },
     "execution_count": 14,
     "metadata": {},
     "output_type": "execute_result"
    }
   ],
   "source": [
    "train_cols"
   ]
  },
  {
   "cell_type": "code",
   "execution_count": 46,
   "metadata": {},
   "outputs": [],
   "source": [
    "import time\n",
    "\n",
    "import datetime\n",
    "import dateutil.relativedelta\n",
    "\n",
    "def predict(model, X_train, X_test, factor=1):\n",
    "    DATES = X_test[\"date\"].unique()\n",
    "    NDATE = len(DATES)\n",
    "    print(\"NDATE\", NDATE)\n",
    "    \n",
    "    col = [\"id\"] + [\"F{}\".format(i) for i in range(1, NDATE+1)]\n",
    "    itemId = X_train[\"dept_id\"].unique()\n",
    "    print(\"#CHUNK\", len(itemId))\n",
    "    \n",
    "    acc_o = []\n",
    "    itemId = sorted(itemId)\n",
    "    for iid in itemId:\n",
    "        test = X_test[X_test[\"dept_id\"]==iid]\n",
    "        \n",
    "        ids = test[\"id\"].unique()\n",
    "        oarr = np.zeros((len(ids), NDATE+1))\n",
    "        o = pd.DataFrame(oarr, columns=col)\n",
    "        \n",
    "        o[\"id\"] = test[test[\"date\"]==DATES[0]][\"id\"].values\n",
    "        \n",
    "        train = X_train[X_train[\"dept_id\"]==iid]\n",
    "        \n",
    "        ## XX=test, X=train\n",
    "        lastmonth = pd.to_datetime(train.head(1)[\"date\"])\n",
    "        for idx, date in enumerate(DATES):\n",
    "            \n",
    "            newrow = test[test[\"date\"]==date]\n",
    "            train = train.append(newrow)\n",
    "            \n",
    "            train.sort_values(by=['id', \"date\"], inplace=True)\n",
    "# #             print(\"num feats START\")\n",
    "            feat = numerical_feature(train)\n",
    "            \n",
    "# #             print(\"num feats DONE\")\n",
    "\n",
    "#             print(f\"============== {idx} ==========\")\n",
    "#             p = feat[feat[\"id\"]==\"FOODS_1_001_CA_1_validation\"]\n",
    "# #             print(p)\n",
    "#             print(p.tail(15)[[\"date\", \"demand\", \"shifted_t7\"]])\n",
    "#             if idx==10:\n",
    "#                 return None\n",
    "            \n",
    "            x = feat.loc[feat[\"date\"] == date , train_cols]\n",
    "            val_pred = model.predict(x)\n",
    "\n",
    "            \n",
    "            o[f\"F{idx+1}\"] = val_pred*factor\n",
    "            \n",
    "            \n",
    "            train.loc[train[\"date\"]==date, \"demand\"] = val_pred*factor\n",
    "            \n",
    "            \n",
    "            lastmonth = lastmonth + pd.DateOffset(days=1)\n",
    "            train = train[train['date'] >= str(lastmonth.values[0])]\n",
    "        acc_o.append(o)\n",
    "        acc_o = [pd.concat(acc_o)]\n",
    "        print(iid)\n",
    "#         break\n",
    "    \n",
    "    acc_o = pd.concat(acc_o)\n",
    "    return acc_o"
   ]
  },
  {
   "cell_type": "code",
   "execution_count": 47,
   "metadata": {},
   "outputs": [
    {
     "name": "stdout",
     "output_type": "stream",
     "text": [
      "======== w 1 ==========\n",
      "NDATE 28\n",
      "#CHUNK 7\n",
      "0\n",
      "1\n",
      "2\n",
      "3\n",
      "4\n",
      "5\n",
      "6\n"
     ]
    }
   ],
   "source": [
    "pp = []\n",
    "weights = [1]\n",
    "# weights = [1, 1.028, 1.023, 1.018]\n",
    "for w in weights:\n",
    "    print(\"======== w\",w,\"==========\")\n",
    "    pred = predict(model, X_train, X_val, factor=w)\n",
    "    pp.append(pred)\n"
   ]
  },
  {
   "cell_type": "code",
   "execution_count": 52,
   "metadata": {},
   "outputs": [],
   "source": [
    "\n",
    "# avgpred = pd.DataFrame([])\n",
    "# avgpred[\"id\"] = pp[0][\"id\"]\n",
    "# for i in range(1, 29):\n",
    "#     avgpred[f\"F{i}\"] = (pp[1][f\"F{i}\"]+pp[2][f\"F{i}\"]+pp[3][f\"F{i}\"])/3\n",
    "    \n",
    "#     print(sum(avgpred[f\"F{i}\"]), sum(pp[0][f\"F{i}\"]))\n",
    "    \n",
    "\n",
    "\n",
    "# avgpred.head()\n",
    "avgpred = pp[0]"
   ]
  },
  {
   "cell_type": "code",
   "execution_count": 51,
   "metadata": {},
   "outputs": [],
   "source": [
    "data_dir = \"./data/\"\n",
    "submission = pd.read_csv(data_dir+'sample_submission.csv')\n",
    "dfeval = submission[submission.id.str.endswith('evaluation')]"
   ]
  },
  {
   "cell_type": "code",
   "execution_count": 53,
   "metadata": {},
   "outputs": [],
   "source": [
    "\n",
    "assert len(dfeval)==len(avgpred)"
   ]
  },
  {
   "cell_type": "code",
   "execution_count": 54,
   "metadata": {},
   "outputs": [],
   "source": [
    "\n",
    "for i in range(len(pp)):\n",
    "    df = pd.concat([pp[i], dfeval]) \n",
    "\n",
    "    df.sort_values(\"id\", inplace = True)\n",
    "    df.reset_index(drop=True, inplace = True)\n",
    "    df.to_csv(f\"submission_v5.{i}.csv\")\n",
    "\n",
    "\n",
    "# df = pd.concat([avgpred, dfeval]) \n",
    "# df.sort_values(\"id\", inplace = True)\n",
    "# df.reset_index(drop=True, inplace = True)\n",
    "# df.to_csv(\"submission_v5.{}.csv\".format(len(pp)))"
   ]
  },
  {
   "cell_type": "code",
   "execution_count": 57,
   "metadata": {},
   "outputs": [],
   "source": [
    "# thebest = pd.read_csv(\"submission_v4.csv\")\n",
    "\n",
    "# rmse(df, thebest)"
   ]
  },
  {
   "cell_type": "code",
   "execution_count": 59,
   "metadata": {},
   "outputs": [
    {
     "name": "stdout",
     "output_type": "stream",
     "text": [
      "0.06932133752613022 79809.57150258459\n",
      "0.0701459347842684 73032.06106016925\n",
      "0.0712587253728682 70087.56825037877\n",
      "0.06018097670487221 69489.65689680453\n",
      "0.06581197320737579 81169.4594341078\n",
      "0.0642935445223066 90499.71050531889\n",
      "0.08951572716239548 105721.70376331158\n",
      "0.06803747079452284 92999.241833135\n",
      "0.0693611211494169 89539.03343881461\n",
      "0.07213619478194534 78148.96961979584\n",
      "0.07157368974215815 80379.09066742251\n",
      "0.08398764205141548 90184.45242546794\n",
      "0.07813942093314054 97434.29331885652\n",
      "0.0803224173591656 85947.24714883062\n",
      "0.06711658709123001 92232.92965069183\n",
      "0.06625451832861123 79978.23621193491\n",
      "0.06828484948887935 83346.51222238268\n",
      "0.06982512980786693 83096.70544005635\n",
      "0.08205720848306483 89388.88314819924\n",
      "0.0787774422286739 103181.92058601619\n",
      "0.08127201590182043 109341.21683304248\n",
      "0.07415458923251537 81800.49138562103\n",
      "0.07147277493236398 73577.84056780583\n",
      "0.07433885925833869 71358.02545632045\n",
      "0.07560560276554985 70808.65834056292\n",
      "0.08636684235861886 80823.42410935761\n",
      "0.08415039759388858 94110.0665002711\n",
      "0.08846784507776498 101304.95714999363\n"
     ]
    }
   ],
   "source": [
    "baseline = pd.read_csv(\"./submissions/submission_v4.csv\")\n",
    "for i in range(1, 29):\n",
    "    print(sum(avgpred[f\"F{i}\"]), sum(baseline[f\"F{i}\"]))"
   ]
  },
  {
   "cell_type": "markdown",
   "metadata": {},
   "source": [
    "# Check check check"
   ]
  },
  {
   "cell_type": "code",
   "execution_count": 27,
   "metadata": {},
   "outputs": [
    {
     "name": "stdout",
     "output_type": "stream",
     "text": [
      "NDATE 10\n",
      "7\n",
      "0\n",
      "1\n",
      "2\n",
      "3\n",
      "4\n",
      "5\n",
      "6\n"
     ]
    }
   ],
   "source": [
    "\n",
    "intX_train = X_train[X_train['date'] < '2016-04-15']\n",
    "intX_val = X_train[X_train['date'] >= '2016-04-15']\n",
    "pred = predict(model, intX_train, intX_val)\n",
    "pred[\"id\"] = le.inverse_transform(pred[\"id\"])\n",
    "\n",
    "pred.to_csv(\"internal_submission.csv\")"
   ]
  },
  {
   "cell_type": "code",
   "execution_count": 28,
   "metadata": {},
   "outputs": [],
   "source": [
    "groudtruth = sales[[\"id\", \"d_1904\", \"d_1905\", \"d_1906\", \"d_1907\", \"d_1908\", \"d_1909\", \"d_1910\", \"d_1911\", \"d_1912\", \"d_1913\"]]\n",
    "\n",
    "def transform(df):\n",
    "    newdf = df.melt(id_vars=[\"id\"], var_name=\"d\", value_name=\"sale\")\n",
    "    newdf.sort_values(by=['id', \"d\"], inplace=True)\n",
    "    newdf.reset_index(inplace=True)\n",
    "    return newdf\n",
    "\n",
    "from sklearn.metrics import mean_squared_error\n",
    "\n",
    "def rmse(df, gt):\n",
    "    df = transform(df)\n",
    "    gt = transform(gt)\n",
    "    return mean_squared_error(df[\"sale\"], gt[\"sale\"])\n"
   ]
  },
  {
   "cell_type": "code",
   "execution_count": 32,
   "metadata": {},
   "outputs": [
    {
     "data": {
      "text/html": [
       "<div>\n",
       "<style scoped>\n",
       "    .dataframe tbody tr th:only-of-type {\n",
       "        vertical-align: middle;\n",
       "    }\n",
       "\n",
       "    .dataframe tbody tr th {\n",
       "        vertical-align: top;\n",
       "    }\n",
       "\n",
       "    .dataframe thead th {\n",
       "        text-align: right;\n",
       "    }\n",
       "</style>\n",
       "<table border=\"1\" class=\"dataframe\">\n",
       "  <thead>\n",
       "    <tr style=\"text-align: right;\">\n",
       "      <th></th>\n",
       "      <th>id</th>\n",
       "      <th>d_1904</th>\n",
       "      <th>d_1905</th>\n",
       "      <th>d_1906</th>\n",
       "      <th>d_1907</th>\n",
       "      <th>d_1908</th>\n",
       "      <th>d_1909</th>\n",
       "      <th>d_1910</th>\n",
       "      <th>d_1911</th>\n",
       "      <th>d_1912</th>\n",
       "      <th>d_1913</th>\n",
       "    </tr>\n",
       "  </thead>\n",
       "  <tbody>\n",
       "    <tr>\n",
       "      <th>0</th>\n",
       "      <td>HOBBIES_1_001_CA_1_validation</td>\n",
       "      <td>0</td>\n",
       "      <td>0</td>\n",
       "      <td>0</td>\n",
       "      <td>0</td>\n",
       "      <td>0</td>\n",
       "      <td>0</td>\n",
       "      <td>0</td>\n",
       "      <td>0</td>\n",
       "      <td>0</td>\n",
       "      <td>0</td>\n",
       "    </tr>\n",
       "    <tr>\n",
       "      <th>1</th>\n",
       "      <td>HOBBIES_1_002_CA_1_validation</td>\n",
       "      <td>0</td>\n",
       "      <td>0</td>\n",
       "      <td>0</td>\n",
       "      <td>0</td>\n",
       "      <td>0</td>\n",
       "      <td>0</td>\n",
       "      <td>0</td>\n",
       "      <td>0</td>\n",
       "      <td>0</td>\n",
       "      <td>0</td>\n",
       "    </tr>\n",
       "    <tr>\n",
       "      <th>2</th>\n",
       "      <td>HOBBIES_1_003_CA_1_validation</td>\n",
       "      <td>0</td>\n",
       "      <td>0</td>\n",
       "      <td>0</td>\n",
       "      <td>0</td>\n",
       "      <td>0</td>\n",
       "      <td>0</td>\n",
       "      <td>0</td>\n",
       "      <td>0</td>\n",
       "      <td>0</td>\n",
       "      <td>0</td>\n",
       "    </tr>\n",
       "    <tr>\n",
       "      <th>3</th>\n",
       "      <td>HOBBIES_1_004_CA_1_validation</td>\n",
       "      <td>0</td>\n",
       "      <td>0</td>\n",
       "      <td>0</td>\n",
       "      <td>0</td>\n",
       "      <td>0</td>\n",
       "      <td>0</td>\n",
       "      <td>0</td>\n",
       "      <td>0</td>\n",
       "      <td>0</td>\n",
       "      <td>0</td>\n",
       "    </tr>\n",
       "    <tr>\n",
       "      <th>4</th>\n",
       "      <td>HOBBIES_1_005_CA_1_validation</td>\n",
       "      <td>0</td>\n",
       "      <td>0</td>\n",
       "      <td>0</td>\n",
       "      <td>0</td>\n",
       "      <td>0</td>\n",
       "      <td>0</td>\n",
       "      <td>0</td>\n",
       "      <td>0</td>\n",
       "      <td>0</td>\n",
       "      <td>0</td>\n",
       "    </tr>\n",
       "  </tbody>\n",
       "</table>\n",
       "</div>"
      ],
      "text/plain": [
       "                              id  d_1904  d_1905  d_1906  d_1907  d_1908  \\\n",
       "0  HOBBIES_1_001_CA_1_validation       0       0       0       0       0   \n",
       "1  HOBBIES_1_002_CA_1_validation       0       0       0       0       0   \n",
       "2  HOBBIES_1_003_CA_1_validation       0       0       0       0       0   \n",
       "3  HOBBIES_1_004_CA_1_validation       0       0       0       0       0   \n",
       "4  HOBBIES_1_005_CA_1_validation       0       0       0       0       0   \n",
       "\n",
       "   d_1909  d_1910  d_1911  d_1912  d_1913  \n",
       "0       0       0       0       0       0  \n",
       "1       0       0       0       0       0  \n",
       "2       0       0       0       0       0  \n",
       "3       0       0       0       0       0  \n",
       "4       0       0       0       0       0  "
      ]
     },
     "execution_count": 32,
     "metadata": {},
     "output_type": "execute_result"
    }
   ],
   "source": [
    "sample = pd.read_csv(\"sample.csv\")\n",
    "sample.head()"
   ]
  },
  {
   "cell_type": "code",
   "execution_count": 33,
   "metadata": {},
   "outputs": [
    {
     "data": {
      "text/plain": [
       "1158.7093813381214"
      ]
     },
     "execution_count": 33,
     "metadata": {},
     "output_type": "execute_result"
    }
   ],
   "source": [
    "my_sample = pd.read_csv(\"internal_submission.csv\")\n",
    "my_sample.drop([\"Unnamed: 0\"], axis=1, inplace=True)\n",
    "my_sample.columns = sample.columns\n",
    "# my_sample.head()\n",
    "rmse(my_sample, groudtruth)"
   ]
  },
  {
   "cell_type": "code",
   "execution_count": 34,
   "metadata": {},
   "outputs": [
    {
     "data": {
      "text/plain": [
       "1162.0487741133481"
      ]
     },
     "execution_count": 34,
     "metadata": {},
     "output_type": "execute_result"
    }
   ],
   "source": [
    "m = pd.DataFrame([], columns=sample.columns)\n",
    "for col in sample.columns:\n",
    "    if col==\"id\":\n",
    "        continue\n",
    "    m[col] = my_sample[col]\n",
    "    \n",
    "rmse(m, groudtruth)"
   ]
  },
  {
   "cell_type": "code",
   "execution_count": null,
   "metadata": {},
   "outputs": [],
   "source": []
  }
 ],
 "metadata": {
  "kernelspec": {
   "display_name": "Python 3",
   "language": "python",
   "name": "python3"
  },
  "language_info": {
   "codemirror_mode": {
    "name": "ipython",
    "version": 3
   },
   "file_extension": ".py",
   "mimetype": "text/x-python",
   "name": "python",
   "nbconvert_exporter": "python",
   "pygments_lexer": "ipython3",
   "version": "3.7.7"
  }
 },
 "nbformat": 4,
 "nbformat_minor": 4
}
